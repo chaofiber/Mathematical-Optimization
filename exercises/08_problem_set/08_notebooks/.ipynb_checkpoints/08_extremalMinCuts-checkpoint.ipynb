{
 "cells": [
  {
   "cell_type": "markdown",
   "metadata": {},
   "source": [
    "# Exercise: Compute inclusion-wise minimal/maximal minimum s-t-cuts\n",
    "<font color='blue'><b>Goal:</b></font>\n",
    "Revisit cuts and flows and learn about their structure.\n",
    "\n",
    "<font color='blue'><b>Python packages required:</b></font>\n",
    "`networkx`, `pulp`"
   ]
  },
  {
   "cell_type": "markdown",
   "metadata": {},
   "source": [
    "## Uniqueness of minimal/maximal minimum $s$-$t$ cuts\n",
    "\n",
    "<font color=\"blue\"><b>Your first task:</b></font> Prove the following two statements about minimum $s$-$t$ cuts in a directed graph $G=(V,A)$ with edge capacities $u\\colon A\\to\\mathbb{Z}_{\\geq 0}$, and two distinct vertices $s,t\\in V$.\n",
    "\n",
    "- There is a unique inclusion-wise minimal minimum $s$-$t$ cut in $G$.\n",
    "- There is a unique inclusion-wise maximal minimum $s$-$t$ cut in $G$.\n",
    "\n",
    "Note that this is *not* a coding exercise."
   ]
  },
  {
   "cell_type": "markdown",
   "metadata": {},
   "source": [
    "## A characterization in terms of residual graphs\n",
    "\n",
    "<font color=\"blue\"><b>Your second task:</b></font> Prove the following two statements about extremal minimum $s$-$t$ cuts in a directed graph $G=(V,A)$ with edge capacities $u\\colon A\\to\\mathbb{Z}_{\\geq 0}$, and two distinct vertices $s,t\\in V$.\n",
    "\n",
    "Let $f$ be a maximum flow in $(G,u)$, let $G_f=(V,B)$ be the corresponding residual graph, and let $U_f:= \\{b\\in B\\colon u_f(b)>0\\}$ denote the edges with positive residual capacities.\n",
    "\n",
    "- Prove that the set of vertices reachable from $s$ in $(V,U_f)$ is the inclusion-wise minimal minimum $s$-$t$ cut.\n",
    "- Prove that the complement of the set of vertices from which $t$ is reachable in $(V,U_f)$ is the inclusion-wise maximal minimum $s$-$t$ cut.\n",
    "\n",
    "Note that this is *not* a coding exercise either."
   ]
  },
  {
   "cell_type": "markdown",
   "metadata": {},
   "source": [
    "## Finding the minimal/maximal minimum $s$-$t$ cuts\n",
    "\n",
    "### A toy example\n",
    "Consider the toy example graph $G$ generated and displayed by the function `toygraph()` in the helper module `extremalMinCuts.py`."
   ]
  },
  {
   "cell_type": "code",
   "execution_count": 1,
   "metadata": {},
   "outputs": [
    {
     "data": {
      "image/png": "[encoded data removed]",
      "text/plain": [
       "<Figure size 432x288 with 1 Axes>"
      ]
     },
     "metadata": {},
     "output_type": "display_data"
    }
   ],
   "source": [
    "import extremalMinCuts as helpers\n",
    "%matplotlib inline\n",
    "\n",
    "# Create and plot a toy graph\n",
    "G0 = helpers.toygraph()"
   ]
  },
  {
   "cell_type": "markdown",
   "metadata": {},
   "source": [
    "<font color=\"blue\"><b>Your third task:</b></font> Complete the following by hand:\n",
    "- Find *all* minimum $s$-$t$ cuts in $G$ with the indicated edge capacities.\n",
    "- Find the unique minimal and maximal minimum $s$-$t$ cuts in $G$."
   ]
  },
  {
   "cell_type": "markdown",
   "metadata": {},
   "source": [
    "### Implementation\n",
    "\n",
    "<font color=\"blue\"><b>Your fourth task:</b></font> Complete the function `extremal_min_cut(G, s, t, min_or_max)`, where `min_or_max` is set to `\"max\"` or `\"min\"` for finding the maximal or minimal minimum $s$-$t$ cut in $G$, respectively.\n",
    "\n",
    "*Hint: You may want to use `nx.maximum_flow(G, s, t)` to compute a maximum $s$-$t$ flow in $G$, and `nx.descendants(G, v)` as well as `nx.ancestors(G, v)` to compute the subset of vertices of a digraph $G$ that are reachable from $v$ and from which $v$ can be reached, respectively.*"
   ]
  },
  {
   "cell_type": "code",
   "execution_count": 7,
   "metadata": {},
   "outputs": [],
   "source": [
    "def extremal_min_cut(G, s, t, min_or_max):\n",
    "    \n",
    "    ### Implement your function here、\n",
    "    import networkx as nx\n",
    "    _, f = nx.maximum_flow(G, \"s\", \"t\")\n",
    "    \n",
    "    # build residual graph R (contraining all arcs with residual capacity >0)\n",
    "    R = nx.DiGraph()\n",
    "    R.add_nodes_from(G.nodes())\n",
    "    for (u,v) in G.edges:\n",
    "        if f[u][v] < G[u][v][\"capacity\"]:\n",
    "            R.add_edge(u,v)\n",
    "        if f[u][v] > 0 :\n",
    "            R.add_edge(v,u)\n",
    "    \n",
    "    # find the right vertex sets\n",
    "    if min_or_max == \"min\":\n",
    "        print(nx.descendants(R,\"s\"))\n",
    "        return nx.descendants(R,\"s\").union(\"s\")\n",
    "    if min_or_max == \"max\":\n",
    "        return R.nodes() - nx.ancestors(R, \"t\").union(\"t\")"
   ]
  },
  {
   "cell_type": "markdown",
   "metadata": {},
   "source": [
    "### Testing your implementation\n",
    "Once your function `extremal_min_cut( )` is complete, you can run the code below to test it."
   ]
  },
  {
   "cell_type": "markdown",
   "metadata": {},
   "source": [
    "We start with finding the maximal and minimal minimum $s$-$t$ cuts in the toy example considered above. Note that the code below uses the helper function `draw_cut( )`."
   ]
  },
  {
   "cell_type": "code",
   "execution_count": 3,
   "metadata": {},
   "outputs": [
    {
     "name": "stdout",
     "output_type": "stream",
     "text": [
      "Maximal minimum s-t cut:\n"
     ]
    },
    {
     "data": {
      "image/png": "[encoded data removed]",
      "text/plain": [
       "<Figure size 432x288 with 1 Axes>"
      ]
     },
     "metadata": {},
     "output_type": "display_data"
    }
   ],
   "source": [
    "vertex_pos  = {\"F\": (0, .5), \"G\": (1, 1), \"C\": (1, 0), \"s\": (-1, 0.5), \"t\": (2, .5)}\n",
    "print(\"Maximal minimum s-t cut:\")\n",
    "helpers.draw_cut(G0, extremal_min_cut(G0,\"s\",\"t\",\"max\"), node_pos = vertex_pos)"
   ]
  },
  {
   "cell_type": "code",
   "execution_count": 8,
   "metadata": {},
   "outputs": [
    {
     "name": "stdout",
     "output_type": "stream",
     "text": [
      "Minimal minimum s-t cut:\n"
     ]
    },
    {
     "data": {
      "image/png": "[encoded data removed]",
      "text/plain": [
       "<Figure size 432x288 with 1 Axes>"
      ]
     },
     "metadata": {},
     "output_type": "display_data"
    }
   ],
   "source": [
    "print(\"Minimal minimum s-t cut:\")\n",
    "helpers.draw_cut(G0, extremal_min_cut(G0,\"s\",\"t\",\"min\"), node_pos = vertex_pos)"
   ]
  },
  {
   "cell_type": "markdown",
   "metadata": {},
   "source": [
    "There are also helper functions for generating random capacitated graphs on which you can test your approaches."
   ]
  },
  {
   "cell_type": "code",
   "execution_count": null,
   "metadata": {},
   "outputs": [],
   "source": [
    "G = helpers.random_graph(5)"
   ]
  },
  {
   "cell_type": "code",
   "execution_count": null,
   "metadata": {},
   "outputs": [],
   "source": [
    "print(\"Maximal minimum s-t cut\")\n",
    "helpers.draw_cut(G, extremal_min_cut(G, \"s\", \"t\", \"max\"))"
   ]
  },
  {
   "cell_type": "code",
   "execution_count": null,
   "metadata": {},
   "outputs": [],
   "source": [
    "print(\"Minimal minimum s-t cut\")\n",
    "helpers.draw_cut(G, extremal_min_cut(G, \"s\", \"t\", \"min\"))"
   ]
  }
 ],
 "metadata": {
  "kernelspec": {
   "display_name": "Python 3",
   "language": "python",
   "name": "python3"
  },
  "language_info": {
   "codemirror_mode": {
    "name": "ipython",
    "version": 3
   },
   "file_extension": ".py",
   "mimetype": "text/x-python",
   "name": "python",
   "nbconvert_exporter": "python",
   "pygments_lexer": "ipython3",
   "version": "3.6.8"
  }
 },
 "nbformat": 4,
 "nbformat_minor": 4
}
