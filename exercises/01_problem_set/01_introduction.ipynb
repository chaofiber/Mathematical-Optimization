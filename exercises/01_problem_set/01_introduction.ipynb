{
 "cells": [
  {
   "cell_type": "markdown",
   "metadata": {},
   "source": [
    "# Getting started with Jupyter Notebooks and Python\n",
    "\n",
    "This notebook is intended to help you get started with both Jupyter Notebooks and Python. Work through it and you'll know the basics to start coding yourself!\n",
    "\n",
    "We assume that you view your notebooks in the JupyterLab environment, which you installed and started as explained on the course website.\n",
    "\n",
    "---\n",
    "\n",
    "## Running Python code\n",
    "\n",
    "Jupyter Notebooks are a handy way of running (in our case) Python code. For example, select the following code cell by clicking into it, and run it by hitting `Shift + Enter`."
   ]
  },
  {
   "cell_type": "code",
   "execution_count": null,
   "metadata": {},
   "outputs": [],
   "source": [
    "print(\"Welcome to your first Pyhton notebook!\")"
   ]
  },
  {
   "cell_type": "markdown",
   "metadata": {},
   "source": [
    "Thus, whenever you've got a code cell, there is a Python interpreter running in the background, returning the output once the cell is run. In the example above, we just printed some text to standard output, which is displayed below the cell. Also check out the following examples by running the cells:"
   ]
  },
  {
   "cell_type": "code",
   "execution_count": null,
   "metadata": {},
   "outputs": [],
   "source": [
    "26.0*9/5 + 32"
   ]
  },
  {
   "cell_type": "code",
   "execution_count": null,
   "metadata": {},
   "outputs": [],
   "source": [
    "x = 26.0\n",
    "y = x*9/5 + 32"
   ]
  },
  {
   "cell_type": "code",
   "execution_count": null,
   "metadata": {},
   "outputs": [],
   "source": [
    "print(f\"{x} degrees Celsius is {y} degrees Fahrenheit.\")"
   ]
  },
  {
   "cell_type": "markdown",
   "metadata": {},
   "source": [
    "In the first cell above, we did a simple calculation (converting 26 degrees Celsius to Fahrenheit), using the Python cell as a calculator. In the second cell, we created variables `x` and `y` holding the respective Celsius and Fahrenheit values, and we printed a nicely formatted string in the end.\n",
    "\n",
    "Use the empty code cells below to try out more calculations and variable assignments like this!"
   ]
  },
  {
   "cell_type": "code",
   "execution_count": null,
   "metadata": {},
   "outputs": [],
   "source": []
  },
  {
   "cell_type": "code",
   "execution_count": null,
   "metadata": {},
   "outputs": [],
   "source": []
  },
  {
   "cell_type": "code",
   "execution_count": null,
   "metadata": {},
   "outputs": [],
   "source": []
  },
  {
   "cell_type": "code",
   "execution_count": null,
   "metadata": {},
   "outputs": [],
   "source": []
  },
  {
   "cell_type": "markdown",
   "metadata": {},
   "source": [
    "---\n",
    "\n",
    "## Cells: The base blocks of Jupyter Notebooks\n",
    "\n",
    "In the above example, you surely noticed that Jupyter Notebooks are organized in cells. If you hit your arrow keys, you can navigate up and down through the cells (note the bar on the left indicating the active cell).\n",
    "\n",
    "An active cell can be in one of two modes:\n",
    "\n",
    "- _Edit mode:_ Indicated by the blinking cursor in the cell and the cell borders highlighted in blue. In this mode, you can write text into the cell and move around the cursor using your arrow keys.\n",
    "- _Command mode:_ The cell is selected (indicated by the blue bar on the left), but not in edit mode. In this state, you cannot add text to the cell, but you can use keyboard shortcuts for interactions with the notebook.\n",
    "\n",
    "### Switching modes\n",
    "\n",
    "If in edit mode, you can switch to command mode by hitting the `Esc` key. For the other direction, hit the `Enter` key.\n",
    "\n",
    "Try to change this cell to edit mode! You will see the raw text that gave this nicely formatted cell, and you'll have to run the cell (by pressing `Shift + Enter` in either mode) to get back the formatted text."
   ]
  },
  {
   "cell_type": "markdown",
   "metadata": {},
   "source": [
    "### Useful shortcuts in command mode\n",
    "\n",
    "In command mode, there are plenty shortcuts available that simplify navigating in and working with the notebook. To start with, the following are the most important ones:\n",
    "\n",
    "- `Shift + Enter`: Run the active cell and advance to the next one. This command has the variations `Ctrl + Enter` and `Alt + Enter` for running the cell without advancing to the next one or with creating an empty cell below, respectively.\n",
    "- `a` and `b`: Insert a new cell **a**bove or **b**elow the currently selected one, respectively.\n",
    "- `d, d`: Pressing `d` twice in a row, you delete the selected cell.\n",
    "- `x`, `c`, and `v`: Shortcuts for cutting, copying, and pasting cells, respectively.\n",
    "- `z`: Revert the last changes (on cell level). This is what you need if you accidentally deleted a cell, for example.\n",
    "\n",
    "*Note: For cutting, copying, pasting, and reverting changes in edit mode, you can use the usual shortcuts `Ctrl + x`, `Ctrl + c`, `Ctrl + v`, and `Ctrl + z`.*\n",
    "\n",
    "Of course, you can do all of the above using your mouse (right click to access potential actions or choose from the small toolbar above), but keyboard shortcuts are mostly the faster way to go, and we'd encourage you to use them! :)\n",
    "\n",
    "For a complete list of available shortcuts, see for example [this page](https://blog.ja-ke.tech/2019/01/20/jupyterlab-shortcuts.html)."
   ]
  },
  {
   "cell_type": "markdown",
   "metadata": {},
   "source": [
    "### Cell types\n",
    "\n",
    "Before we get back to actual Python code, let us make you aware of the three different cell types. When navigating up and down through the cells, you might have noticed how the cell type shown in the toolbar at the top of the notebook view changes. There are three types of cells:\n",
    "\n",
    "- _Code cells:_ These cells contain (in our case) Python code that can later be executed, as we have seen above.\n",
    "- _Markdown cells:_ The cell you are just reading is a Markdown cell. It holds text formatted using the Markdown syntax. If you want to learn how this works, a good start is to view Markdown cells in edit mode and see what the underlying code is!\n",
    "- _Raw cells:_ These cells contain raw text without any formatting.\n",
    "\n",
    "Compare what happens if you change the cell types for the following three cells and then try to run them! In command mode, the shortcuts to change the type to code, Markdown, and raw cells are `y`, `m`, and `r`, respectively."
   ]
  },
  {
   "cell_type": "code",
   "execution_count": null,
   "metadata": {},
   "outputs": [],
   "source": [
    "# This is a code cell.\n",
    "z = 5 + 3\n",
    "print(z)"
   ]
  },
  {
   "cell_type": "markdown",
   "metadata": {},
   "source": [
    "This is a *Markdown* cell, where text can be **formatted** using the `Markdown syntax`."
   ]
  },
  {
   "cell_type": "raw",
   "metadata": {},
   "source": [
    "This is a raw text cell."
   ]
  },
  {
   "cell_type": "markdown",
   "metadata": {},
   "source": [
    "---\n",
    "\n",
    "## Back to Python\n",
    "Now that you've seen the basics of how to work with Jupyter Notebooks, let's get back to some actual Python code.\n",
    "\n",
    "Note that the variables set earlier always remain available, thus we can now, for example, sum the variables `x`, `y`, and `z` that we introduced earlier. Once we change one of the variables, the sum of course changes as well once we recalculate it.\n",
    "\n",
    "*Good to know: In Python, anything that comes after a `#` is considered a comment and not executed.*"
   ]
  },
  {
   "cell_type": "code",
   "execution_count": null,
   "metadata": {},
   "outputs": [],
   "source": [
    "# The current sum.\n",
    "x+y+z"
   ]
  },
  {
   "cell_type": "code",
   "execution_count": null,
   "metadata": {},
   "outputs": [],
   "source": [
    "x = 1000"
   ]
  },
  {
   "cell_type": "code",
   "execution_count": null,
   "metadata": {},
   "outputs": [],
   "source": [
    "# We changed x above so the sum will no longer be the same!\n",
    "x+y+z"
   ]
  },
  {
   "cell_type": "markdown",
   "metadata": {},
   "source": [
    "### Types in Python: Don't worry too much!\n",
    "\n",
    "Python has some basic built-in types for representing integers, floating point numbers, boolean values, or strings. But there is usually no need to specify these types, Python gets them right for you."
   ]
  },
  {
   "cell_type": "code",
   "execution_count": null,
   "metadata": {},
   "outputs": [],
   "source": [
    "b = True # bool\n",
    "s = \"An example string.\" # string"
   ]
  },
  {
   "cell_type": "markdown",
   "metadata": {},
   "source": [
    "If you want to get information about a variable, for example the `s` above, type the variable name followed by a question mark into a code cell and run it."
   ]
  },
  {
   "cell_type": "code",
   "execution_count": null,
   "metadata": {},
   "outputs": [],
   "source": [
    "s?"
   ]
  },
  {
   "cell_type": "markdown",
   "metadata": {},
   "source": [
    "Compare the information you get for the variables `x` and `y` that we used above! Python noticed that one is an integer, while the other is a floating point number, without us declaring so."
   ]
  },
  {
   "cell_type": "markdown",
   "metadata": {},
   "source": [
    "### Data structures\n",
    "\n",
    "You will mostly need the following four basic data structures in Python: Lists, tuples, dictionaries, and sets.\n",
    "\n",
    "#### Lists\n",
    "Lists are a very flexible data structure. You get them by enclosing objects in square brackets. To access an element of your list, type the lists name followed by an index in square brackets. Lists are mutable, so if you construct a list, you can later change what you put in there."
   ]
  },
  {
   "cell_type": "code",
   "execution_count": null,
   "metadata": {},
   "outputs": [],
   "source": [
    "l = [1000, 4, 3.141, True, \"lists are so flexible!\"]"
   ]
  },
  {
   "cell_type": "code",
   "execution_count": null,
   "metadata": {},
   "outputs": [],
   "source": [
    "# list access; note that indices are counted from 0!\n",
    "l[2]"
   ]
  },
  {
   "cell_type": "code",
   "execution_count": null,
   "metadata": {},
   "outputs": [],
   "source": [
    "# change the second element of the list\n",
    "l[1] = \"No longer the number 4 here.\"\n",
    "l"
   ]
  },
  {
   "cell_type": "code",
   "execution_count": null,
   "metadata": {},
   "outputs": [],
   "source": [
    "# creating a long list of ones\n",
    "15 * [1]"
   ]
  },
  {
   "cell_type": "markdown",
   "metadata": {},
   "source": [
    "#### Tuples\n",
    "Tuples are similar to lists, but they are immutable, which means that you cannot change their content once set. You can construct a tuple using parentheses."
   ]
  },
  {
   "cell_type": "code",
   "execution_count": null,
   "metadata": {},
   "outputs": [],
   "source": [
    "t = (1000, 3.141, \"this text will not be overwritten\", True)"
   ]
  },
  {
   "cell_type": "code",
   "execution_count": null,
   "metadata": {},
   "outputs": [],
   "source": [
    "# as before, access using square brackets\n",
    "t[2]"
   ]
  },
  {
   "cell_type": "code",
   "execution_count": null,
   "metadata": {},
   "outputs": [],
   "source": [
    "# this gives an error\n",
    "t[2] = \"I'll anyways try!\""
   ]
  },
  {
   "cell_type": "markdown",
   "metadata": {},
   "source": [
    "#### Dictionaries\n",
    "Dictionaries store pairs consisting of a key and a value. Be aware that dictionaries are not sorted!"
   ]
  },
  {
   "cell_type": "code",
   "execution_count": null,
   "metadata": {},
   "outputs": [],
   "source": [
    "# You can use curly brackets to define a dictionary.\n",
    "d = {\"car\":\"Auto\", \"apple\":\"Apfel\", \"socks\":\"Socken\", \"university\":\"Universität\"}\n",
    "\n",
    "d[\"car\"]"
   ]
  },
  {
   "cell_type": "code",
   "execution_count": null,
   "metadata": {},
   "outputs": [],
   "source": [
    "# There are different ways to create dictionaries!\n",
    "d2 = dict([(\"first\", [1,2,3]), (\"second\", [2,4,6,6,8]), (\"third\",[2,8,2,3])])\n",
    "\n",
    "d2[\"first\"]"
   ]
  },
  {
   "cell_type": "code",
   "execution_count": null,
   "metadata": {},
   "outputs": [],
   "source": [
    "# you can add key-value pairs to the dictionary by simply assigning values\n",
    "d[\"blackboard\"] = \"Tafel\"\n",
    "\n",
    "d"
   ]
  },
  {
   "cell_type": "markdown",
   "metadata": {},
   "source": [
    "#### Sets\n",
    "\n",
    "Sets can be constructed from a sequence (i.e., list or tuple), and they resemble sets in a mathematical sense: elements cannot appear twice. Sets come with useful operations like intersection, testing subset relations, or difference operations. In sets, the elements are not sorted in a particular way."
   ]
  },
  {
   "cell_type": "code",
   "execution_count": null,
   "metadata": {},
   "outputs": [],
   "source": [
    "# Use the `set` keyword to define a set.\n",
    "s1 = set([1,2,3,4,1])\n",
    "s2 = set([3,4,5,6])\n",
    "s3 = set([1,2,3,4])"
   ]
  },
  {
   "cell_type": "code",
   "execution_count": null,
   "metadata": {},
   "outputs": [],
   "source": [
    "# note that s1 and s3 contain the same elements\n",
    "#(it does not matter if a given element appears multiple times in the definition of a set)\n",
    "s1 == s3"
   ]
  },
  {
   "cell_type": "code",
   "execution_count": null,
   "metadata": {},
   "outputs": [],
   "source": [
    "# union\n",
    "s1 | s2"
   ]
  },
  {
   "cell_type": "code",
   "execution_count": null,
   "metadata": {},
   "outputs": [],
   "source": [
    "# subset testing\n",
    "s1 < s2"
   ]
  },
  {
   "cell_type": "code",
   "execution_count": null,
   "metadata": {},
   "outputs": [],
   "source": [
    "# difference\n",
    "s1 - s2 "
   ]
  },
  {
   "cell_type": "code",
   "execution_count": null,
   "metadata": {},
   "outputs": [],
   "source": [
    "# symmetric difference\n",
    "s1 ^ s2"
   ]
  },
  {
   "cell_type": "code",
   "execution_count": null,
   "metadata": {},
   "outputs": [],
   "source": [
    "# removing duplicates from a list via sets\n",
    "l = [1,2,5,3,2,5,10,1,3,2,10,5]\n",
    "l_unique = list(set(l))\n",
    "l_unique"
   ]
  },
  {
   "cell_type": "markdown",
   "metadata": {},
   "source": [
    "#### Built-in functions\n",
    "The above four basic data structures come with lots of built-in functionality. Below, you find a selection of such functions. Try to play around with them a bit! The list below is by no means exhaustive; you can check the [official reference](https://docs.python.org/3/library/stdtypes.html#sequence-types-list-tuple-range) for more."
   ]
  },
  {
   "cell_type": "code",
   "execution_count": null,
   "metadata": {},
   "outputs": [],
   "source": [
    "# length of a list\n",
    "len(l)"
   ]
  },
  {
   "cell_type": "code",
   "execution_count": null,
   "metadata": {},
   "outputs": [],
   "source": [
    "l.append(\"Lets append something to the list.\")\n",
    "l"
   ]
  },
  {
   "cell_type": "code",
   "execution_count": null,
   "metadata": {},
   "outputs": [],
   "source": [
    "# concatenating lists\n",
    "l + [10,20,30]"
   ]
  },
  {
   "cell_type": "code",
   "execution_count": null,
   "metadata": {},
   "outputs": [],
   "source": [
    "l.insert(2,\"insertion at index 2\")\n",
    "l"
   ]
  },
  {
   "cell_type": "code",
   "execution_count": null,
   "metadata": {},
   "outputs": [],
   "source": [
    "# check if \"car\" is a key in the dictionary d\n",
    "\"car\" in d"
   ]
  },
  {
   "cell_type": "code",
   "execution_count": null,
   "metadata": {},
   "outputs": [],
   "source": [
    "# check if \"Bus\" is a value in the dictionary d\n",
    "\"Bus\" in d.values()"
   ]
  },
  {
   "cell_type": "code",
   "execution_count": null,
   "metadata": {},
   "outputs": [],
   "source": [
    "# sorting\n",
    "l = [1,2,5,3,2,5,10,1,3,2,10,5]\n",
    "list.sort(l)\n",
    "l"
   ]
  },
  {
   "cell_type": "markdown",
   "metadata": {},
   "source": [
    "---\n",
    "\n",
    "## Loops, if/else statements, and functions\n",
    "\n",
    "As one of the last ingredients to get you ready for programming yourself, we introduce loops, if/else statements, and functions.\n",
    "\n",
    "### Loops and if/else statements\n",
    "\n",
    "Python supports two kinds of loops: `while`-loops and `for`-loops. The following example shows a simple while loop."
   ]
  },
  {
   "cell_type": "code",
   "execution_count": null,
   "metadata": {},
   "outputs": [],
   "source": [
    "x = 0\n",
    "while x < 10:\n",
    "    print(f\"The square of {x} is {x**2}.\")\n",
    "    x += 1\n",
    "print(\"This is no longer part of the while-loop body.\")"
   ]
  },
  {
   "cell_type": "markdown",
   "metadata": {},
   "source": [
    "Observe the structure of a while-loop: The `while` keyword is followed by a boolean expression and a colon. The subsequent block is then indented (here, it is indented by a tab, but you could also use any fixed number of spaces), and everything that is indented is part of the while-loop body. In constrast to other programming languages, indentation is an essential part of the Pyhton syntax, so you cannot just use it as you wish!\n",
    "\n",
    "If, for example, we are only interested in the squares of odd numbers, we can combine the above while-loop with an if/else-block:"
   ]
  },
  {
   "cell_type": "code",
   "execution_count": 5,
   "metadata": {},
   "outputs": [
    {
     "name": "stdout",
     "output_type": "stream",
     "text": [
      "0 is even.\n",
      "1 is odd and its square is 1\n",
      "2 is even.\n",
      "3 is odd and its square is 9\n",
      "4 is even.\n",
      "5 is odd and its square is 25\n",
      "6 is even.\n",
      "7 is odd and its square is 49\n",
      "8 is even.\n",
      "9 is odd and its square is 81\n"
     ]
    }
   ],
   "source": [
    "x = 0\n",
    "while x < 10:\n",
    "    if x % 2 == 0:\n",
    "        print(f\"{x} is even.\")\n",
    "    else:\n",
    "        print(f\"{x} is odd and its square is {x**2}\")\n",
    "    x += 1"
   ]
  },
  {
   "cell_type": "markdown",
   "metadata": {},
   "source": [
    "Note that an `if`-block can also be on its own without an `else`-block (don't forget the indentation, though!).\n",
    "\n",
    "Actually, for what we were doing above, namely iterating through all integers from 0 to 9, a for-loop is more suitable:"
   ]
  },
  {
   "cell_type": "code",
   "execution_count": null,
   "metadata": {},
   "outputs": [],
   "source": [
    "for x in range(10):\n",
    "    print(x**2)"
   ]
  },
  {
   "cell_type": "markdown",
   "metadata": {},
   "source": [
    "The `range()` function is very useful for such loops. It can be called with one, two, or three arguments. Try to find out how to use them from the help that you get below!"
   ]
  },
  {
   "cell_type": "code",
   "execution_count": null,
   "metadata": {},
   "outputs": [],
   "source": [
    "range?"
   ]
  },
  {
   "cell_type": "markdown",
   "metadata": {},
   "source": [
    "We can actually iterate through any iterable type (lists, tuples, sets, dictionaries). Let's check the tuple that we constructed earlier:"
   ]
  },
  {
   "cell_type": "code",
   "execution_count": null,
   "metadata": {},
   "outputs": [],
   "source": [
    "for x in t:\n",
    "    print(x)"
   ]
  },
  {
   "cell_type": "markdown",
   "metadata": {},
   "source": [
    "#### List comprehension\n",
    "\n",
    "Imagine you want to create a list of the first ten squares, instead of just printing them as above, or going through them in a loop. Of course, we could build such a list using a loop as follows:"
   ]
  },
  {
   "cell_type": "code",
   "execution_count": 6,
   "metadata": {},
   "outputs": [
    {
     "data": {
      "text/plain": [
       "[0, 1, 4, 9, 16, 25, 36, 49, 64, 81]"
      ]
     },
     "execution_count": 6,
     "metadata": {},
     "output_type": "execute_result"
    }
   ],
   "source": [
    "squares = []\n",
    "for x in range(10):\n",
    "    squares.append(x**2)\n",
    "squares"
   ]
  },
  {
   "cell_type": "markdown",
   "metadata": {},
   "source": [
    "Python offers a more concise way of writing this, however, which is the list comprehension syntax:"
   ]
  },
  {
   "cell_type": "code",
   "execution_count": null,
   "metadata": {},
   "outputs": [],
   "source": [
    "concise_squares = [x**2 for x in range(10)]\n",
    "concise_squares"
   ]
  },
  {
   "cell_type": "markdown",
   "metadata": {},
   "source": [
    "List comprehension also allows the use of additional filters using an if statement. To get the squares of the odd numbers only, we could write the following:"
   ]
  },
  {
   "cell_type": "code",
   "execution_count": null,
   "metadata": {},
   "outputs": [],
   "source": [
    "odd_squares = [x**2 for x in range(10) if x % 2 == 1]\n",
    "odd_squares"
   ]
  },
  {
   "cell_type": "markdown",
   "metadata": {},
   "source": [
    "### Functions\n",
    "\n",
    "To write somewhat structured code and avoid code repetition, functions are indispensable. Function definitions in Python start with the `def` keyword, followed by the function name, a list of arguments, and a colon. The subsequent function body is indented, and a `return` keyword indicates what the function returns. This is demonstrated in the following example:"
   ]
  },
  {
   "cell_type": "code",
   "execution_count": 8,
   "metadata": {},
   "outputs": [],
   "source": [
    "def celsiusToFahrenheit(x):\n",
    "    y = x*9/5 + 32\n",
    "    return y"
   ]
  },
  {
   "cell_type": "code",
   "execution_count": 9,
   "metadata": {},
   "outputs": [
    {
     "name": "stdout",
     "output_type": "stream",
     "text": [
      "-20 degrees Celsius is -4.0 degrees Fahrenheit.\n",
      "-14 degrees Celsius is 6.800000000000001 degrees Fahrenheit.\n",
      "-8 degrees Celsius is 17.6 degrees Fahrenheit.\n",
      "-2 degrees Celsius is 28.4 degrees Fahrenheit.\n",
      "4 degrees Celsius is 39.2 degrees Fahrenheit.\n",
      "10 degrees Celsius is 50.0 degrees Fahrenheit.\n",
      "16 degrees Celsius is 60.8 degrees Fahrenheit.\n",
      "22 degrees Celsius is 71.6 degrees Fahrenheit.\n",
      "28 degrees Celsius is 82.4 degrees Fahrenheit.\n",
      "34 degrees Celsius is 93.2 degrees Fahrenheit.\n",
      "40 degrees Celsius is 104.0 degrees Fahrenheit.\n"
     ]
    }
   ],
   "source": [
    "for x in range(-20,45,6):\n",
    "    print(f\"{x} degrees Celsius is {celsiusToFahrenheit(x)} degrees Fahrenheit.\")"
   ]
  },
  {
   "cell_type": "markdown",
   "metadata": {},
   "source": [
    "In case you don't like the aesthetics of the above printouts (note how the numbers are not aligned), there is a way to fix it (play around with the numbers to see what happens):"
   ]
  },
  {
   "cell_type": "code",
   "execution_count": 11,
   "metadata": {},
   "outputs": [
    {
     "name": "stdout",
     "output_type": "stream",
     "text": [
      "-20.00 degrees Celsius is -4.00 degrees Fahrenheit.\n",
      "-14.00 degrees Celsius is  6.80 degrees Fahrenheit.\n",
      "-8.00 degrees Celsius is 17.60 degrees Fahrenheit.\n",
      "-2.00 degrees Celsius is 28.40 degrees Fahrenheit.\n",
      " 4.00 degrees Celsius is 39.20 degrees Fahrenheit.\n",
      "10.00 degrees Celsius is 50.00 degrees Fahrenheit.\n",
      "16.00 degrees Celsius is 60.80 degrees Fahrenheit.\n",
      "22.00 degrees Celsius is 71.60 degrees Fahrenheit.\n",
      "28.00 degrees Celsius is 82.40 degrees Fahrenheit.\n",
      "34.00 degrees Celsius is 93.20 degrees Fahrenheit.\n",
      "40.00 degrees Celsius is 104.00 degrees Fahrenheit.\n"
     ]
    }
   ],
   "source": [
    "width = 5\n",
    "precision = 2\n",
    "for x in range(-20,45,6):\n",
    "    print(f\"{x:{width}.{precision}f} degrees Celsius is {celsiusToFahrenheit(x):{width}.{precision}f} degrees Fahrenheit.\")"
   ]
  },
  {
   "cell_type": "markdown",
   "metadata": {},
   "source": [
    "---\n",
    "\n",
    "## Loading and using modules\n",
    "\n",
    "Python comes with many built-in modules that are ready to be used: Just import them using an `import` statement. As an example, we have a look at the `math` module that provides various mathematical functions and constants.\n",
    "\n",
    "There are different ways to import a module, or only parts of it. If, for example, you only need the constant $\\pi$ from the `math` module, you can import it as follows:"
   ]
  },
  {
   "cell_type": "code",
   "execution_count": null,
   "metadata": {},
   "outputs": [],
   "source": [
    "from math import pi"
   ]
  },
  {
   "cell_type": "code",
   "execution_count": null,
   "metadata": {},
   "outputs": [],
   "source": [
    "pi"
   ]
  },
  {
   "cell_type": "markdown",
   "metadata": {},
   "source": [
    "If you want to import everything from the `math` module, you can use an asterisk:"
   ]
  },
  {
   "cell_type": "code",
   "execution_count": null,
   "metadata": {},
   "outputs": [],
   "source": [
    "from math import *"
   ]
  },
  {
   "cell_type": "code",
   "execution_count": null,
   "metadata": {},
   "outputs": [],
   "source": [
    "floor(pi)"
   ]
  },
  {
   "cell_type": "markdown",
   "metadata": {},
   "source": [
    "Note, however, that this way of importing from modules easily creates a mess. If, for example, you have a variable $p_i$ that you name `pi` in your code, you will overwrite the constant `pi` from the `math` module."
   ]
  },
  {
   "cell_type": "code",
   "execution_count": null,
   "metadata": {},
   "outputs": [],
   "source": [
    "pi = 7"
   ]
  },
  {
   "cell_type": "code",
   "execution_count": null,
   "metadata": {},
   "outputs": [],
   "source": [
    "pi"
   ]
  },
  {
   "cell_type": "markdown",
   "metadata": {},
   "source": [
    "The safer way to go is to just import the `math` module, and then use `math.pi`, for example."
   ]
  },
  {
   "cell_type": "code",
   "execution_count": null,
   "metadata": {},
   "outputs": [],
   "source": [
    "import math"
   ]
  },
  {
   "cell_type": "code",
   "execution_count": null,
   "metadata": {},
   "outputs": [],
   "source": [
    "math.pi"
   ]
  },
  {
   "cell_type": "code",
   "execution_count": null,
   "metadata": {},
   "outputs": [],
   "source": [
    "math.floor(math.pi)"
   ]
  },
  {
   "cell_type": "markdown",
   "metadata": {},
   "source": [
    "A last option is to use alternative names for things you import. We will, for example, use the `networkx` module a lot. Always typing `networkx` might feel cumbersome, so we can import it with the shorter alternative name `nx`. Another example is to import the constant `pi` from `math` using the different name `PI`."
   ]
  },
  {
   "cell_type": "code",
   "execution_count": null,
   "metadata": {},
   "outputs": [],
   "source": [
    "import networkx as nx\n",
    "g = nx.Graph()\n",
    "g"
   ]
  },
  {
   "cell_type": "code",
   "execution_count": null,
   "metadata": {},
   "outputs": [],
   "source": [
    "from math import pi as PI\n",
    "PI"
   ]
  },
  {
   "cell_type": "markdown",
   "metadata": {},
   "source": [
    "---\n",
    "\n",
    "## That's it! Have fun playing around yourself!\n",
    "\n",
    "---"
   ]
  },
  {
   "cell_type": "code",
   "execution_count": 12,
   "metadata": {},
   "outputs": [
    {
     "data": {
      "text/plain": [
       "[]"
      ]
     },
     "execution_count": 12,
     "metadata": {},
     "output_type": "execute_result"
    },
    {
     "data": {
      "image/png": "[encoded data removed]",
      "text/plain": [
       "<Figure size 576x576 with 1 Axes>"
      ]
     },
     "metadata": {},
     "output_type": "display_data"
    }
   ],
   "source": [
    "import matplotlib.pyplot as plt\n",
    "import numpy as np\n",
    "%matplotlib inline\n",
    "\n",
    "fig = plt.figure(figsize=(8,8))\n",
    "ax = fig.add_subplot(1,1,1, aspect=1)\n",
    "\n",
    "ax.scatter([.5],[.5], c='#FFCC00', s=120000, label=\"face\")\n",
    "ax.scatter([.35, .65], [.63, .63], c='k', s=1000, label=\"eyes\")\n",
    "\n",
    "X = np.linspace(.3, .7, 100)\n",
    "Y = 3 * (X-.5)**2 + 0.28\n",
    "\n",
    "ax.plot(X, Y, c='k', linewidth=8, label=\"smile\")\n",
    "\n",
    "ax.set_xlim(0,1)\n",
    "ax.set_ylim(0,1)\n",
    "\n",
    "ax.spines['top'].set_visible(False)\n",
    "ax.spines['right'].set_visible(False)\n",
    "ax.spines['left'].set_visible(False)\n",
    "ax.spines['bottom'].set_visible(False)\n",
    "ax.set_xticks([])\n",
    "ax.set_yticks([])"
   ]
  },
  {
   "cell_type": "code",
   "execution_count": null,
   "metadata": {},
   "outputs": [],
   "source": []
  }
 ],
 "metadata": {
  "kernelspec": {
   "display_name": "Python 3",
   "language": "python",
   "name": "python3"
  },
  "language_info": {
   "codemirror_mode": {
    "name": "ipython",
    "version": 3
   },
   "file_extension": ".py",
   "mimetype": "text/x-python",
   "name": "python",
   "nbconvert_exporter": "python",
   "pygments_lexer": "ipython3",
   "version": "3.7.2"
  }
 },
 "nbformat": 4,
 "nbformat_minor": 4
}
