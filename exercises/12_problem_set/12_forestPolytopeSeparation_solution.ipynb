{
 "cells": [
  {
   "cell_type": "markdown",
   "metadata": {},
   "source": [
    "# Solution: A polynomial-time separation oracle for the forest polytope"
   ]
  },
  {
   "cell_type": "markdown",
   "metadata": {},
   "source": [
    "<font color='blue'><b>First task:</b></font> Proving that\n",
    "$$\n",
    "P = \\left\\{ x\\in \\mathbb{R}^E_{\\geq 0}\\colon x(E[S]) \\leq |S|-1 \\text{ for all } S\\subseteq V,\\ S\\neq \\emptyset\\right\\}\n",
    "$$\n",
    "is indeed the forest polytope."
   ]
  },
  {
   "cell_type": "markdown",
   "metadata": {},
   "source": [
    "*Proof idea.* Checking that the right integral points are feasible is easy: Given an integral point $x\\in P$, the graph $G=(V,E')$ given by $E'=\\{e\\in E\\colon x(e)=1\\}$ has no cycles due to the constraints, thus it is a forest. Furthermore, the incidence vector of any forest is feasible.\n",
    "\n",
    "To prove integrality, note that the constraints in $P$ are essentially the same as in the spanning tree polytope, with the only difference being that in the spanning tree polytope, one of the constraints is an equality, not an inequality (namely $x(E[V])=|V|-1$). This, however, does not change a proof of integrality by the uncrossing method seen in class, hence integrality can be proved in precisely the same way as for the spanning tree polytope."
   ]
  },
  {
   "cell_type": "markdown",
   "metadata": {},
   "source": [
    "---"
   ]
  },
  {
   "cell_type": "markdown",
   "metadata": {},
   "source": [
    "<font color='blue'><b>Second task:</b></font> \n",
    "- *If the optimal value of $(\\star)$ is at least $1$ and $y\\geq 0$, then $y\\in P$.*\n",
    "\n",
    "  In this case, for any non-empty set $S\\subseteq V$, we have $|S|-y(E[S])\\geq 1$, i.e., $y(E[S])\\leq |S|-1$, hence $y\\in P$.\n",
    "\n",
    "- *Show how to obtain a separating hyperplane for $y$ from an optimal solution of $(\\star)$ if the optimal value of $(\\star)$ is less than $1$.*\n",
    "\n",
    "  In this case, there exists a non-empty set $S\\subseteq V$ such that $|S|-y(E[S]) < 1$, i.e., $y(E[S]) > |S|-1$. Thus, $x(E[S])\\leq |S|-1$ is a separating hyperplane for $P$ and $y$."
   ]
  },
  {
   "cell_type": "markdown",
   "metadata": {},
   "source": [
    "---"
   ]
  },
  {
   "cell_type": "markdown",
   "metadata": {},
   "source": [
    "<font color='blue'><b>Third task:</b></font>\n",
    "- *Prove that for all $S\\subseteq V$, we have*\n",
    "  \n",
    "  $$ y(E[S]) = \\frac12 \\sum_{v\\in S} y(\\delta(v)) - \\frac12 y(\\delta(S))\\enspace. $$\n",
    "  \n",
    "  *Proof.* Note that in the sum $\\sum_{v\\in S} y(\\delta(v))$, the weight $y(e)$ of a particular edge $e\\in E$ appears twice if $e\\subset S$, once if $e\\in\\delta(S)$, and not at all if $e\\subset V\\setminus S$. Thus, \n",
    "  \n",
    "  $$ \\sum_{v\\in S} y(\\delta(v)) = 2 y(E[S]) + y(\\delta(S))\\enspace, $$\n",
    "  \n",
    "  and rearranging terms gives the desired.\n",
    "\n",
    "- *Show that for any constant $\\kappa$, the problem $(\\star)$ has the same optimal solutions as $(\\star\\star)$.*\n",
    "  \n",
    "  *Proof.* The objective function of $(\\star)$ can be rewritten, using the first part above, as\n",
    "  \n",
    "  $$ |S| - y(E[S]) = |S| - \\frac12 \\sum_{v\\in S} y(\\delta(v)) + \\frac12 y(\\delta(S)) = \\frac12 y(\\delta(S)) + \\frac12 \\sum_{v\\in S} \\big(2-y(\\delta(v))\\big)\\enspace. $$\n",
    "  \n",
    "  Multiplying this objective by $2$ and adding $\\kappa$ gives the objective of $(\\star\\star)$. Of course these operations do not change the set of optimal solutions, but only their value.\n",
    "  \n",
    "- *How can you decide that $y\\in P$ or find a separating hyperplane from a solution of $(\\star\\star)$?*\n",
    "  \n",
    "  We know the rule for $(\\star)$, and the decision is based on the objective value of an optimal solution. We hae seen above that $(\\star)$ and $(\\star\\star)$ differ only in terms of optimal values, but not in terms of actual optimal solutions. Translating the rule by transforming the objective accordingly, we get the following:\n",
    "    - If the optimal value of $(\\star\\star)$ is at least $2+\\kappa$ and $y\\geq 0$, then $y\\in P$.\n",
    "    - If $y\\not\\geq 0$, then there is a separating non-negativity constraint.\n",
    "    - If the optimal value of $(\\star\\star)$ is less than $2+\\kappa$, and $S$ is an optimal solution to $(\\star\\star)$, then $x(E[S])\\leq |S|-1$ is a separating hyperplane for $y$."
   ]
  },
  {
   "cell_type": "markdown",
   "metadata": {},
   "source": [
    "---"
   ]
  },
  {
   "cell_type": "markdown",
   "metadata": {},
   "source": [
    "<font color='blue'><b>Fourth task:</b></font>\n",
    "- *What edges would you introduce in $F$ (and what weights $w$ would you assign to them) to get $w(\\delta_H^+(C))=y(\\delta_G(C\\setminus\\{s\\})$ for all $C\\subseteq W$ with $s\\in C$ and $t\\notin C$?*\n",
    "  \n",
    "  For every $\\{u,v\\}\\in E$, introduce directed edges $(u,v)$ and $(v,u)$ in $F$ with weight $y(\\{u,v\\})$ each. This precisely models cut values from the undirected setting in $G$ as cut values in the directed graph $H$.\n",
    "  \n",
    "- *What edges can you add to $F$ (and what weights $w$ would you assign to them) to get $w(\\delta_H^+(C))=y(\\delta_G(C\\setminus\\{s\\}) + \\sum_{v\\in C\\setminus\\{s\\}} \\big(2-y(\\delta_G(v))\\big)+\\kappa$ for some constant $\\kappa$, i.e., to also get the second term of the desired objective, for all $C\\subseteq W$ with $s\\in C$ and $t\\notin C$? What is the value of your constant $\\kappa$?*\n",
    "  \n",
    "  The new target objective incurs cost $2$ for every vertex of $V$ that is included in the cut, thus we add edges $(v,t)$ with weight $w(v,t)=2$ for all $v\\in V$. Doing this only, we arrive at\n",
    "  \n",
    "  $$ w(\\delta_H^+(C))=y(\\delta_G(C\\setminus\\{s\\}) + \\sum_{v\\in C\\setminus\\{s\\}} 2\\enspace.$$\n",
    "  \n",
    "  The actual target objevtive additionally gains $y(\\delta_G(v)$ when including a vertex $v\\in V$. This can be modelled by adding edges $(s,v)$ with weight $y(\\delta_G(v)$ for all $v\\in V$. Note that by doing so, there is a constant term $\\kappa=\\sum_{v\\in V} y(\\delta_G(v))$ added to all objective values."
   ]
  },
  {
   "cell_type": "markdown",
   "metadata": {},
   "source": [
    "---"
   ]
  },
  {
   "cell_type": "markdown",
   "metadata": {},
   "source": [
    "<font color='blue'><b>Fifth task:</b></font> *Finding the minimum $s$-$t$ cut different from $\\{s\\}$, and thus solve $(\\star\\star)$?*\n",
    "\n",
    "If we change a weight on an edge $(s,v)$ for some $v\\in V$ to $\\infty$, this edge will never be included in any min-cut. In other words, the vertex $v$ will always be in a min-cut. Also, all values of cuts that include $v$ did not change. Thus, solving the minimum $s$-$t$ cut problem in this modified graph results in a cut that is minimal among all $s$-$t$ cuts containting $v$. Iterating over all $v\\in V$, we can find the minimum cut among all $s$-$t$ cuts that do not only contain $s$."
   ]
  },
  {
   "cell_type": "markdown",
   "metadata": {},
   "source": [
    "---"
   ]
  },
  {
   "cell_type": "markdown",
   "metadata": {},
   "source": [
    "## Implementation\n",
    "\n",
    "<font color='blue'><b>Sixth task:</b></font> Implementing a separation oracle for the forest polytope."
   ]
  },
  {
   "cell_type": "code",
   "execution_count": null,
   "metadata": {},
   "outputs": [],
   "source": [
    "# Implementation\n",
    "\n",
    "import networkx as nx\n",
    "import math\n",
    "\n",
    "def forestPolytopeSeparation(graph, point):\n",
    "    \n",
    "    ## Helper functions\n",
    "    \n",
    "    # checks the non-negativity constraints, retruns an edge with negative weight\n",
    "    #   if there is one; else returns None.\n",
    "    def violated_nonnegativiy_constraint(point):\n",
    "        for e,y in point.items():\n",
    "            if y < 0:\n",
    "                return e\n",
    "        return None\n",
    "    \n",
    "    \n",
    "    # constructs the weighted auxiliary graph H defined in the fourth task above\n",
    "    def auxiliary_graph(graph, point, s, t):\n",
    "        # create digraph\n",
    "        g = nx.DiGraph()\n",
    "        \n",
    "        # add nodes\n",
    "        g.add_nodes_from(graph.nodes())\n",
    "        g.add_nodes_from([s, t])\n",
    "        \n",
    "        # calculate values y(\\delta_G(v)) that are used as capacities\n",
    "        y_delta_G = dict.fromkeys(graph.nodes(), 0)\n",
    "        for e in graph.edges():\n",
    "            y_delta_G[e[0]] += point[e]\n",
    "            y_delta_G[e[1]] += point[e]\n",
    "        \n",
    "        # add edges with resp. capacities\n",
    "        for e in graph.edges():\n",
    "            g.add_edge(e[0], e[1], capacity = point[e])\n",
    "            g.add_edge(e[1], e[0], capacity = point[e])\n",
    "        for v in graph.nodes():\n",
    "            g.add_edge(v, t, capacity = 2)\n",
    "            g.add_edge(s, v, capacity = y_delta_G[v])\n",
    "        \n",
    "        # return the graph\n",
    "        return g\n",
    "    \n",
    "    \n",
    "    # finds a minimum s-t cut different from {s} in the given graph (see task five above)\n",
    "    def nontrivial_min_cut(graph, s, t):\n",
    "        \n",
    "        # best values found so far\n",
    "        min_value = math.inf\n",
    "        st_cut = None\n",
    "        \n",
    "        # iterate over single nodes that should be in the cut\n",
    "        for v in graph.nodes():\n",
    "            if v not in [s,t]:\n",
    "                # check if there already is an edge from s to v\n",
    "                edge_exists = (s,v) in graph.edges()\n",
    "                if edge_exists: # if yes, change capacity\n",
    "                    old_capacity = graph[s][v]['capacity']\n",
    "                    graph[s][v]['capacity'] = math.inf\n",
    "                else: # if no, add new edge\n",
    "                    graph.add_edge(s, v, capacity = math.inf)\n",
    "                \n",
    "                # calculate min cut and update best cut found so far\n",
    "                (value, partition) = nx.minimum_cut(graph, s, t, capacity = 'capacity')\n",
    "                if value < min_value:\n",
    "                    min_value = value\n",
    "                    st_cut = partition[0] if s in partition[0] else partition[1]\n",
    "                   \n",
    "                # correct graph for next iteration\n",
    "                if edge_exists:\n",
    "                    graph[s][v]['capacity'] = old_capacity\n",
    "                else:\n",
    "                    graph.remove_edge(s, v)\n",
    "        \n",
    "        return (min_value, st_cut)\n",
    "    \n",
    "    \n",
    "    # checks the subtour elimination constraints, retruns a set of vertices such that\n",
    "    #   the corresponding subtour elimination constraint is violated if such a set\n",
    "    #   exists; else returns None.\n",
    "    def violated_subtour_elimination_constraint(graph, point):\n",
    "        s = \"s\"\n",
    "        t = \"t\"\n",
    "        H = auxiliary_graph(graph, point, s, t)\n",
    "        \n",
    "        value, cut = nontrivial_min_cut(H, s, t)\n",
    "        \n",
    "        return cut - set([s]) if value < 2 + 2*sum(point.values()) - 1e-9 else None\n",
    "    \n",
    "    \n",
    "       \n",
    "    ## actual function body\n",
    "    \n",
    "    e = violated_nonnegativiy_constraint(point)\n",
    "    if e is not None:\n",
    "        return e\n",
    "    \n",
    "    S = violated_subtour_elimination_constraint(graph, point)\n",
    "    if S is not None:\n",
    "        return S\n",
    "    \n",
    "    return None"
   ]
  },
  {
   "cell_type": "markdown",
   "metadata": {},
   "source": [
    "---\n",
    "\n",
    "## Testing the implementation\n",
    "\n",
    "Nothing was changed below compared to the problem notebook - this is just left here for testing. Remember to run the bottom cell first!"
   ]
  },
  {
   "cell_type": "code",
   "execution_count": null,
   "metadata": {},
   "outputs": [],
   "source": [
    "## Testing\n",
    "# number of nodes\n",
    "n = 5\n",
    "# edge appearance probability for random graph\n",
    "p = 0.7\n",
    "\n",
    "# generate random graph\n",
    "graph = nx.gnp_random_graph(n, p)\n",
    "# create a random solution point in R^E\n",
    "import random\n",
    "point = dict((e, (max(1,4/(p*n))+1/(20*n))*random.random()-1/(40*n)) for e in graph.edges)\n",
    "\n",
    "# solve separation problem problem\n",
    "S = forestPolytopeSeparation(graph, point)\n",
    "# check results\n",
    "if S == None:\n",
    "    print(\"Point is in the forest polytope.\")\n",
    "    draw_point(graph, point)\n",
    "else:\n",
    "    print(f\"Point is not in the forest polytope, violated constraint obtained from {S}\")\n",
    "    draw_point(graph, point, S)"
   ]
  },
  {
   "cell_type": "code",
   "execution_count": null,
   "metadata": {},
   "outputs": [],
   "source": [
    "## helper function for drawing a point (and a subset of vertices with its induced edges)\n",
    "\n",
    "import networkx as nx\n",
    "import matplotlib.pyplot as plt\n",
    "%matplotlib inline\n",
    "\n",
    "def draw_point(graph, point, node_subset = set()):\n",
    "    \n",
    "    # node positions\n",
    "    node_pos = nx.circular_layout(graph)\n",
    "    \n",
    "    other_nodes = set(graph.nodes) - set(node_subset)\n",
    "    blue_edges = [edge for edge in graph.edges if set(edge).issubset(node_subset)]\n",
    "    black_edges = [edge for edge in graph.edges if edge not in blue_edges]\n",
    "    blue_edge_labels = {edge: round(point[edge], 2) for edge in blue_edges}\n",
    "    black_edge_labels = {edge: round(point[edge], 2) for edge in black_edges}\n",
    "\n",
    "    # Draw nodes\n",
    "    nx.draw(graph, edgelist = [], node_color = \"red\", nodelist = node_subset,\n",
    "            pos = node_pos, with_labels = True)\n",
    "    nx.draw(graph, edgelist = [], node_color = \"gray\", nodelist = other_nodes,\n",
    "            pos = node_pos, with_labels = True)\n",
    "\n",
    "    # Draw edges\n",
    "    nx.draw_networkx_edges(graph, edge_color = \"black\",\n",
    "                           edgelist = black_edges, pos = node_pos)\n",
    "    nx.draw_networkx_edges(graph, edge_color = \"red\",\n",
    "                           edgelist = blue_edges, pos = node_pos)\n",
    "\n",
    "    # Draw edge labels\n",
    "    nx.draw_networkx_edge_labels(graph, font_color = \"black\",\n",
    "                                 edge_labels = black_edge_labels, pos = node_pos)\n",
    "    nx.draw_networkx_edge_labels(graph, font_color = \"red\",\n",
    "                                 edge_labels = blue_edge_labels, pos = node_pos)\n",
    "\n",
    "    # Show drawing\n",
    "    plt.show()"
   ]
  }
 ],
 "metadata": {
  "kernelspec": {
   "display_name": "Python 3",
   "language": "python",
   "name": "python3"
  },
  "language_info": {
   "codemirror_mode": {
    "name": "ipython",
    "version": 3
   },
   "file_extension": ".py",
   "mimetype": "text/x-python",
   "name": "python",
   "nbconvert_exporter": "python",
   "pygments_lexer": "ipython3",
   "version": "3.7.3"
  }
 },
 "nbformat": 4,
 "nbformat_minor": 4
}
