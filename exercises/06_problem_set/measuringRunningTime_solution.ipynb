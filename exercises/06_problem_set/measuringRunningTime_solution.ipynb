{
 "cells": [
  {
   "cell_type": "markdown",
   "metadata": {},
   "source": [
    "## Solution: Connected components and running time\n"
   ]
  },
  {
   "cell_type": "markdown",
   "metadata": {},
   "source": [
    "### Implementing the breadth-first-search algorithm (BFS)\n",
    "\n",
    "<font color='blue'><b>Task 1:</b></font> BFS can be implemented as follows:"
   ]
  },
  {
   "cell_type": "code",
   "execution_count": null,
   "metadata": {},
   "outputs": [],
   "source": [
    "def bfs(G, v1):\n",
    "    # initialization\n",
    "    import math\n",
    "    nx.set_node_attributes(G, math.inf, \"distance\")\n",
    "    G.nodes[v1]['distance'] = 0\n",
    "    L = [v1]\n",
    "    k = 1\n",
    "    \n",
    "    # main loop\n",
    "    while L != []:\n",
    "        Lnew = []\n",
    "        for w in L:\n",
    "            for v in G.neighbors(w):\n",
    "                if G.nodes[v]['distance'] == math.inf:\n",
    "                    G.nodes[v]['distance'] = k\n",
    "                    Lnew = Lnew + [v]\n",
    "        k = k + 1\n",
    "        L = Lnew\n",
    "    \n",
    "    # return\n",
    "    return dict([(v, G.nodes[v]['distance']) for v in G.nodes])"
   ]
  },
  {
   "cell_type": "markdown",
   "metadata": {},
   "source": [
    "The above implementation will pass the checks on random graphs below."
   ]
  },
  {
   "cell_type": "code",
   "execution_count": null,
   "metadata": {},
   "outputs": [],
   "source": [
    "import networkx as nx\n",
    "%matplotlib inline\n",
    "\n",
    "# random graph G\n",
    "G = nx.gnp_random_graph(7, 0.4)\n",
    "\n",
    "# draw G\n",
    "node_pos =  nx.circular_layout(G)\n",
    "nx.draw(G, with_labels = True, pos = node_pos)\n",
    "\n",
    "# calculate and print distances from vertex 0\n",
    "dist = bfs(G,0)\n",
    "print(dist)"
   ]
  },
  {
   "cell_type": "markdown",
   "metadata": {},
   "source": [
    "---\n",
    "\n",
    "### Measuring execution time\n",
    "\n",
    "<font color='blue'><b>Task 2:</b></font> A typical plot might look as follows:\n",
    "\n",
    "![](measuringRunningTime_bfs.png)"
   ]
  },
  {
   "cell_type": "markdown",
   "metadata": {},
   "source": [
    "Note that in doubly logarithmic plots, a straight line corresponds to a polynomial function, with the slope indicating the exponent of the polynomial. It is clearly visible that the reference line and the data have a very similar slope (particularly for later measurements), thus the plot clearly supports the hypothesis that our BFS implementation has linear running time.\n",
    "\n",
    "---"
   ]
  },
  {
   "cell_type": "markdown",
   "metadata": {},
   "source": [
    "### Counting connected components\n",
    "\n",
    "<font color='blue'><b>Task 3:</b></font> The vertices contained in the same connected component as a given vertex $s$ are precisely those with finite distance from $s$. Thus, the implementation is immediate from BFS:"
   ]
  },
  {
   "cell_type": "code",
   "execution_count": null,
   "metadata": {},
   "outputs": [],
   "source": [
    "import networkx as nx\n",
    "\n",
    "def find_cc(G, s):\n",
    "    \n",
    "    import math\n",
    "    \n",
    "    dist = bfs(G,s)\n",
    "    connected_to_s = [v for v in G.nodes if dist[v] < math.inf]\n",
    "    \n",
    "    return list(connected_to_s)"
   ]
  },
  {
   "cell_type": "markdown",
   "metadata": {},
   "source": [
    "This implementation will pass the checks on random graphs below."
   ]
  },
  {
   "cell_type": "code",
   "execution_count": null,
   "metadata": {},
   "outputs": [],
   "source": [
    "import networkx as nx\n",
    "%matplotlib inline\n",
    "\n",
    "# random graph G\n",
    "G = nx.gnp_random_graph(7, 0.25)\n",
    "\n",
    "# draw G\n",
    "node_pos =  nx.circular_layout(G)\n",
    "nx.draw(G, with_labels = True, pos = node_pos)\n",
    "\n",
    "# calculate and print the component of vertex 0\n",
    "comp = find_cc(G,0)\n",
    "print(comp)"
   ]
  },
  {
   "cell_type": "markdown",
   "metadata": {},
   "source": [
    "For completeness (to make this notebook run independently), we also copy the definition of `count_cc` here."
   ]
  },
  {
   "cell_type": "code",
   "execution_count": null,
   "metadata": {},
   "outputs": [],
   "source": [
    "# A function for counting the number of connected components\n",
    "def count_cc(G):\n",
    "    \n",
    "    num_cc = 0             # counter for the number of connected components\n",
    "    nodes_found = []       # stores the vertices in connected components that were explored already\n",
    "    vertices = nx.nodes(G) # shorthand for nx.nodes(G)\n",
    "    \n",
    "    for v in vertices:     # loop through vertices\n",
    "        # if the component of v was not explored previously, do so now\n",
    "        if v not in nodes_found: \n",
    "            new_nodes = find_cc(G,v)\n",
    "            nodes_found = nodes_found + new_nodes\n",
    "            num_cc += 1 \n",
    "    \n",
    "    return num_cc"
   ]
  },
  {
   "cell_type": "markdown",
   "metadata": {},
   "source": [
    "---\n",
    "\n",
    "<font color='blue'><b>Task 4:</b></font> The running time of the function `count_cc` is $O(|V|(|V|+|E|))$, i.e., quadratic in the input size. Indeed, one can see that the running time of the given implementation is dominated by the `for` loop, which is called at most once for every vertex (hence one factor $|V|$ in the running time bound); inside the loop, the `find_cc` function is called once, which incurs running time $O(|V|+|E|)$ in every call. This gives a total of $O(|V|(|V|+|E|))$.\n",
    "\n",
    "Measuring execution times of `count_cc` on random graphs with the given parameters is done in the subsequent code cell."
   ]
  },
  {
   "cell_type": "code",
   "execution_count": null,
   "metadata": {},
   "outputs": [],
   "source": [
    "import math\n",
    "import time\n",
    "import networkx as nx\n",
    "\n",
    "# number of vertices for the random graphs\n",
    "nn = [math.floor(math.pow(10,0.5*i)) for i in range(2,8)]\n",
    "sizes = [] # list for storing graph sizes |V|+|E| \n",
    "times = [] # list for storing measured execution times\n",
    "\n",
    "for n in nn:\n",
    "    # generate random graph\n",
    "    G = nx.gnp_random_graph(n, 0.1*math.log(n)/n)\n",
    "    # store size\n",
    "    sizes = sizes + [G.number_of_nodes() + G.number_of_edges()]\n",
    "    # measure execution time of count_cc\n",
    "    start_time = time.time()\n",
    "    comp = count_cc(G)\n",
    "    end_time = time.time()\n",
    "    # store time\n",
    "    times = times + [end_time - start_time]"
   ]
  },
  {
   "cell_type": "markdown",
   "metadata": {},
   "source": [
    "The results are plotted by the next cell. Note that we also include a reference for quadratic growth in this plot."
   ]
  },
  {
   "cell_type": "code",
   "execution_count": null,
   "metadata": {},
   "outputs": [],
   "source": [
    "import matplotlib.pyplot as plt\n",
    "%matplotlib inline\n",
    "\n",
    "# plot measured data\n",
    "plt.plot(sizes, times, 'x-', \n",
    "         label = 'measured execution times')\n",
    "# plot references for linear and quadratic growth\n",
    "#   (scaled to be aligned with data at first measurment)\n",
    "plt.plot(sizes, [s*times[0]/sizes[0] for s in sizes], '-', \n",
    "         label = 'reference for growth $O(|V|+|E|)$')\n",
    "plt.plot(sizes, [math.pow(s,2)*times[0]/math.pow(sizes[0],2) for s in sizes], '-', \n",
    "         label = 'reference for growth $O((|V|+|E|)^2)$')\n",
    "# logarithmic scale for axes\n",
    "plt.xscale('log')\n",
    "plt.yscale('log')\n",
    "# title, axis labels, legend placement\n",
    "plt.title('Execution time of component counting')\n",
    "plt.xlabel('$|V|+|E|$')\n",
    "plt.ylabel('execution time [s]')\n",
    "plt.legend(loc = 'best')\n",
    "# display plot\n",
    "plt.show()"
   ]
  },
  {
   "cell_type": "markdown",
   "metadata": {},
   "source": [
    "A typical plot resulting from the above might look as follows.\n",
    "\n",
    "![](measuringRunningTime_countCC.png)"
   ]
  },
  {
   "cell_type": "markdown",
   "metadata": {},
   "source": [
    "Although the growth might look subquadratic in the beginning, the last three measurements clearly indicate quadratic growth (recall that the slope is proportional to the exponent of the polynomial in doubly logarithmic plots, and observe that slope of the data curve and the one of the reference for quadratic growth are somewhat aligned for later measurements)."
   ]
  },
  {
   "cell_type": "markdown",
   "metadata": {},
   "source": [
    "---\n",
    "\n",
    "<font color='blue'><b>Task 5:</b></font> As indicated in the exercise statement, the initialization step of BFS (where distances are set to $\\infty$) and the repeated checks whether a vertex is in the list of vertices explored already is what leads to quadratic running time. Both can be avoided by a careful reimplementation that reuses the distances in every BFS call. Check the following implementation for details."
   ]
  },
  {
   "cell_type": "code",
   "execution_count": null,
   "metadata": {},
   "outputs": [],
   "source": [
    "def count_cc_fast(G):\n",
    "    \n",
    "    # counter for the number of connected components\n",
    "    num_cc = 0 \n",
    "    \n",
    "    # set all distances to infinity\n",
    "    nx.set_node_attributes(G, math.inf, 'distance')\n",
    "    \n",
    "    #-----------------------------------------------------#\n",
    "    # helper function for BFS on graph with distances \n",
    "    #   already initialized (note: no return, as distances\n",
    "    #   are modified in place)\n",
    "    def bfs(G,v1):\n",
    "        G.nodes[v1]['distance'] = 0\n",
    "        L = [v1]\n",
    "        k = 1\n",
    "\n",
    "        # main loop\n",
    "        while L != []:\n",
    "            Lnew = []\n",
    "            for w in L:\n",
    "                for v in G.neighbors(w):\n",
    "                    if G.nodes[v]['distance'] == math.inf:\n",
    "                        G.nodes[v]['distance'] = k\n",
    "                        Lnew = Lnew + [v]\n",
    "            k = k + 1\n",
    "            L = Lnew\n",
    "        return\n",
    "    #-----------------------------------------------------#\n",
    "    \n",
    "    # loop through vertices\n",
    "    for v in G.nodes: \n",
    "        # if v was not explored previously, do so now\n",
    "        if G.nodes[v]['distance'] == math.inf:\n",
    "            bfs(G,v)\n",
    "            num_cc += 1 \n",
    "    \n",
    "    return num_cc"
   ]
  },
  {
   "cell_type": "markdown",
   "metadata": {},
   "source": [
    "Note how in the above code, we reuse the distances set globally, and how checking whether a vertex has been explored earlier is replaced by the more efficient checking of its distance.\n",
    "\n",
    "For double-checking the implementation on a few examples, we can once again look at small random graphs:"
   ]
  },
  {
   "cell_type": "code",
   "execution_count": null,
   "metadata": {},
   "outputs": [],
   "source": [
    "import networkx as nx\n",
    "%matplotlib inline\n",
    "\n",
    "# random graph G\n",
    "G = nx.gnp_random_graph(7, 0.25)\n",
    "\n",
    "# draw G\n",
    "vx_pos =  nx.circular_layout(G)\n",
    "nx.draw(G, with_labels = True, pos = vx_pos)\n",
    "\n",
    "# count components and print result\n",
    "comp = count_cc_fast(G)\n",
    "print(comp)"
   ]
  },
  {
   "cell_type": "markdown",
   "metadata": {},
   "source": [
    "To compare running times of our two implementations, we run a similar experiment as earlier, namely on random graphs with $n$ vertices and edge probability $p=\\frac{\\log n}{10n}$. Note that it is important to redo calculations for the first implementation, as well, to get comparable results on the same instances."
   ]
  },
  {
   "cell_type": "code",
   "execution_count": null,
   "metadata": {},
   "outputs": [],
   "source": [
    "import math\n",
    "import time\n",
    "import networkx as nx\n",
    "\n",
    "# number of vertices for the random graphs\n",
    "nn = [math.floor(math.pow(10,0.5*i)) for i in range(2,8)]\n",
    "sizes = [] # list for storing graph sizes |V|+|E| \n",
    "times = [] # list for storing measured execution times (count_cc)\n",
    "times_fast = [] # list for storing measured execution times (count_cc_fast)\n",
    "\n",
    "for n in nn:\n",
    "    # generate random graph\n",
    "    G = nx.gnp_random_graph(n, 0.1*math.log(n)/n)\n",
    "    # store size\n",
    "    sizes = sizes + [G.number_of_nodes() + G.number_of_edges()]\n",
    "    # measure execution time of count_cc\n",
    "    start_time = time.time()\n",
    "    count_cc(G)\n",
    "    end_time = time.time()\n",
    "    # measure execution time of count_cc_fast\n",
    "    start_time_fast = time.time()\n",
    "    count_cc_fast(G)\n",
    "    end_time_fast = time.time()\n",
    "    # store times\n",
    "    times = times + [end_time - start_time]\n",
    "    times_fast = times_fast + [end_time_fast - start_time_fast]"
   ]
  },
  {
   "cell_type": "markdown",
   "metadata": {},
   "source": [
    "Plotting follows the code seen earlier:"
   ]
  },
  {
   "cell_type": "code",
   "execution_count": null,
   "metadata": {},
   "outputs": [],
   "source": [
    "import matplotlib.pyplot as plt\n",
    "%matplotlib inline\n",
    "\n",
    "# plot measured data\n",
    "plt.plot(sizes, times, 'x-', \n",
    "         label = \"measured execution times (count_cc)\")\n",
    "plt.plot(sizes, times_fast, 'x-', \n",
    "         label = \"measured execution times (count_cc_fast)\")\n",
    "# plot references for linear and quadratic growth\n",
    "#   (scaled to be aligned with data at first measurment)\n",
    "plt.plot(sizes, [s*times_fast[0]/sizes[0] for s in sizes], '--', \n",
    "         label = 'reference for growth $O(|V|+|E|)$')\n",
    "plt.plot(sizes, [math.pow(s,2)*times[0]/math.pow(sizes[0],2) for s in sizes], '--', \n",
    "         label = 'reference for growth $O((|V|+|E|)^2)$')\n",
    "# logarithmic scale for axes\n",
    "plt.xscale('log')\n",
    "plt.yscale('log')\n",
    "# title, axis labels, legend placement\n",
    "plt.title('Execution time of component counting')\n",
    "plt.xlabel('$|V|+|E|$')\n",
    "plt.ylabel('execution time [s]')\n",
    "plt.legend(loc = 'best')\n",
    "# display plot\n",
    "plt.savefig('measuringRunningTime_comparison')\n",
    "plt.show()"
   ]
  },
  {
   "cell_type": "markdown",
   "metadata": {},
   "source": [
    "A typical plot might look like this:\n",
    "\n",
    "![](measuringRunningTime_comparison.png)\n",
    "\n",
    "One can clearly see that the execution times of the old implementation follow the reference for quadratic growth, while the the execution times of the new implementation follow the reference for linear growth, thus indicating that the issues with quadratic running time are resolved."
   ]
  },
  {
   "cell_type": "code",
   "execution_count": null,
   "metadata": {},
   "outputs": [],
   "source": []
  }
 ],
 "metadata": {
  "kernelspec": {
   "display_name": "Python 3",
   "language": "python",
   "name": "python3"
  },
  "language_info": {
   "codemirror_mode": {
    "name": "ipython",
    "version": 3
   },
   "file_extension": ".py",
   "mimetype": "text/x-python",
   "name": "python",
   "nbconvert_exporter": "python",
   "pygments_lexer": "ipython3",
   "version": "3.6.8"
  }
 },
 "nbformat": 4,
 "nbformat_minor": 4
}
