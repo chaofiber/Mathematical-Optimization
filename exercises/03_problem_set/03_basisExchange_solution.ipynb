{
 "cells": [
  {
   "cell_type": "markdown",
   "metadata": {},
   "source": [
    "# Solution: Using `numpy` to work with matrices & implement base exchanges\n",
    "<font color='blue'><b>Goal:</b></font>\n",
    "Computing simplex tableaus using `numpy`.\n",
    "\n",
    "<font color='blue'><b>Required packages:</b></font>`numpy`\n",
    "\n"
   ]
  },
  {
   "cell_type": "markdown",
   "metadata": {},
   "source": [
    "To go from tableau  \n",
    "\n",
    "$$T=\\begin{equation*}\n",
    "\\begin{array}{l|rrrrrr|r}\n",
    "& y_{1} & y_{2} & y_{3} & y_{4} & x_{1} & x_{2} &  \\\\\n",
    "\\hline\n",
    "& 1 & 0 & 0 & 0 &  0 & -1 & -1 \\\\\n",
    "& 0 & 1 & 0 & 0 & -1 & -1 & -2 \\\\\n",
    "& 0 & 0 & 1 & 0 & -4 &  1 & -2 \\\\\n",
    "& 0 & 0 & 0 & 1 & -1 &  1 & 1\n",
    "\\end{array}\n",
    "\\end{equation*}$$\n",
    "to \n",
    "$$T'=\\begin{equation*}\n",
    "\\begin{array}{l|rrrrrr|r}\n",
    "& y_{1} & y_{2} & y_{3} & y_{4} & x_{1} & x_{2} &  \\\\\n",
    "\\hline\n",
    "& -1 &  0 & 0 & 0 & 0 & 1 & 1 \\\\\n",
    "&  1 & -1 & 0 & 0 & 1 & 0 & 1 \\\\\n",
    "&  5 & -4 & 1 & 0 & 0 & 0 & 1 \\\\\n",
    "&  2 & -1 & 0 & 1 & 0 & 0 & 1\n",
    "\\end{array}\\enspace,\n",
    "\\end{equation*}$$"
   ]
  },
  {
   "cell_type": "markdown",
   "metadata": {},
   "source": [
    "we consider the sub-matrix $A$ of $T$ corresponding to the basis $B$ with column indices from the vector $v=[5,4,2,3]$, namely\n",
    "\n",
    "$$A=\n",
    "\\qquad \\begin{bmatrix}\n",
    "-1 & 0 & 0 & 0 \\\\\n",
    "-1 &-1 & 0 & 0 \\\\\n",
    " 1 &-4 & 1 & 0 \\\\\n",
    " 1 &-1 & 0 & 1\n",
    "\\end{bmatrix}\n",
    "$$\n",
    "and observe that $T'=A^{-1}\\cdot T$.\n",
    "\n",
    "Based on this observation, we implement `tableau(T,v)` as follows:"
   ]
  },
  {
   "cell_type": "code",
   "execution_count": 1,
   "metadata": {},
   "outputs": [],
   "source": [
    "# Define the basis exchange function\n",
    "def tableau(T,v):\n",
    "    import numpy as np\n",
    "    \n",
    "    # extract the right columns of T\n",
    "    A = T[:,v]\n",
    "    print(A)\n",
    "    # calculate A^{-1}*T\n",
    "    T_prime = np.linalg.solve(A,T)\n",
    "    \n",
    "    return T_prime"
   ]
  },
  {
   "cell_type": "markdown",
   "metadata": {},
   "source": [
    "## Testing the implementation\n",
    "\n",
    "We test the implementation on the given example."
   ]
  },
  {
   "cell_type": "code",
   "execution_count": 2,
   "metadata": {},
   "outputs": [],
   "source": [
    "import numpy as np\n",
    "\n",
    "# Write down T in numpy\n",
    "T = np.matrix([\n",
    "    [ 1 , 0 , 0 , 0 ,  0 , -1 , -1 ],\n",
    "    [ 0 , 1 , 0 , 0 , -1 , -1 , -2 ],\n",
    "    [ 0 , 0 , 1 , 0 , -4 ,  1 , -2 ],\n",
    "    [ 0 , 0 , 0 , 1 , -1 ,  1 ,  1 ]\n",
    "])\n",
    "v = [ 5, 4, 2, 3 ]"
   ]
  },
  {
   "cell_type": "code",
   "execution_count": 4,
   "metadata": {},
   "outputs": [
    {
     "data": {
      "text/plain": [
       "matrix([[-1., -0., -0., -0., -0.,  1.,  1.],\n",
       "        [ 1., -1., -0., -0.,  1., -0.,  1.],\n",
       "        [ 5., -4.,  1., -0., -0., -0.,  1.],\n",
       "        [ 2., -1.,  0.,  1.,  0.,  0.,  1.]])"
      ]
     },
     "execution_count": 4,
     "metadata": {},
     "output_type": "execute_result"
    }
   ],
   "source": [
    "# Apply the basis exchange function to T and v and \n",
    "tableau(T,v)"
   ]
  },
  {
   "cell_type": "code",
   "execution_count": 6,
   "metadata": {},
   "outputs": [
    {
     "data": {
      "text/plain": [
       "matrix([[-1,  0,  0,  0],\n",
       "        [-1, -1,  0,  0],\n",
       "        [ 1, -4,  1,  0],\n",
       "        [ 1, -1,  0,  1]])"
      ]
     },
     "execution_count": 6,
     "metadata": {},
     "output_type": "execute_result"
    }
   ],
   "source": [
    "T[:,v]"
   ]
  },
  {
   "cell_type": "code",
   "execution_count": null,
   "metadata": {},
   "outputs": [],
   "source": []
  }
 ],
 "metadata": {
  "kernelspec": {
   "display_name": "Python 3",
   "language": "python",
   "name": "python3"
  },
  "language_info": {
   "codemirror_mode": {
    "name": "ipython",
    "version": 3
   },
   "file_extension": ".py",
   "mimetype": "text/x-python",
   "name": "python",
   "nbconvert_exporter": "python",
   "pygments_lexer": "ipython3",
   "version": "3.6.8"
  }
 },
 "nbformat": 4,
 "nbformat_minor": 4
}
