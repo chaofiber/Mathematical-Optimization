{
 "cells": [
  {
   "cell_type": "markdown",
   "metadata": {},
   "source": [
    "## Solution: Separating polyhedra\n",
    "\n",
    "For completeness, we repeat the important lines from the problem statement.\n",
    "\n",
    "The linear program $(\\star)$ to check if the intersection of $P_1$ and $P_2$ contains a point:\n",
    "\n",
    "$$(\\star)\\qquad\n",
    "\\begin{array}{rrcl}\n",
    "\\max & 0^\\top x \\\\\n",
    "& A_1 x & \\leq & b_1\\\\\n",
    "& A_2 x & \\leq & b_2 \\\\\n",
    "& x & \\in & \\mathbb{R}^n \n",
    "\\end{array}\n",
    "$$\n",
    "\n",
    "The goal is to find a vector $c$ such that \n",
    "\n",
    "$$\n",
    "(\\star\\star) \\qquad\n",
    "\\max\\{c^\\top x\\colon x \\in P_1\\} + \\max\\{ -c^\\top y\\colon y \\in P_2\\} < 0 \\enspace.\n",
    "$$\n",
    "\n",
    "We want to exploit duality, which gives\n",
    "\n",
    "$$\n",
    "(\\tilde{\\star}) \\qquad \\max\\{c^\\top x\\colon A_1x \\le b_1\\}  \n",
    "= \\min\\{ w^\\top b_1\\colon w^\\top A_1 = c^\\top ~\\text{and}~ w \\ge 0\\}\\enspace,\n",
    "$$\n",
    "and\n",
    "$$\n",
    "(\\hat{\\star}) \\qquad \\max\\{-c^\\top y\\colon A_2 y \\le b_2\\}  \n",
    "= \\min\\{ u^\\top b_2\\colon u^\\top A_2 = -c^\\top ~\\text{and}~ u \\ge 0\\}\\enspace.\n",
    "$$\n",
    "\n",
    "---"
   ]
  },
  {
   "cell_type": "markdown",
   "metadata": {},
   "source": [
    "<font color='blue'><b>First task, part 1:</b></font> *Use $(\\tilde{\\star})$ and $(\\hat{\\star})$ to rewrite the two maximization problems in $(\\star\\star)$ as a single linear minimization problem. If you eliminate the unknown $c$, how are the linear program that you obtain and the linear program $(\\star)$ related? What does the assumption $P_1\\cap P_2=\\emptyset$ imply for the linear programs?*"
   ]
  },
  {
   "cell_type": "markdown",
   "metadata": {},
   "source": [
    "Plugging in $(\\tilde\\star)$ and $(\\hat\\star)$, we can rewrite $(\\star\\star)$ to finding a vector $c$ such that\n",
    "\n",
    "\\begin{align*}\n",
    "\\min\\{ w^\\top b_1\\colon w^\\top A_1 = c^\\top ~\\text{and}~ w \\ge 0\\} + \\min\\{ u^\\top b_2\\colon u^\\top A_2 = -c^\\top ~\\text{and}~ u \\ge 0\\} &< 0 \\\\[.5em]\n",
    "\\iff\\qquad \\min\\{ w^\\top b_1 + u^\\top b_2 \\colon w^\\top A_1 = c^\\top, u^\\top A_2 = -c^\\top, ~\\text{and}~ w,u \\ge 0\\} &< 0\\\\[.5em]\n",
    "(\\star\\star\\star)\\qquad\\qquad\\iff\\qquad \\min\\{ w^\\top b_1 + u^\\top b_2 \\colon w^\\top A_1 + u^\\top A_2 = 0, ~\\text{and}~ w,u \\ge 0\\} & < 0\n",
    "\\end{align*}\n",
    "\n",
    "The last linear program is independent of $c$, but from a solution, we can immediatly get $c=A_1^\\top w$. Thus, existence of solutions of $(\\star\\star\\star)$ with negative value implies existence of a separating hyperplane for $P_1$ and $P_2$.\n",
    "\n",
    "Observe that $(\\star\\star\\star)$ is precisely the dual of $(\\star)$! Consequently, as the assumption $P_1\\cap P_2=\\emptyset$ implies that $(\\star)$ is infeasible, hence its dual is either infeasible or unbounded. But note that $(w,u)=(0,0)$ is a feasible solution, so $(\\star\\star\\star)$ is indeed unbounded. Thus, there are solutions $(w,u)$ with negative value, and hence we proved existence of a separating hyperplane for $P_1$ and $P_2$.\n",
    "\n",
    "---"
   ]
  },
  {
   "cell_type": "markdown",
   "metadata": {},
   "source": [
    "<font color='blue'><b>First task, part 2:</b></font> *Can you exploit the previous insights to write a bounded linear program such that from an optimal solution, you can find a suitable normal vector $c$ of a hyperplane separating $P_1$ and $P_2$?<br>*"
   ]
  },
  {
   "cell_type": "markdown",
   "metadata": {},
   "source": [
    "We have seen in the first part above that $(\\star\\star\\star)$ has solutions of arbitrarily small value. Note that whenever you have a solution $(w,u)$, then you can scale it by an arbitrary positive real number, and it remains feasible. Thus, we conclude that for any given negative number, there exists a solution $(w,u)$ of that value.\n",
    "\n",
    "To obtain a bounded linear program, we can thus try to find a solution of value $-1$, for example, i.e., solve the linear program\n",
    "\n",
    "$$\n",
    "(\\star\\star\\star\\star)\\qquad\n",
    "\\begin{array}{rrcrcr}\n",
    "\\min & b_1^\\top w & + & b_2^\\top u\\\\\n",
    "     & A_1^\\top w & + & A_2^\\top u & =    & 0 \\\\\n",
    "     & b_1^\\top w & + & b_2^\\top u & =    & -1\\\\\n",
    "     & w          &   &            & \\geq & 0\\\\\n",
    "     &            &   & u          & \\geq & 0\n",
    "\\end{array}\n",
    "$$\n",
    "\n",
    "---"
   ]
  },
  {
   "cell_type": "markdown",
   "metadata": {},
   "source": [
    "<font color='blue'><b>Second task:</b></font>  *Test whether the polyhedra*\n",
    "\n",
    "$$\n",
    "P_1 := \\left\\{x \\in \\mathbb{R}^3\\colon \n",
    "\\begin{bmatrix}\n",
    "0&0&1\\\\\n",
    "2&0&-3\\\\\n",
    "-9&4&12\\\\\n",
    "5&-5&-6\n",
    "\\end{bmatrix}\n",
    "x \\le \n",
    "\\begin{bmatrix}\n",
    "0\\\\0\\\\10\\\\10\n",
    "\\end{bmatrix}\n",
    "\\right\\}\n",
    "$$\n",
    "\n",
    "*and*\n",
    "\n",
    "$$\n",
    "P_2 := \n",
    "\\left\\{x \\in \\mathbb{R}^3 \\colon\n",
    "\\begin{bmatrix}\n",
    "-2&1&2\\\\\n",
    "0&-1&0\\\\\n",
    "-4&2&7\\\\\n",
    "6&-2&-7\n",
    "\\end{bmatrix}\n",
    "x \\le \n",
    "\\begin{bmatrix}\n",
    "-1\\\\-1\\\\4\\\\7\n",
    "\\end{bmatrix}\n",
    "\\right\\}\n",
    "$$\n",
    "\n",
    "*are disjoint or not. If yes, find a separating hyperplane, i.e., find $c$ and $\\alpha$ with the properties described earlier; if no, find a point in $P_1\\cap P_2$.*"
   ]
  },
  {
   "cell_type": "markdown",
   "metadata": {},
   "source": [
    "We start by storing the given data in suitable containers."
   ]
  },
  {
   "cell_type": "code",
   "execution_count": null,
   "metadata": {},
   "outputs": [],
   "source": [
    "import numpy as np\n",
    "\n",
    "A1 = np.matrix([\n",
    "    [ 0, 0, 1],\n",
    "    [ 2, 0,-3],\n",
    "    [-9, 4,12],\n",
    "    [ 5,-5,-6]\n",
    "])\n",
    "b1 = np.transpose(np.matrix([0,0,10,10]))\n",
    "\n",
    "A2 = np.matrix([\n",
    "    [-2, 1, 2],\n",
    "    [ 0,-1, 0],\n",
    "    [-4, 2, 7],\n",
    "    [ 6,-2,-7]\n",
    "])\n",
    "b2= np.transpose(np.matrix([-1,-1,4,7]))"
   ]
  },
  {
   "cell_type": "markdown",
   "metadata": {},
   "source": [
    "To decide whether the polyhedra are disjoint or not, we solve the linear program $(\\star)$."
   ]
  },
  {
   "cell_type": "code",
   "execution_count": null,
   "metadata": {},
   "outputs": [],
   "source": [
    "import pulp\n",
    "\n",
    "# variable dimension\n",
    "n = A1.shape[1]\n",
    "\n",
    "# LP\n",
    "intersectionLP = pulp.LpProblem(\"Intersection LP\", pulp.LpMaximize)\n",
    "\n",
    "# variables\n",
    "x = [pulp.LpVariable(f'x_{j}') for j in range(n)]\n",
    "\n",
    "# objective\n",
    "intersectionLP += 0\n",
    "\n",
    "# constraints\n",
    "for i in range(A1.shape[0]):\n",
    "    intersectionLP += pulp.lpSum([A1[i,j]*x[j] for j in range(n)]) <= b1[i,0]\n",
    "for i in range(A2.shape[0]):\n",
    "    intersectionLP += pulp.lpSum([A2[i,j]*x[j] for j in range(n)]) <= b2[i,0]\n",
    "\n",
    "# solving, saving status\n",
    "status = intersectionLP.solve()\n",
    "\n",
    "# checking status\n",
    "if status == 1 or status == -2:\n",
    "    print(\"Intersection LP has a feasible solution, intersection is non-empty.\")\n",
    "elif status == -1:\n",
    "    print(\"Intersection LP is infeasible, intersection is empty.\")"
   ]
  },
  {
   "cell_type": "markdown",
   "metadata": {},
   "source": [
    "As the intersection is empty, we know that $(\\star\\star\\star\\star)$ has a solution, so let's find one."
   ]
  },
  {
   "cell_type": "code",
   "execution_count": null,
   "metadata": {},
   "outputs": [],
   "source": [
    "# variable dimensions\n",
    "m1 = A1.shape[0]\n",
    "m2 = A2.shape[0]\n",
    "n = A1.shape[1]\n",
    "\n",
    "# LP\n",
    "separationLP = pulp.LpProblem(\"Separation LP\", pulp.LpMinimize)\n",
    "\n",
    "# variables\n",
    "w = [pulp.LpVariable(f'w_{i}', lowBound=0) for i in range(m1)]\n",
    "u = [pulp.LpVariable(f'u_{i}', lowBound=0) for i in range(m2)]\n",
    "\n",
    "# objective\n",
    "separationLP += pulp.lpSum([b1[i,0]*w[i] for i in range(m1)] + \n",
    "                           [b2[i,0]*u[i] for i in range(m2)])\n",
    "\n",
    "# constraints\n",
    "for j in range(n):\n",
    "    separationLP += pulp.lpSum([A1[i,j]*w[i] for i in range(m1)] + \n",
    "                               [A2[i,j]*u[i] for i in range(m2)]) == 0\n",
    "separationLP += pulp.lpSum([b1[i,0]*w[i] for i in range(m1)] + \n",
    "                           [b2[i,0]*u[i] for i in range(m2)]) == -1\n",
    "\n",
    "# solving, saving status\n",
    "status = separationLP.solve()\n",
    "\n",
    "# checking status\n",
    "if status == 1:\n",
    "    print(\"Separation LP solved to optimality.\")"
   ]
  },
  {
   "cell_type": "markdown",
   "metadata": {},
   "source": [
    "Having the solution $(u,w)$, we can now infer $c=A_1^\\top w$ and $\\alpha = \\frac12\\left(\\max\\{c^\\top x\\colon x \\in P_1\\}+\\min\\{ c^\\top y\\colon y \\in P_2\\}\\right)$."
   ]
  },
  {
   "cell_type": "code",
   "execution_count": null,
   "metadata": {},
   "outputs": [],
   "source": [
    "# Reading solution and infering separating hyperplane\n",
    "\n",
    "# c = transpose(A_1) * w\n",
    "c = np.matmul(np.transpose(A1),np.transpose(np.matrix([w[i].value() for i in range(m1)])))\n",
    "\n",
    "# maximization problem over P_1\n",
    "## dimension\n",
    "n = A1.shape[1]\n",
    "## linear program\n",
    "LP1 = pulp.LpProblem(\"Maximizing c over P_1\", pulp.LpMaximize)\n",
    "## variables\n",
    "x = [pulp.LpVariable(f'x_{j}') for j in range(n)]\n",
    "## objective\n",
    "LP1 += pulp.lpSum([c[i,0]*x[i] for i in range(n)])\n",
    "## constraints\n",
    "for i in range(A1.shape[0]):\n",
    "    LP1 += pulp.lpSum([A1[i,j]*x[j] for j in range(n)]) <= b1[i,0]\n",
    "## solving\n",
    "status = LP1.solve()\n",
    "if status != 1:\n",
    "    print(\"LP1 not solved to optimality, please double check!\")\n",
    "## reading value\n",
    "alpha_lower = LP1.objective.value()\n",
    "\n",
    "# minimization problem over P_2\n",
    "## dimension\n",
    "n = A2.shape[1]\n",
    "## linear program\n",
    "LP2 = pulp.LpProblem(\"Minimizing c over P_2\", pulp.LpMinimize)\n",
    "## variables\n",
    "x = [pulp.LpVariable(f'x_{j}') for j in range(n)]\n",
    "## objective\n",
    "LP2 += pulp.lpSum([c[i,0]*x[i] for i in range(n)])\n",
    "## constraints\n",
    "for i in range(A2.shape[0]):\n",
    "    LP2 += pulp.lpSum([A2[i,j]*x[j] for j in range(n)]) <= b2[i,0]\n",
    "## solving\n",
    "status = LP2.solve()\n",
    "if status != 1:\n",
    "    print(\"LP1 not solved to optimality, please double check!\")\n",
    "## reading value\n",
    "alpha_upper = LP2.objective.value()\n",
    "\n",
    "## conclusion\n",
    "alpha = 0.5*(alpha_lower + alpha_upper)\n",
    "\n",
    "print(\"Separating hyperplane for P_1 and P_2:\")\n",
    "print(' = '.join([' + '.join([f\"{c[i,0]}*x_{i}\" for i in range(n)]), str(alpha)]))"
   ]
  },
  {
   "cell_type": "markdown",
   "metadata": {},
   "source": [
    "Note that in fact, there was no need to solve both 'LP1' and 'LP2' above: The way we set up our linear program $(\\star\\star\\star\\star)$, we know that the objectives of 'LP1' and 'LP2' are one unit apart."
   ]
  }
 ],
 "metadata": {
  "kernelspec": {
   "display_name": "Python 3",
   "language": "python",
   "name": "python3"
  },
  "language_info": {
   "codemirror_mode": {
    "name": "ipython",
    "version": 3
   },
   "file_extension": ".py",
   "mimetype": "text/x-python",
   "name": "python",
   "nbconvert_exporter": "python",
   "pygments_lexer": "ipython3",
   "version": "3.6.8"
  }
 },
 "nbformat": 4,
 "nbformat_minor": 4
}
