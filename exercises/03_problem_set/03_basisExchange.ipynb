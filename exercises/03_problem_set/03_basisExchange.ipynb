{
 "cells": [
  {
   "cell_type": "markdown",
   "metadata": {},
   "source": [
    "# Exercise: Using `numpy` to work with matrices & implement base exchanges\n",
    "<font color='blue'><b>Goal:</b></font>\n",
    "Computing simplex tableaus using `numpy`.\n",
    "\n",
    "<font color='blue'><b>Required packages:</b></font>`numpy`\n",
    "\n",
    "Consider the following LP, given in canonical form.\n",
    "\\begin{equation*}\n",
    "\\begin{array}{lrcrcrcr}\n",
    "\\max & - x_1 & - & x_2 \\\\\n",
    "&  & - & x_2 & \\le & -1 \\\\\n",
    "& -x_1 & - & x_2 & \\le & -2 \\\\\n",
    "& -4 x_1 & + & x_2 & \\le & -2 \\\\\n",
    "& -x_1 & + & x_2 & \\le & 1 \\\\\n",
    "& x_1 & & & \\ge & 0 \\\\\n",
    "& & & x_2 & \\ge & 0 \\\\\n",
    "\\end{array}\n",
    "\\end{equation*}\n",
    "\n",
    "By adding slack variables we obtain the equivalent standard form shown below.\n",
    "\\begin{equation*}\n",
    "\\begin{array}{lcccccrcrcl}\n",
    "\\max &       &     &      &      & -  &  x_1 & - & x_2 &   &    \\\\\n",
    "     &   y_1 &     &      &      &    &      & - & x_2 & = & -1 \\\\\n",
    "     &       & y_2 &      &      & -  &  x_1 & - & x_2 & = & -2 \\\\\n",
    "     &       &     & y_3  &      & -  & 4x_1 & + & x_2 & = & -2 \\\\\n",
    "     &       &     &      & y_4  & -  &  x_1 & + & x_2 & = &  \\phantom{-}1 \\\\\n",
    "     &       &     &      &      &    &      &   & x   & \\in  &  \\mathbb{R}^2_{\\geq 0} \\\\[0.2em]\n",
    "     &       &     &      &      &    &      &   & y   & \\in  &  \\mathbb{R}^4_{\\geq 0}\\\\\n",
    "\\end{array}\n",
    "\\end{equation*}\n",
    "\n",
    "Let us choose the slack variables $y$ as a basis. We then obtain the simplex tableau\n",
    "\\begin{equation*}\n",
    "\\qquad \\begin{array}{l|rrrrrr|r}\n",
    "& y_{1} & y_{2} & y_{3} & y_{4} & x_{1} & x_{2} &  \\\\\n",
    "\\hline\n",
    "& 1 & 0 & 0 & 0 &  0 & -1 & -1 \\\\\n",
    "& 0 & 1 & 0 & 0 & -1 & -1 & -2 \\\\\n",
    "& 0 & 0 & 1 & 0 & -4 &  1 & -2 \\\\\n",
    "& 0 & 0 & 0 & 1 & -1 &  1 & 1\n",
    "\\end{array}\n",
    "\\end{equation*}\n",
    "with basic solution \n",
    "$(y_1,y_2,y_3,y_4,x_1,x_2)=\\left(-1,-2,-2,1,0,0\\right)$.\n",
    "\n",
    "**How can we switch from one basis to another without applying multiple exchange steps?** To answer this question, it is convenient to use matrix multiplication. In python, we can use the package `numpy` for dealing with matrices."
   ]
  },
  {
   "cell_type": "markdown",
   "metadata": {},
   "source": [
    "## Introduction to `numpy`\n",
    "`numpy` (short for numeric python) allows for a diverse range of scientific computations. For us, however, it will be a tool to compute matrix multiplications.\n",
    "\n",
    "### Feeding a matrix to `numpy`\n",
    "The following code shows how to store the matrix\n",
    "$$A:=\\begin{bmatrix}1&3\\\\4&5\\end{bmatrix}$$\n",
    "in `numpy`: as a list of lists which correspond to the row vectors of $A$."
   ]
  },
  {
   "cell_type": "code",
   "execution_count": 1,
   "metadata": {},
   "outputs": [
    {
     "data": {
      "text/plain": [
       "matrix([[1, 3],\n",
       "        [4, 5]])"
      ]
     },
     "execution_count": 1,
     "metadata": {},
     "output_type": "execute_result"
    }
   ],
   "source": [
    "# Import the package\n",
    "import numpy as np\n",
    "\n",
    "A = np.matrix([\n",
    "    [1,3],\n",
    "    [4,5]\n",
    "])\n",
    "\n",
    "A"
   ]
  },
  {
   "cell_type": "markdown",
   "metadata": {},
   "source": [
    "### Matrix multiplication\n",
    "Consider $B:=\\begin{bmatrix}1&5&4\\\\6&9&0\\end{bmatrix}$. Then $A\\cdot B$ is computed in `numpy` via the `matmul` function:"
   ]
  },
  {
   "cell_type": "code",
   "execution_count": 2,
   "metadata": {},
   "outputs": [
    {
     "data": {
      "text/plain": [
       "matrix([[19, 32,  4],\n",
       "        [34, 65, 16]])"
      ]
     },
     "execution_count": 2,
     "metadata": {},
     "output_type": "execute_result"
    }
   ],
   "source": [
    "B = np.matrix([\n",
    "    [1,5,4],\n",
    "    [6,9,0]\n",
    "])\n",
    "\n",
    "np.matmul(A,B)"
   ]
  },
  {
   "cell_type": "markdown",
   "metadata": {},
   "source": [
    "### Matrix transposes\n",
    "To calculate $A^T$, use the `np.transpose` function:"
   ]
  },
  {
   "cell_type": "code",
   "execution_count": 3,
   "metadata": {},
   "outputs": [
    {
     "data": {
      "text/plain": [
       "matrix([[1, 4],\n",
       "        [3, 5]])"
      ]
     },
     "execution_count": 3,
     "metadata": {},
     "output_type": "execute_result"
    }
   ],
   "source": [
    "np.transpose(A)"
   ]
  },
  {
   "cell_type": "markdown",
   "metadata": {},
   "source": [
    "### Working with matrix inverses\n",
    "The inverse $A^{-1}$ of $A$ can be calculated using `linalg.inv`:"
   ]
  },
  {
   "cell_type": "code",
   "execution_count": 4,
   "metadata": {},
   "outputs": [
    {
     "data": {
      "text/plain": [
       "matrix([[-0.71428571,  0.42857143],\n",
       "        [ 0.57142857, -0.14285714]])"
      ]
     },
     "execution_count": 4,
     "metadata": {},
     "output_type": "execute_result"
    }
   ],
   "source": [
    "np.linalg.inv(A)"
   ]
  },
  {
   "cell_type": "markdown",
   "metadata": {},
   "source": [
    "**Note, however, that explicitly computing inverses can lead to numerical stabilty issues.** We will thus try to avoid it whenever possible. One example is when we want to solve a system of the form $Ax = B$, where the solution is $x = A^{-1}B$, given that $A$ is invertible (note that with $A$ and $B$ as given above, the solution $x$ is a matrix). Such systems can be solved using the `linalg.solve` function:"
   ]
  },
  {
   "cell_type": "code",
   "execution_count": 5,
   "metadata": {},
   "outputs": [
    {
     "name": "stdout",
     "output_type": "stream",
     "text": [
      "[[ 1.85714286  0.28571429 -2.85714286]\n",
      " [-0.28571429  1.57142857  2.28571429]]\n",
      "\n",
      "[[ 1.85714286  0.28571429 -2.85714286]\n",
      " [-0.28571429  1.57142857  2.28571429]]\n"
     ]
    }
   ],
   "source": [
    "# using linalg.solve\n",
    "print(np.linalg.solve(A,B))\n",
    "print()\n",
    "\n",
    "# unstable way using linalg.inv and matrix multiplication\n",
    "print(np.matmul(np.linalg.inv(A),B))"
   ]
  },
  {
   "cell_type": "markdown",
   "metadata": {},
   "source": [
    "In the above example you don't see a difference because the matrix $A$ is not ill-conditioned, but be advised that both in terms of stability and in terms of running time, using `linalg.solve` is the preferred way to do it."
   ]
  },
  {
   "cell_type": "markdown",
   "metadata": {},
   "source": [
    "## Base exchange with `numpy`\n",
    "Use `numpy` to write a function, which, given a tableau $T$ and a vector $v$ of column indices corresponding to a basis, returns a new tableau $T'$ with respect to $B$."
   ]
  },
  {
   "cell_type": "code",
   "execution_count": null,
   "metadata": {},
   "outputs": [],
   "source": [
    "def tableau(T,v):\n",
    "    # IMPLEMENT YOUR FUNCTION HERE\n",
    "    \n",
    "    return T_prime"
   ]
  },
  {
   "cell_type": "markdown",
   "metadata": {},
   "source": [
    "## Testing your implementation\n",
    "Feed the above tableau in your function, with $v=[5,4,2,3]$ and check whether you obtain the following tableau:\n",
    "\\begin{equation*}\n",
    "\\begin{array}{l|rrrrrr|r}\n",
    "& y_{1} & y_{2} & y_{3} & y_{4} & x_{1} & x_{2} &  \\\\\n",
    "\\hline\n",
    "& -1 &  0 & 0 & 0 & 0 & 1 & 1 \\\\\n",
    "&  1 & -1 & 0 & 0 & 1 & 0 & 1 \\\\\n",
    "&  5 & -4 & 1 & 0 & 0 & 0 & 1 \\\\\n",
    "&  2 & -1 & 0 & 1 & 0 & 0 & 1\n",
    "\\end{array}\n",
    "\\end{equation*}"
   ]
  },
  {
   "cell_type": "code",
   "execution_count": null,
   "metadata": {},
   "outputs": [],
   "source": [
    "# TEST YOUR IMPLEMENTATION HERE"
   ]
  }
 ],
 "metadata": {
  "kernelspec": {
   "display_name": "Python 3",
   "language": "python",
   "name": "python3"
  },
  "language_info": {
   "codemirror_mode": {
    "name": "ipython",
    "version": 3
   },
   "file_extension": ".py",
   "mimetype": "text/x-python",
   "name": "python",
   "nbconvert_exporter": "python",
   "pygments_lexer": "ipython3",
   "version": "3.6.8"
  }
 },
 "nbformat": 4,
 "nbformat_minor": 4
}
