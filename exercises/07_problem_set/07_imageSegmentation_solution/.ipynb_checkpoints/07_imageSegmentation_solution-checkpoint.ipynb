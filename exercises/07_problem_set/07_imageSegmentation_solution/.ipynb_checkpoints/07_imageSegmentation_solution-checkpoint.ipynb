{
 "cells": [
  {
   "cell_type": "markdown",
   "metadata": {},
   "source": [
    "## Solution: Image segmentation using flows\n",
    "\n",
    "### Reading the image and defining a selection\n",
    "\n",
    "The subsequent code is copied from the exercise notebook to make this solution notebook run independently."
   ]
  },
  {
   "cell_type": "code",
   "execution_count": null,
   "metadata": {},
   "outputs": [],
   "source": [
    "import imageSegmentation_module as helpers\n",
    "\n",
    "# reading image and displaying it\n",
    "img = helpers.read_image(\"imageSegmentation_picture.jpeg\")\n",
    "helpers.plot_image(img)"
   ]
  },
  {
   "cell_type": "code",
   "execution_count": null,
   "metadata": {},
   "outputs": [],
   "source": [
    "# Defining selection and displaying it\n",
    "xy = [(89,120), (90,40), (99, 8), (108,38), (110,120)]\n",
    "sel = helpers.polygonal_selection(xy, img.shape)\n",
    "helpers.plot_selection(img, sel)"
   ]
  },
  {
   "cell_type": "markdown",
   "metadata": {},
   "source": [
    "### Implementation\n",
    "\n",
    "<font color='blue'><b>First task:</b></font> `get_digraph` function. It is already equipped with a parameter `a` that is relevant for the fourth task - setting $a=1$ (the default value), you get what corresponds to the actual first task."
   ]
  },
  {
   "cell_type": "code",
   "execution_count": null,
   "metadata": {},
   "outputs": [],
   "source": [
    "def get_digraph(img, sel, x, a = 1):\n",
    "    \n",
    "    ## Your code goes here.\n",
    "    \n",
    "    import networkx as nx\n",
    "    from math import pow\n",
    "    \n",
    "    def capacity(p, q):\n",
    "        return pow(255 - abs(img[p[0]][p[1]] - img[q[0]][q[1]]), a)\n",
    "    \n",
    "    (m,n) = img.shape\n",
    "    \n",
    "    # define digraph\n",
    "    G = nx.DiGraph()\n",
    "    \n",
    "    # add vertices\n",
    "    for i in range(m):\n",
    "        for j in range(n):\n",
    "            G.add_node((i,j))\n",
    "    s = \"s\"\n",
    "    t = \"t\"\n",
    "    G.add_node(s)\n",
    "    G.add_node(t)\n",
    "    \n",
    "    # add edges\n",
    "    for i in range(m):\n",
    "        for j in range(n):\n",
    "            if i < m-1:\n",
    "                G.add_edge((i,j), (i+1,j), capacity = capacity((i,j), (i+1,j)))\n",
    "                G.add_edge((i+1,j), (i,j), capacity = capacity((i+1,j), (i,j)))\n",
    "            if j < n-1:\n",
    "                G.add_edge((i,j), (i,j+1), capacity = capacity((i,j), (i,j+1)))\n",
    "                G.add_edge((i,j+1), (i,j), capacity = capacity((i,j+1), (i,j)))\n",
    "            if sel[i][j] == 1:\n",
    "                G.add_edge(\"s\", (i,j), capacity = x)\n",
    "            if sel[i][j] == 0:\n",
    "                G.add_edge((i,j), \"t\", capacity = x)\n",
    "    \n",
    "    return (G, s, t)"
   ]
  },
  {
   "cell_type": "markdown",
   "metadata": {},
   "source": [
    "<font color='blue'><b>Second task:</b></font> Function `image_segmentation`. As above, the extra parameter $a$ (see task 4) is included already."
   ]
  },
  {
   "cell_type": "code",
   "execution_count": null,
   "metadata": {},
   "outputs": [],
   "source": [
    "def image_segmentation(img, sel, x, a = 1):\n",
    "    \n",
    "    import networkx as nx\n",
    "    \n",
    "    # construct digraph\n",
    "    (G, s, t) = get_digraph(img, sel, x, a)\n",
    "    \n",
    "    # calculate min cut\n",
    "    (value, partition) = nx.minimum_cut(G, s, t)\n",
    "    cut = partition[0] if s in partition[0] else partition[1]\n",
    "    \n",
    "    seg = sel * 0\n",
    "    for v in cut:\n",
    "        if v != s:\n",
    "            seg[v[0]][v[1]] = 1\n",
    "    \n",
    "    return seg"
   ]
  },
  {
   "cell_type": "markdown",
   "metadata": {},
   "source": [
    "<font color='blue'><b>Third task:</b></font> Testing. See the comments below."
   ]
  },
  {
   "cell_type": "code",
   "execution_count": null,
   "metadata": {},
   "outputs": [],
   "source": [
    "# testing\n",
    "\n",
    "seg = image_segmentation(img, sel, 20)\n",
    "helpers.plot_selection(img, seg)"
   ]
  },
  {
   "cell_type": "markdown",
   "metadata": {},
   "source": [
    "For too small values of the parameter $x$, e.g. $x=20$ above, deviations from the preselection are not punished much at all compared to the penalties obtained for cutting pixels, so the minimum cut will be $\\{s\\}$, coresponding to an empty selection."
   ]
  },
  {
   "cell_type": "code",
   "execution_count": null,
   "metadata": {},
   "outputs": [],
   "source": [
    "seg = image_segmentation(img, sel, 30)\n",
    "helpers.plot_selection(img, seg)"
   ]
  },
  {
   "cell_type": "markdown",
   "metadata": {},
   "source": [
    "For slightly larger values of the parameter $x$, e.g $x=30$ above, it is no longer beneficial to not keep any pixels of the preselection. Note that as in our picture, the skyscraper's color is dark gray while the background is light gray (and not 100% black/white), hence even cutting between skyscraper and background pixels will contribute something to the cut value. From this point of view, it is desirable that the segmented picture has a short boundary (a short boundary implies fewer cuts between neighbouring pixels), while still keeping most of the preselection. "
   ]
  },
  {
   "cell_type": "code",
   "execution_count": null,
   "metadata": {},
   "outputs": [],
   "source": [
    "seg = image_segmentation(img, sel, 45)\n",
    "helpers.plot_selection(img, seg)"
   ]
  },
  {
   "cell_type": "markdown",
   "metadata": {},
   "source": [
    "Increasing $x$ to $x=45$, which makes keeping parts of the preselection more beneficial, we see that indeed, larger parts of the preselection are kept. Still, though, the effect described above (having short boundary while keeping preselection) leads to a bad result: At the top narrow part of the skyscraper, some obvious background pixels of the preselection are now kept, while the antenna remains cut off. The straight cut on the left side of the skyscraper is there for the same reason: Selecting the toothed shape of the Taipei 101 tower would keep more of the preselection, but at the same time create a longer boundary, with the latter creating more costs than the first can create benefit."
   ]
  },
  {
   "cell_type": "code",
   "execution_count": null,
   "metadata": {},
   "outputs": [],
   "source": [
    "seg = image_segmentation(img, sel, 60)\n",
    "helpers.plot_selection(img, seg)"
   ]
  },
  {
   "cell_type": "markdown",
   "metadata": {},
   "source": [
    "Further increasing to $x=60$, the phenomenon described above, we see that more and more pixels of the preselection are kept - unfortunately, also more of the background pixels that we'd wish to cut."
   ]
  },
  {
   "cell_type": "code",
   "execution_count": null,
   "metadata": {},
   "outputs": [],
   "source": [
    "seg = image_segmentation(img, sel, 1000)\n",
    "helpers.plot_selection(img, seg)"
   ]
  },
  {
   "cell_type": "markdown",
   "metadata": {},
   "source": [
    "Very large values of $x$, e.g. $x=1000$ above, lead to an overproportional value of the preselection, with color differences playing a no role any longer, thus the preselection is returned.\n",
    "\n",
    "\n",
    "The main problem of our approach is the capacity function that depends linarly on the difference of the grayscale values. We'd like to punish cuts between similar pixels overproportionally more compared to cuts between different pixels, i.e., we'd like the capacity function $u(p,q)$ to be convex in $|g_p-g_q|$. This is what the capacity function $u(p,q) := (255- |g_p-g_q|)^a$ proposed in task four does for $a>1$."
   ]
  },
  {
   "cell_type": "markdown",
   "metadata": {},
   "source": [
    "<font color='blue'><b>Fourth task:</b></font> The implementation above already takes the new parameter $a$ into account. The examples below show how results change with increasing $a$, and it shows some good choices of parameters."
   ]
  },
  {
   "cell_type": "code",
   "execution_count": null,
   "metadata": {},
   "outputs": [],
   "source": [
    "# testing\n",
    "\n",
    "from math import pow\n",
    "seg = image_segmentation(img, sel, pow(113,2), 2)\n",
    "helpers.plot_selection(img, seg)"
   ]
  },
  {
   "cell_type": "code",
   "execution_count": null,
   "metadata": {},
   "outputs": [],
   "source": [
    "seg = image_segmentation(img, sel, pow(115,2), 2)\n",
    "helpers.plot_selection(img, seg)"
   ]
  },
  {
   "cell_type": "markdown",
   "metadata": {},
   "source": [
    "For $a=2$, we the results are better, but we still see effects similar to the ones with $a=1$: Parts of the tower are cut at $x=113^2$, but increasing $x$ to $x=115^2$ does mainly add backgroun"
   ]
  },
  {
   "cell_type": "code",
   "execution_count": null,
   "metadata": {},
   "outputs": [],
   "source": [
    "seg = image_segmentation(img, sel, pow(158,3), 3)\n",
    "helpers.plot_selection(img, seg)"
   ]
  },
  {
   "cell_type": "markdown",
   "metadata": {},
   "source": [
    "With $a=3$ and $x=158^3$, we are able to well capture the toothed structure of the skyscraper and the antenna on top, with some room for improvement at the narrow section of the towers top."
   ]
  },
  {
   "cell_type": "code",
   "execution_count": null,
   "metadata": {},
   "outputs": [],
   "source": [
    "seg = image_segmentation(img, sel, pow(170,5), 5)\n",
    "helpers.plot_selection(img, seg)"
   ]
  },
  {
   "cell_type": "markdown",
   "metadata": {},
   "source": [
    "Going up to $a=5$ and choosing $x=170^5$ gives a good result at the tower's top, as well."
   ]
  }
 ],
 "metadata": {
  "kernelspec": {
   "display_name": "Python 3",
   "language": "python",
   "name": "python3"
  },
  "language_info": {
   "codemirror_mode": {
    "name": "ipython",
    "version": 3
   },
   "file_extension": ".py",
   "mimetype": "text/x-python",
   "name": "python",
   "nbconvert_exporter": "python",
   "pygments_lexer": "ipython3",
   "version": "3.6.8"
  }
 },
 "nbformat": 4,
 "nbformat_minor": 4
}
