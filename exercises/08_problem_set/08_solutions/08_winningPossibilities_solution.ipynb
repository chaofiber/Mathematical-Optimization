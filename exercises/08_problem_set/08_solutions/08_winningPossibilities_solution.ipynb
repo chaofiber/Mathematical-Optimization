{
 "cells": [
  {
   "cell_type": "markdown",
   "metadata": {},
   "source": [
    "# Solution: Can your favourite handball team still win?\n",
    "\n",
    "## A real world-example: HBL season 2017/18\n",
    "\n",
    "The table after matchday 24 is the following.\n",
    "\n",
    "| Rank | Team                   | Points |\n",
    "|------|------------------------|--------|\n",
    "|  1   | Rhein-Neckar Löwen     | 40     |\n",
    "|  2   | Füchse Berlin          | 40     |\n",
    "|  3   | SG Flensburg-Handewitt | 38     |\n",
    "|  4   | TSV Hannover-Burgdorf  | 37     |\n",
    "|  5   | SC Magdeburg           | 35     |\n",
    "|  7   | THW Kiel               | 31     |\n",
    "|  6   | MT Melsungen           | 31     |\n",
    "|  8   | SC DHfK Leipzig        | 29     |\n",
    "|  9   | HSG Wetzlar            | 23     |\n",
    "| 10   | TBV Lemgo              | 21     |\n",
    "| 11   | FRISCH AUF! Göppingen  | 20     |\n",
    "| 12   | TSV GWD Minden         | 19     |\n",
    "| 13   | HC Erlangen            | 16     |\n",
    "| 14   | TVB 1898 Stuttgart     | 13     |\n",
    "| 15   | VfL Gummersbach        | 12     |\n",
    "| 16   | TuS N-Lübbecke         | 11     |\n",
    "| 17   | TV 05/07 Hüttenberg    |  9     |\n",
    "| 18   | Die Eulen Ludwigshafen |  7     |\n",
    "\n",
    "<font color=\"blue\"><b>First task:</b></font> Max's argument is not complete - just arguing that a team has enough remaining games to catch up with the *current* score of the leading team is not enough. Max checked that the two leading teams do not play each other, but this is not enough: Imagine that in the remaining season, the first three teams will all play each other once, then at least one of them will have 42 points! Thus, we conclude that a final decision cannot be made from seeing the current table only, there is a dependence on the remaining games that are to be played."
   ]
  },
  {
   "cell_type": "markdown",
   "metadata": {},
   "source": [
    "## The general setting\n",
    "\n",
    "<font color=\"blue\"><b>Second task:</b></font> An implementation of the function `can_they_win()` is given below."
   ]
  },
  {
   "cell_type": "code",
   "execution_count": null,
   "metadata": {},
   "outputs": [],
   "source": [
    "import networkx as nx\n",
    "\n",
    "def can_they_win(current_points, remaining_games_graph, team):\n",
    "\n",
    "    # calculate final points of the given team\n",
    "    #   (assuming that they win all their games)\n",
    "    team_matches = [e for e in remaining_games_graph.edges(keys = True) if team in e]\n",
    "    final_points_team = current_points[team] + 2 * len(team_matches)\n",
    "    \n",
    "    # check if there is a team with strictly more points already\n",
    "    for pts in current_points.values():\n",
    "        if pts > final_points_team:\n",
    "            return False\n",
    "\n",
    "    # get matches not involving given team and remaining points\n",
    "    other_matches = [e for e in remaining_games_graph.edges() if team not in e]\n",
    "    num_other_matches = len(other_matches)\n",
    "    remaining_other_points = 2 * num_other_matches\n",
    "    \n",
    "    # get list of all teams involved\n",
    "    teams = current_points.keys()\n",
    "\n",
    "    # generate flow digraph, add vertices and edges\n",
    "    g = nx.DiGraph()\n",
    "    g.add_nodes_from([\"s\", \"t\"] + other_matches + [t for t in teams if t != team])\n",
    "    for m in other_matches:\n",
    "        g.add_edge(\"s\", m, capacity = 2)\n",
    "        g.add_edge(m, m[0], capacity = 2)\n",
    "        g.add_edge(m, m[1], capacity = 2)\n",
    "    for t in current_points.keys():\n",
    "        if t != team:\n",
    "            g.add_edge(t, \"t\", capacity = final_points_team - current_points[t] - 1)\n",
    "\n",
    "    # calculate max flow value\n",
    "    val = nx.maximum_flow_value(g, \"s\", \"t\")\n",
    "\n",
    "    # return whether max flow has desired value\n",
    "    return val == remaining_other_points"
   ]
  },
  {
   "cell_type": "markdown",
   "metadata": {},
   "source": [
    "## Testing the implementation\n",
    "\n",
    "<font color=\"blue\"><b>Third task:</b></font> Test if \"TBV Lemgo\" and \"HSG Wetzlar\" can become sole leaders at the end of the season, judging from the standings after matchday 24."
   ]
  },
  {
   "cell_type": "code",
   "execution_count": null,
   "metadata": {},
   "outputs": [],
   "source": [
    "import winningPossibilities_module as helpers\n",
    "\n",
    "current_points = helpers.get_current_points(24)\n",
    "remaining_games_graph = helpers.get_remaining_games_graph(24)\n",
    "\n",
    "# Can \"TBV Lemgo\" be the sole leader at the end of the season?\n",
    "team = \"TBV Lemgo\"\n",
    "res = can_they_win(current_points, remaining_games_graph, team)\n",
    "print(f\"{team} can {'' if res else 'not'} be the sole leader after matchday 34.\")\n",
    "\n",
    "# Can \"HSG Wetzlar\" be the sole leader at the end of the season?\n",
    "team = \"HSG Wetzlar\"\n",
    "res = can_they_win(current_points, remaining_games_graph, team)\n",
    "print(f\"{team} can {'' if res else 'not '}be the sole leader after matchday 34.\")"
   ]
  },
  {
   "cell_type": "markdown",
   "metadata": {},
   "source": [
    "## Getting certificates\n",
    "\n",
    "<font color=\"blue\"><b>Fourth task:</b></font> Providing certificates if a team cannot win. It was shown in the lecture (see lecture notes) how such certificates can be obtained from minimum cuts in a graph that is essentially the auxiliary digraph used above (except for the fact that edge capacities of edges connecting a game to a team are set to values larger than 2): It is precisely the set of all teams in a minimum cut.\n",
    "\n",
    "The returned certificates are (in case the answer is `False`) sets of teams such that at the end of the season, at least one of the teams in the set has the same number of points as the given team will, based only on the current points and games that are played among the teams in the returned set. From the discussion in the lecture, we know that if the answer is `False`, then such a set always exists, and we will find it."
   ]
  },
  {
   "cell_type": "code",
   "execution_count": null,
   "metadata": {},
   "outputs": [],
   "source": [
    "def can_they_win_certificate(current_points, remaining_games_graph, team):\n",
    "    # Note: Comments only on what changed compared to previous implementation!\n",
    "    \n",
    "    team_matches = [e for e in remaining_games_graph.edges(keys = True) if team in e]\n",
    "    final_points_team = current_points[team] + 2 * len(team_matches)\n",
    "    \n",
    "    # if there is a team with strictly more points already, return false and the team\n",
    "    for tm, pts in current_points.items():\n",
    "        if pts > final_points_team:\n",
    "            return (False, set(tm))\n",
    "\n",
    "    other_matches = [e for e in remaining_games_graph.edges() if team not in e]\n",
    "    num_other_matches = len(other_matches)\n",
    "    remaining_other_points = 2 * num_other_matches\n",
    "    \n",
    "    teams = set(current_points.keys())\n",
    "\n",
    "    # the flow digraph now has capacity 3 on edges connecting matches to teams\n",
    "    g = nx.DiGraph()\n",
    "    g.add_nodes_from([\"s\", \"t\"] + other_matches + [t for t in teams if t != team])\n",
    "    for m in other_matches:\n",
    "        g.add_edge(\"s\", m, capacity = 2)\n",
    "        g.add_edge(m, m[0], capacity = 3)\n",
    "        g.add_edge(m, m[1], capacity = 3)\n",
    "    for t in current_points.keys():\n",
    "        if t != team:\n",
    "            g.add_edge(t, \"t\", capacity = final_points_team - current_points[t] - 1)\n",
    "\n",
    "    # calculate min cut and its value\n",
    "    val, partition = nx.minimum_cut(g, \"s\", \"t\")\n",
    "    \n",
    "    # Can the given team finish as sole leader?\n",
    "    answer = val == remaining_other_points\n",
    "    \n",
    "    # If no, get certificate (teams in min s-t cut)\n",
    "    certificate = None if answer else teams.intersection(partition[0] if \"s\" in partition[0] else partition[1])\n",
    "\n",
    "    # return answer and certificate\n",
    "    return (answer, certificate)"
   ]
  },
  {
   "cell_type": "markdown",
   "metadata": {},
   "source": [
    "To get a certificate for the case of \"TBV Lemgo\", we run the following code."
   ]
  },
  {
   "cell_type": "code",
   "execution_count": null,
   "metadata": {},
   "outputs": [],
   "source": [
    "import winningPossibilities_module as helpers\n",
    "\n",
    "current_points = helpers.get_current_points(24)\n",
    "remaining_games_graph = helpers.get_remaining_games_graph(24)\n",
    "\n",
    "# Can \"TBV Lemgo\" be the sole leader at the end of the season?\n",
    "team = \"TBV Lemgo\"\n",
    "(res, cert) = can_they_win_certificate(current_points, remaining_games_graph, team)\n",
    "print(f\"{team} can {'' if res else 'not'} be the sole leader after matchday 34.\")\n",
    "if not res:\n",
    "    print(f\"Certificate: {cert}\")"
   ]
  },
  {
   "cell_type": "markdown",
   "metadata": {},
   "source": [
    "We know that the certificate set is a set of teams among which at least one will have more points than \"TBV Lemgo\" at the end of the season. To explain this to your friend Max, you could show him the following.\n",
    "\n",
    "Consider the following teams with their current points:"
   ]
  },
  {
   "cell_type": "code",
   "execution_count": null,
   "metadata": {},
   "outputs": [],
   "source": [
    "sum = 0\n",
    "nb_teams = 0\n",
    "for t in cert:\n",
    "    pts = current_points[t]\n",
    "    print(f'\"{t}\": {pts} Points')\n",
    "    sum += pts\n",
    "    nb_teams += 1\n",
    "print()\n",
    "print(f\"Total: {nb_teams} teams, {sum} points\")"
   ]
  },
  {
   "cell_type": "markdown",
   "metadata": {},
   "source": [
    "In the remaining season, there will be the following games among these teams:"
   ]
  },
  {
   "cell_type": "code",
   "execution_count": null,
   "metadata": {},
   "outputs": [],
   "source": [
    "count = 0\n",
    "for e in remaining_games_graph.edges(keys = True):\n",
    "    if e[0] in cert and e[1] in cert:\n",
    "        print(f\"{e[0]} vs. {e[1]}\")\n",
    "        count += 1\n",
    "print()\n",
    "print(f\"There are {count} games among the teams, with {2*count} points to be distributed.\")"
   ]
  },
  {
   "cell_type": "markdown",
   "metadata": {},
   "source": [
    "From this information, it is easy to see that at least one of these teams will have at least 41 points at the end of the season:"
   ]
  },
  {
   "cell_type": "code",
   "execution_count": null,
   "metadata": {},
   "outputs": [],
   "source": [
    "print(f\"The {nb_teams} teams listed above will on average have \" +\n",
    "      f\"at least {(sum + 2*count)/nb_teams} points at the end of the season.\")"
   ]
  },
  {
   "cell_type": "markdown",
   "metadata": {},
   "source": [
    "Thus, \"TBV Lemgo\", who can reach at most 41 points, will definitely not be the sole leader at the end of the season."
   ]
  }
 ],
 "metadata": {
  "kernelspec": {
   "display_name": "Python 3",
   "language": "python",
   "name": "python3"
  },
  "language_info": {
   "codemirror_mode": {
    "name": "ipython",
    "version": 3
   },
   "file_extension": ".py",
   "mimetype": "text/x-python",
   "name": "python",
   "nbconvert_exporter": "python",
   "pygments_lexer": "ipython3",
   "version": "3.7.3"
  }
 },
 "nbformat": 4,
 "nbformat_minor": 4
}
