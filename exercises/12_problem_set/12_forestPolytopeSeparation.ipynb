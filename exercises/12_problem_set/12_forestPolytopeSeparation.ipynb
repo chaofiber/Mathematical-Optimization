{
 "cells": [
  {
   "cell_type": "markdown",
   "metadata": {},
   "source": [
    "# Exercise: A polynomial-time separation oracle for the forest polytope\n",
    "\n",
    "<font color='blue'><b>Goal:</b></font> Design and implement a separation oracle for the forest polytope.\n",
    "\n",
    "Let $G=(V,E)$ be a graph. The *forest polytope* $P\\subseteq\\mathbb{R}^E$ associated with $G$ is the convex hull of all incidence vectors of forests of $G$. It can be written as\n",
    "\n",
    "$$\n",
    "P = \\left\\{ x\\in \\mathbb{R}^E_{\\geq 0}\\colon x(E[S]) \\leq |S|-1 \\text{ for all } S\\subseteq V,\\ S\\neq \\emptyset\\right\\}\\enspace.\n",
    "$$\n",
    "\n",
    "Before we address the separation question, think about how to prove this fact!"
   ]
  },
  {
   "cell_type": "markdown",
   "metadata": {},
   "source": [
    "<font color='blue'><b>Your first task:</b></font> How would you prove that the description of $P$ given above is correct? (This is not a coding exercise.)"
   ]
  },
  {
   "cell_type": "markdown",
   "metadata": {},
   "source": [
    "*Write your answer here.*\n"
   ]
  },
  {
   "cell_type": "markdown",
   "metadata": {},
   "source": [
    "---"
   ]
  },
  {
   "cell_type": "markdown",
   "metadata": {},
   "source": [
    "## Reminder: Separation oracles\n",
    "\n",
    "Recall that a separation oracle for $P$ is a procedure that, given a point $y\\in\\mathbb{R}^E$, decides if $y\\in P$, and if not, finds a separating hyperplane for $y$.\n",
    "\n",
    "Note that $y$ is not in $P$, then one of the constraints gives such a separating hyperplane, so it would be enough to check all constraints. However, in the forest polytope above, there are exponentially many constraints to check, which we cannot do directly in polynomial time. Thus, we need a more efficient procedure to do so.\n",
    "\n",
    "What we can definitely do efficiently is to check whether one of the non-negativity constraints is violated - this just takes $O(n)$ time, looking at one coordinate after the other. The hard part is separating over the subtour elimination constraints $x(E[S]) \\leq |S|-1$ for all non-empty $S\\subset V$."
   ]
  },
  {
   "cell_type": "markdown",
   "metadata": {},
   "source": [
    "---"
   ]
  },
  {
   "cell_type": "markdown",
   "metadata": {},
   "source": [
    "## Separating over subtour elimination constraints: Rewriting as a cut problem\n",
    "\n",
    "A first idea could be to find a constraint that is \"most violated\", i.e., a set $S$ for which $|S|-1-y(E[S])$ is smallest. In other words, we would like to solve the problem\n",
    "\n",
    "$$ (\\star)\\qquad \\min \\left\\{ |S| - y(E[S]) \\;\\middle|\\; S\\subseteq V, S\\neq \\emptyset\\right\\}\\enspace. $$\n",
    "\n",
    "<font color='blue'><b>Your second task:</b></font> Prove that if the optimal value of $(\\star)$ is at least $1$ and $y\\geq 0$, then $y\\in P$. Show how to obtain a separating hyperplane for $y$ from an optimal solution of $(\\star)$ if the optimal value of $(\\star)$ is less than $1$."
   ]
  },
  {
   "cell_type": "markdown",
   "metadata": {},
   "source": [
    "*Write your answer here.*\n"
   ]
  },
  {
   "cell_type": "markdown",
   "metadata": {},
   "source": [
    "---"
   ]
  },
  {
   "cell_type": "markdown",
   "metadata": {},
   "source": [
    "Our goal is to rewrite the problem $(\\star)$ as (several) minimum cut problems. To this end, it is convenient to rewrite the objective function as follows.\n",
    "\n",
    "<font color='blue'><b>Your third task:</b></font> Prove that for all $S\\subseteq V$, we have\n",
    "\n",
    "$$ y(E[S]) = \\frac12 \\sum_{v\\in S} y(\\delta(v)) - \\frac12 y(\\delta(S))\\enspace, $$\n",
    "\n",
    "and show that for any constant $\\kappa$, the problem $(\\star)$ has the same optimal solutions as\n",
    "\n",
    "$$ (\\star\\star)\\qquad \\min \\left\\{ y(\\delta(S)) + \\sum_{v\\in S} \\big(2-y(\\delta(v))\\big) + \\kappa \\;\\middle|\\; S\\subseteq V, S\\neq \\emptyset\\right\\}\\enspace. $$\n",
    "\n",
    "How can you decide that $y\\in P$ or find a separating hyperplane from a solution of $(\\star\\star)$?"
   ]
  },
  {
   "cell_type": "markdown",
   "metadata": {},
   "source": [
    "*Write your answer here.*\n"
   ]
  },
  {
   "cell_type": "markdown",
   "metadata": {},
   "source": [
    "---"
   ]
  },
  {
   "cell_type": "markdown",
   "metadata": {},
   "source": [
    "The problem $(\\star\\star)$ is somewhat close to a min-cut problem: The feasible sets are cuts in $G$ (except for the full set), and the first part $y(\\delta(S))$ of the objective function is a cut function. Our first goal is to transform the problem into to a more standard minimum $s$-$t$ cut setting. To this end, we define an auxiliary digraph $H = (W,F)$, where $W = V \\cup \\{s,t\\}$, and edge weights $w: F\\to\\mathbb{R}_{\\geq 0}$. The goal is to define $F$ and $w$ such that for any $s$-$t$ cut $C\\subseteq W$ in $H$, we have\n",
    "\n",
    "$$ (\\star\\star\\star) \\underbrace{w(\\delta_H^+(C))}_{\\text{value of cut }C\\text{ in }(H,w)}  =  \\underbrace{y(\\delta_G(C\\setminus\\{s\\})) + \\sum_{v\\in C\\setminus\\{s\\}} \\big(2-y(\\delta_G(v))\\big)+\\kappa}_{\\text{value of }C\\setminus\\{s\\}\\text{as a solution of }(\\star\\star)} $$\n",
    "\n",
    "for some constant $\\kappa$.\n",
    "\n",
    "<font color='blue'><b>Your fourth task:</b></font>\n",
    "- What edges would you introduce in $F$ (and what weights $w$ would you assign to them) to get $w(\\delta_H^+(C))=y(\\delta_G(C\\setminus\\{s\\})$ for all $C\\subseteq W$ with $s\\in C$ and $t\\notin C$?\n",
    "- What edges can you add to $F$ (and what weights $w$ would you assign to them) to get $w(\\delta_H^+(C))=y(\\delta_G(C\\setminus\\{s\\}) + \\sum_{v\\in C\\setminus\\{s\\}} \\big(2-y(\\delta_G(v))\\big)+\\kappa$ for some constant $\\kappa$, i.e., to also get the second term of the desired objective, for all $C\\subseteq W$ with $s\\in C$ and $t\\notin C$? What is the value of your constant $\\kappa$?"
   ]
  },
  {
   "cell_type": "markdown",
   "metadata": {},
   "source": [
    "*Write your answer here.*\n"
   ]
  },
  {
   "cell_type": "markdown",
   "metadata": {},
   "source": [
    "---"
   ]
  },
  {
   "cell_type": "markdown",
   "metadata": {},
   "source": [
    "Unfortunately, solving the mininum $s$-$t$ cut problem in the digraph $H$ you constructed above, will not help much: Most likely, you did not even introduce positive-weight edges exiting $s$, hence the cut $C=\\{s\\}$ will have value $w(\\delta^+(C))=0$, i.e., it will be an optimal solution. But this optimal solution corresponds to the solution $S=C\\setminus \\{s\\}=\\emptyset$ of $(\\star\\star)$, which is infeasible. Thus, we want to modify $H$ once more to find the minimum $s$-$t$ cut different from $\\{s\\}$.\n",
    "\n",
    "<font color='blue'><b>Your fifth task:</b></font> How can you ensure, by adding a weighted edge to $H$ (or changing the weight $w$ of an existing edge), that a given vertex $v\\in V$ will always appear in a minimum $s$-$t$ cut in $H$, but guarantee that $(\\star\\star\\star)$ still holds for all $s$-$t$ cuts $C\\subseteq W$ that contain $v$? How can you exploit this to find the minimum $s$-$t$ cut different from $\\{s\\}$, and thus solve $(\\star\\star)$?\n",
    "\n",
    "*Hint: You can solve linearly many minimum $s$-$t$ cut problems in (modifications of) $H$ to solve the last question.*"
   ]
  },
  {
   "cell_type": "markdown",
   "metadata": {},
   "source": [
    "*Write your answer here.*\n"
   ]
  },
  {
   "cell_type": "markdown",
   "metadata": {},
   "source": [
    "---"
   ]
  },
  {
   "cell_type": "markdown",
   "metadata": {},
   "source": [
    "## Implementation\n",
    "\n",
    "<font color='blue'><b>Your sixth task:</b></font> Implement a separation oracle for the forest polytope, based on the above results. The input for your function should be a `networkx` graph $G=(V,E)$ and a point $y$, given as a dictionary with the edges of $G$ as keys. If the point is not in the forest polytope, let it return a set of vertices corresponding to a violated constraint (note that if you return a set of two vertices, this could be the non-negativity constraint on the corresponding edge, or the subtour elimination constraint on that edge); if the point is in the forest polytope, the function should return `None`. Make sure you structure your code by, for example, writing separate functions for different subtasks!"
   ]
  },
  {
   "cell_type": "code",
   "execution_count": null,
   "metadata": {},
   "outputs": [],
   "source": [
    "# Implementation goes here\n",
    "\n",
    "def forestPolytopeSeparation(graph, point):\n",
    "    \n",
    "    ### \n",
    "    \n",
    "    return ???"
   ]
  },
  {
   "cell_type": "markdown",
   "metadata": {},
   "source": [
    "---\n",
    "\n",
    "## Testing the implementation\n",
    "Test your implementation on the input given below and check from the picture what went wrong if the point is not in the forest polytope of the generated graph (note that you'll have to run the bottom cell first, where the function for displaying the graph and a set of vertices leading to a violated constraint is defined). You can also play with the paramters used, as well as with the distribution from wich the edge weights are generated."
   ]
  },
  {
   "cell_type": "code",
   "execution_count": null,
   "metadata": {},
   "outputs": [],
   "source": [
    "## Testing\n",
    "# number of nodes\n",
    "n = 5\n",
    "# edge appearance probability for random graph\n",
    "p = 0.7\n",
    "\n",
    "# generate random graph\n",
    "graph = nx.gnp_random_graph(n, p)\n",
    "# create a random solution point in R^E\n",
    "import random\n",
    "point = dict((e, (max(1,4/(p*n))+1/(20*n))*random.random()-1/(40*n)) for e in graph.edges)\n",
    "\n",
    "# solve separation problem problem\n",
    "S = forestPolytopeSeparation(graph, point)\n",
    "# check results\n",
    "if S == None:\n",
    "    print(\"Point is in the forest polytope.\")\n",
    "    draw_point(graph, point)\n",
    "else:\n",
    "    print(f\"Point is not in the forest polytope, violated constraint obtained from {S}\")\n",
    "    draw_point(graph, point, S)"
   ]
  },
  {
   "cell_type": "code",
   "execution_count": null,
   "metadata": {},
   "outputs": [],
   "source": [
    "## helper function for drawing a point (and a subset of vertices with its induced edges)\n",
    "\n",
    "import matplotlib\n",
    "%matplotlib inline\n",
    "\n",
    "def draw_point(graph, point, node_subset = set()):\n",
    "    \n",
    "    # node positions\n",
    "    node_pos = networkx.circular_layout(graph)\n",
    "    \n",
    "    other_nodes = set(graph.nodes) - set(node_subset)\n",
    "    blue_edges = [edge for edge in graph.edges if set(edge).issubset(node_subset)]\n",
    "    black_edges = [edge for edge in graph.edges if edge not in blue_edges]\n",
    "    blue_edge_labels = {edge: round(point[edge], 2) for edge in blue_edges}\n",
    "    black_edge_labels = {edge: round(point[edge], 2) for edge in black_edges}\n",
    "\n",
    "    # Draw nodes\n",
    "    nx.draw(graph, edgelist = [], node_color = \"red\", nodelist = node_subset,\n",
    "            pos = node_pos, with_labels = True)\n",
    "    nx.draw(graph, edgelist = [], node_color = \"gray\", nodelist = other_nodes,\n",
    "            pos = node_pos, with_labels = True)\n",
    "\n",
    "    # Draw edges\n",
    "    nx.draw_networkx_edges(graph, edge_color = \"black\",\n",
    "                           edgelist = black_edges, pos = node_pos)\n",
    "    nx.draw_networkx_edges(graph, edge_color = \"red\",\n",
    "                           edgelist = blue_edges, pos = node_pos)\n",
    "\n",
    "    # Draw edge labels\n",
    "    nx.draw_networkx_edge_labels(graph, font_color = \"black\",\n",
    "                                 edge_labels = black_edge_labels, pos = node_pos)\n",
    "    nx.draw_networkx_edge_labels(graph, font_color = \"red\",\n",
    "                                 edge_labels = blue_edge_labels, pos = node_pos)\n",
    "\n",
    "    # Show drawing\n",
    "    plt.show()"
   ]
  }
 ],
 "metadata": {
  "kernelspec": {
   "display_name": "Python 3",
   "language": "python",
   "name": "python3"
  },
  "language_info": {
   "codemirror_mode": {
    "name": "ipython",
    "version": 3
   },
   "file_extension": ".py",
   "mimetype": "text/x-python",
   "name": "python",
   "nbconvert_exporter": "python",
   "pygments_lexer": "ipython3",
   "version": "3.7.3"
  }
 },
 "nbformat": 4,
 "nbformat_minor": 4
}
