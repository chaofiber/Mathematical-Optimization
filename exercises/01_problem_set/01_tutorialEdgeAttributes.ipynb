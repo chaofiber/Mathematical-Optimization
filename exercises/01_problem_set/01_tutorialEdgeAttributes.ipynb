{
 "cells": [
  {
   "cell_type": "markdown",
   "metadata": {},
   "source": [
    "# networkx Part 3 : Node and edge attributes\n",
    "\n",
    "<font color='blue'><b>Goals of this notebook:</b></font>\n",
    "Learn how to manipulate graphs with edge/arc or node attributes.\n",
    "\n",
    "<font color='blue'><b>Python packages required:</b></font>\n",
    "`networkx`\n",
    "\n",
    "<font color='blue'><b>Prerequisites:</b></font>\n",
    "Know how to create and draw graphs and digraphs (see parts 1 and 2 of this tutorial).\n",
    "\n",
    "<font color='blue'><b>Additional resources:</b></font> \n",
    "For more on networkx including examples and tutorials, see https://networkx.github.io/documentation/stable/.\n",
    "\n",
    "We have seen how to create graphs and digraphs.\n",
    "These structures capture the relationships between different objects. \n",
    "However, it is often helpful to add extra attributes to these objects and their relationships. \n",
    "For example, suppose we use a graph to represent roads between major cities. \n",
    "It might be useful to keep track of how many people live in each city and the travel time between cities. \n",
    "We call these properties <font color='blue'><b>node and edge attributes.</b></font> \n",
    "\n",
    "Let us use cities as an example to illustrate node and edge attributes in `networkx`.\n",
    "Consider Berlin, London, and Zurich. The following tables give the population (in millions of people) and flight time (in hours) between these cities.\n",
    "\n",
    "$$\n",
    "\\begin{array}{ccc}\n",
    "\\text{Population} & &\\text{Travel time}\\\\\n",
    "\\begin{array}{c|c}\n",
    "\\text{Berlin} & 3.748\\\\\n",
    "\\text{London} & 8.825 \\\\ \n",
    "\\text{Zurich} & 0.415\n",
    "\\end{array}\n",
    "&\n",
    "\\quad\n",
    "&\n",
    "\\begin{array}{c|c|c|c}\n",
    "& \\text{Berlin} & \\text{London} & \\text{Zurich}\\\\\n",
    "\\hline\n",
    "\\text{Berlin} & -- & 1.8 & 1.5 \\\\\n",
    "\\text{London} & 1.8 &-- & 1.7 \\\\ \n",
    "\\text{Zurich} & 1.5 &  1.7 & --\n",
    "\\end{array}\n",
    "\\end{array}\n",
    "$$\n",
    "\n",
    "We will create a graph using this data. \n",
    "\n",
    "Run the following line of code to import the proper package and create an empty graph."
   ]
  },
  {
   "cell_type": "code",
   "execution_count": null,
   "metadata": {},
   "outputs": [],
   "source": [
    "# Import networkx and run the magic command for later inline drawings\n",
    "import networkx as nx\n",
    "%matplotlib inline\n",
    "\n",
    "# Create an empty graph\n",
    "G = nx.Graph()"
   ]
  },
  {
   "cell_type": "markdown",
   "metadata": {},
   "source": [
    "### Adding a node attribute\n",
    "\n",
    "If we want to add a node with an attribute to `G`, then we use the command\n",
    "\n",
    "`G.add_node(node_label, attribute_name = attribute_value)`\n",
    "\n",
    "There are three parts to this command:\n",
    "\n",
    "`node_label` : This is the usual node label that we are familiar with.\n",
    "\n",
    "`attribute_name` : This is the name of the particular attribute. For example, if we want to use the attribute `population`, then we would replace `attribute_name` by `population`.\n",
    "\n",
    "`attribute_value` : This is the value of the attribute that we give to this node. For example, for Berlin we will replace `attribute_value` by `3.748`.\n",
    "\n",
    "We can use the command `G.add_node_from()` to add many nodes at once.\n",
    "We can still use this command with attributes using the following command:\n",
    "\n",
    "`G.add_nodes_from([(node1, {\"attribute_name\" : attribute_value1}), \n",
    "                   (node2, {\"attribute_name\" : attribute_value2}),...])`\n",
    "\n",
    "<font color='red'><b>Note:</b></font>\n",
    "The command `G.add_node()` does not require quotation marks around the attribute name nor does it need the brackets `{}`. \n",
    "However, `G.add_nodes_from` does need quotation marks and `{}`. A node can have multiple attributes, and when we add multiple nodes at one time we use the quotation marks and the `{}` brackets to appropriately organize everything for Python.\n",
    "\n",
    "Run the following code to add a node for `Berlin, London`, and `Zurich` with the `population` attribute."
   ]
  },
  {
   "cell_type": "code",
   "execution_count": null,
   "metadata": {},
   "outputs": [],
   "source": [
    "# Add one node\n",
    "G.add_node(\"Berlin\", population = 3.748)\n",
    "\n",
    "# Add many nodes\n",
    "G.add_nodes_from([(\"London\", {\"population\" : 8.825}),\n",
    "                  (\"Zurich\", {\"population\" : 0.415})])"
   ]
  },
  {
   "cell_type": "markdown",
   "metadata": {},
   "source": [
    "We can view a node's attribute using the command\n",
    "\n",
    "`G.nodes[node_label][\"attribute_name\"]`\n",
    "\n",
    "Notice the quotation marks around `attribute_name`.\n",
    "\n",
    "If we want to access all of the attributes, then we can use \n",
    "\n",
    "`nx.get_node_attributes(G, \"attribute_name\")`\n",
    "\n",
    "Run the following code to print the population of different cities."
   ]
  },
  {
   "cell_type": "code",
   "execution_count": null,
   "metadata": {},
   "outputs": [],
   "source": [
    "# Print each city's population individually\n",
    "for city in G.nodes:\n",
    "    print(f'{city} has {G.nodes[city][\"population\"]} million people.')\n",
    "\n",
    "# Print each city's population at once \n",
    "city_pop = nx.get_node_attributes(G, \"population\")\n",
    "\n",
    "print(f'The populations are {city_pop}.')"
   ]
  },
  {
   "cell_type": "markdown",
   "metadata": {},
   "source": [
    "### Adding an edge attribute\n",
    "\n",
    "Adding edge attributes are done in the same way as node attributes except we use the commands `G.add_edge()` and `G.add_edges_from()`.\n",
    "If we want to add an edge with attribute `travel_time` between `Berlin` and `London`, then we use the command\n",
    "\n",
    "`G.add_edge(\"Berlin\", \"London\", travel_time = 1.8)`\n",
    "\n",
    "If we want to add multiple edges with attribute `travel_time`, then we use the command\n",
    "\n",
    "`G.add_edges_from([(\"Berlin\", \"Zurich\", {\"travel_time\": 1.5}) , \n",
    "                   (\"London\", \"Zurich\", {\"travel_time\": 1.7}) ] )`\n",
    "\n",
    "We can access an edge attribute using the command \n",
    "\n",
    "`nx.get_edge_attributes(G, \"attribute_name\")`\n",
    "\n",
    "Run the following code to add edges between each city with the `travel_time` attribute."
   ]
  },
  {
   "cell_type": "code",
   "execution_count": null,
   "metadata": {},
   "outputs": [],
   "source": [
    "# Add one edge\n",
    "G.add_edge(\"Berlin\", \"London\", travel_time = 1.8)\n",
    "\n",
    "# Add multiple edges\n",
    "G.add_edges_from([(\"Berlin\", \"Zurich\", {\"travel_time\": 1.5}) , \n",
    "                  (\"London\", \"Zurich\", {\"travel_time\": 1.7}) ] )\n",
    "\n",
    "# Print the edge travel times\n",
    "times = nx.get_edge_attributes(G, \"travel_time\")\n",
    "\n",
    "print(f'The travel times are {times}.')"
   ]
  },
  {
   "cell_type": "markdown",
   "metadata": {},
   "source": [
    "### Editing attributes \n",
    "\n",
    "We can also adjust the attributes of a node or an edge.\n",
    "If we want to change the popluation of `Berlin` to `3.6`, then we can use the command \n",
    "\n",
    "`G.nodes[\"Berlin\"][\"population\"] = 3.6`\n",
    "\n",
    "If we want to change the travel time between `London` and `Zurich` to `1.75`, then we can use the command \n",
    "\n",
    "`G.edges[(\"London\",\"Zurich\")][\"travel_time\"] = 1.75`\n",
    "\n",
    "Run the following code to update these attribute values and reprint everything."
   ]
  },
  {
   "cell_type": "code",
   "execution_count": null,
   "metadata": {},
   "outputs": [],
   "source": [
    "# Update Berlin's population\n",
    "G.nodes[\"Berlin\"][\"population\"] = 3.6\n",
    "\n",
    "for city in G.nodes:\n",
    "    print(f'{city} has {G.nodes[city][\"population\"]} million people.')\n",
    "    \n",
    "# Update travel time from London to Zurich\n",
    "G.edges[(\"London\",\"Zurich\")][\"travel_time\"] = 1.75\n",
    "        \n",
    "# Print the edge travel times         \n",
    "times = nx.get_edge_attributes(G, \"travel_time\")\n",
    "\n",
    "print(f'The travel times are {times}.')"
   ]
  },
  {
   "cell_type": "markdown",
   "metadata": {},
   "source": [
    "Great! Now you can run graph algorithms that have node and edge attributes. \n",
    "Many graphs have multiple node and edge attributes. \n",
    "We can simply add these extra attributes in the same way as we added the attributes `population` and `travel_time`.\n",
    "\n",
    "Let's practice node and edge attributes with a few examples. The examples will also show us how to add multiple attributes."
   ]
  },
  {
   "cell_type": "markdown",
   "metadata": {},
   "source": [
    "#### Maximum s-t flows\n",
    "\n",
    "Let's solve a maximum s-t flow problem.\n",
    "In a maximum flow problem, we are given a digraph where each arc has an attribute called `capacity`.\n",
    "We will use the following digraph `H` in this example. It is not important for the example how we make this digraph.\n",
    "Simply run the following commands to create `H` with arc attributes called `capacity`. "
   ]
  },
  {
   "cell_type": "code",
   "execution_count": null,
   "metadata": {},
   "outputs": [],
   "source": [
    "# Created an empty graph\n",
    "H = nx.DiGraph()\n",
    "\n",
    "# Add the arcs\n",
    "for i in range(1, 12):\n",
    "    H.add_edge(i, i+1, capacity = 2*i)  \n",
    "    \n",
    "    if i <=8:\n",
    "        H.add_edge(i, i+4, capacity = i*i-10*i+25) \n",
    "\n",
    "# Add node positions\n",
    "node_pos = nx.circular_layout(H)"
   ]
  },
  {
   "cell_type": "markdown",
   "metadata": {},
   "source": [
    "It would be nice to draw `H` with the capacities on each arc. \n",
    "In order to do this, we first draw our graph with the usual command\n",
    "\n",
    "`nx.draw(H, with_labels = True, pos = node_pos, \n",
    "            node_color = 'lightblue', arrowsize = 20)`\n",
    "\n",
    "We now draw our arc attributes on top of this graph using the command\n",
    "\n",
    "`edge_draw = nx.draw_networkx_edge_labels(H, pos = node_pos, \n",
    "                                             edge_labels = nx.get_edge_attributes(H, 'capacity'))`\n",
    "\n",
    "This command has four parts:\n",
    "\n",
    "`H` : This is the name of the graph.\n",
    "\n",
    "`pos = node_pos` : This says where we draw the arc attribute. If we use the same position as for the nodes, then `networkx` will draw the attriute in the middle of the arc.\n",
    "\n",
    "`edge_labels = nx.get_edge_attributes(H, 'capacity')` : We choose to draw the `capacity` arc attribute.\n",
    "\n",
    "`edge_draw = ... ` : The `nx.draw_networkx_edge_labels` returns the attribute value drawn on the arcs. \n",
    "We need to store this dictionary otherwise it will be printed to the screen. This is why we use `edge_draw = ...`.\n",
    "\n",
    "Run the following commands to visualize `H` with capacities."
   ]
  },
  {
   "cell_type": "code",
   "execution_count": null,
   "metadata": {},
   "outputs": [],
   "source": [
    "# Draw H\n",
    "nx.draw(H, with_labels = True, pos = node_pos, \n",
    "        node_color = 'lightblue', arrowsize = 20)\n",
    "\n",
    "# Draw the arc labels\n",
    "edge_draw = nx.draw_networkx_edge_labels(H, pos = node_pos, \n",
    "                                         edge_labels = nx.get_edge_attributes(H, 'capacity'))\n",
    "\n",
    "# Note: There might be a deprecation warning appearing; it comes from code in the networkx package, so we cannot do much about it."
   ]
  },
  {
   "cell_type": "markdown",
   "metadata": {},
   "source": [
    "Now that we have our digraph with arc capacities, we can run a maximum s-t flow algorithm.\n",
    "Suppose we want to run a maximum s-t flow in `H` with s=1 and t = 12 using the arc attributes named 'capacity' as capacities for the network flow problem.\n",
    "The command to run this algorithm is simply \n",
    "\n",
    "`total_flow, edge_flow = nx.maximum_flow(H, 1, 12, capacity='capacity')`. \n",
    "\n",
    "<font color='red'><b>Note:</b></font> It might seem redundant to use the input `capacity='capacity'`. It turns out that if arcs have an attribute named `capacity`, then the `nx.maximum_flow` function will use these per default and we do not need to add the input `capacity='capacity'`. However, if for some reason we choose to label the capacity attribute with another name like `Cap`, then we would need to specify `capacity='Cap'`.\n",
    "\n",
    "This command returns two things: \n",
    "\n",
    "`total_flow` : the total value of the flow.\n",
    "\n",
    "`edge_flow` : a dictionary containing the value of the flow on each arc. In order to access the flow on an arc `e`, we use the command `edge_flow[e[0]][e[1]]`.\n",
    "\n",
    "Run the following command to find a maximum s-t flow in `H` with s=1 and t = 12.  "
   ]
  },
  {
   "cell_type": "code",
   "execution_count": null,
   "metadata": {},
   "outputs": [],
   "source": [
    "# Find a max s-t flow in H\n",
    "total_flow, edge_flow = nx.maximum_flow(H, 1, 12, capacity='capacity')"
   ]
  },
  {
   "cell_type": "markdown",
   "metadata": {},
   "source": [
    "Now we have the information about our flow! Let's print it out.\n",
    "\n",
    "We can do this by adding a new arc attribute called `flow` using the values from `edge_flow`.\n",
    "The `flow` attribute has not yet been created, but we can simply add this attribute to each arc `e` using the command \n",
    "\n",
    "`H.edges[e]['flow'] = edge_flow[e[0]][e[1]]` \n",
    "\n",
    "as if the attribute was there! \n",
    "Python will read this command and automatically create a new arc attribute called `flow`.\n",
    "\n",
    "Run the following commands to print the flow results."
   ]
  },
  {
   "cell_type": "code",
   "execution_count": null,
   "metadata": {},
   "outputs": [],
   "source": [
    "# Print the results \n",
    "print(f'The total value of the flow is {total_flow}.\\n')\n",
    "\n",
    "# Add a new arc attribute called flow\n",
    "for e in H.edges:\n",
    "    H.edges[e]['flow'] = edge_flow[e[0]][e[1]]\n",
    "\n",
    "# Draw H with the flow\n",
    "nx.draw(H, with_labels=True, pos = node_pos, \n",
    "        node_color = 'lightblue')\n",
    "\n",
    "edge_draw = nx.draw_networkx_edge_labels(H, pos = node_pos, \n",
    "                                         edge_labels = nx.get_edge_attributes(H, 'flow'))"
   ]
  },
  {
   "cell_type": "markdown",
   "metadata": {},
   "source": [
    "#### Example: Triangles with specific nodes\n",
    "\n",
    "We have seen how to find triangles in graphs.\n",
    "Assume each node represents a student who studies medicine, law, or art. \n",
    "Suppose that the professor wants to find three students who know each other and who study different things.\n",
    "Mathematically, we want to find a triangle made of a medical student, a law student, and an art student.\n",
    "For this example, we will use the premade icosahedral graph in `networkx`. \n",
    "\n",
    "<font color='red'><b>Note:</b></font> `networkx` has a collection of pre-made graphs that we can load. For more pre-made graphs, see https://networkx.github.io/documentation/networkx-1.10/reference/generators.html?highlight=social.\n",
    "\n",
    "The students in this graph will be denoted by `0` through `11`, and the node attribute will be called `study`.\n",
    "\n",
    "Run the following code to generate the graph for this example. We have arbitrarily chosen each student's area of study."
   ]
  },
  {
   "cell_type": "code",
   "execution_count": null,
   "metadata": {},
   "outputs": [],
   "source": [
    "# Load a pre-made graph from networkx\n",
    "K = nx.icosahedral_graph()\n",
    "\n",
    "# Create node attribute 'study'\n",
    "for i in range(0, 12):\n",
    "    if i % 6 == 0 or i % 5 == 2:\n",
    "        K.nodes[i][\"study\"] = \"medicine\"\n",
    "    elif i % 6 == 3:\n",
    "        K.nodes[i][\"study\"] = \"law\"\n",
    "    else:\n",
    "        K.nodes[i][\"study\"] = \"art\"\n",
    "\n",
    "# Print the student's area of study\n",
    "study_att = nx.get_node_attributes(K,\"study\")\n",
    "\n",
    "for area_of_study in [\"medicine\",\"law\",\"art\"]:\n",
    "    print(f'Students {[key for key in K.nodes if study_att[key] == area_of_study]} study {area_of_study}.')\n",
    "\n",
    "# Draw the graph\n",
    "node_pos_K = nx.circular_layout(K)\n",
    "\n",
    "nx.draw(K, with_labels = True, pos = node_pos_K, \n",
    "        node_color = 'lightblue')"
   ]
  },
  {
   "cell_type": "markdown",
   "metadata": {},
   "source": [
    "We can loop through all triples of points and check if they are a proper triangle.\n",
    "\n",
    "Run the following code to see if the professor can find a suitable triangle of students. "
   ]
  },
  {
   "cell_type": "code",
   "execution_count": null,
   "metadata": {},
   "outputs": [],
   "source": [
    "# Import the itertools to quickly loop through triples\n",
    "from itertools import combinations\n",
    "\n",
    "# Loop through triples\n",
    "for t in combinations(K.nodes,3):\n",
    "    \n",
    "    # Check if the edges form a proper triangle\n",
    "    if set(combinations(t,2)).issubset(K.edges) and\\\n",
    "           {K.nodes[n][\"study\"] for n in t} == {\"medicine\",\"law\",\"art\"}:\n",
    "        \n",
    "        print(f'The professor can choose students {t}.')\n",
    "        "
   ]
  },
  {
   "cell_type": "markdown",
   "metadata": {},
   "source": [
    "## Conclusions\n",
    "\n",
    "Most of the graph algorithms in `networkx` use graphs or digraphs with attributes. \n",
    "If you would like to run an algorithm or create a specific type of graph in Python, it is recommended that you look at the `networkx` documentation to check if there is already a command for it!"
   ]
  }
 ],
 "metadata": {
  "kernelspec": {
   "display_name": "Python 3",
   "language": "python",
   "name": "python3"
  },
  "language_info": {
   "codemirror_mode": {
    "name": "ipython",
    "version": 3
   },
   "file_extension": ".py",
   "mimetype": "text/x-python",
   "name": "python",
   "nbconvert_exporter": "python",
   "pygments_lexer": "ipython3",
   "version": "3.7.2"
  }
 },
 "nbformat": 4,
 "nbformat_minor": 4
}
