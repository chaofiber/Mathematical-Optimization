{
 "cells": [
  {
   "cell_type": "markdown",
   "metadata": {},
   "source": [
    "## Solution: Regression minimizing $\\ell_1$-error\n",
    "\n",
    "First of all, let us paste the observed values of age and height into this notebook."
   ]
  },
  {
   "cell_type": "code",
   "execution_count": null,
   "metadata": {},
   "outputs": [],
   "source": [
    "# Observed ages in years\n",
    "obs_age = [1,1,2,2,3,4,4,5,6,7,7,8,9,9,10]\n",
    "\n",
    "# Observed heights in cm\n",
    "obs_ht = [73.2,73.3,75.1,77.4,80.1,85.7,84.0,89.1,100.2,105.3,112.2,115.0,125.1,135.2,150.7]"
   ]
  },
  {
   "cell_type": "markdown",
   "metadata": {},
   "source": [
    "---\n",
    "\n",
    "### Finding the optimal line: How to write an LP?\n",
    "\n",
    "As stated in the problem, our goal is to find parameters $\\alpha$ and $\\beta$ such that the line $H = \\beta A + \\alpha$ minimizes the $\\ell_1$-error\n",
    "\n",
    "$$\n",
    "\\sum_{i=1}^{15} |\\text{obs_ht}_{~i} - (\\beta \\times \\text{obs_age}_{~i} + \\alpha)|.\n",
    "$$\n",
    "\n",
    "Formulated differently, we want to solve\n",
    "\n",
    "$$\n",
    "\\min_{\\alpha, \\beta\\in\\mathbb{R}} \\sum_{i=1}^{15} |\\text{obs_ht}_{~i} - (\\beta \\times \\text{obs_age}_{~i} + \\alpha)|\n",
    "$$\n",
    "\n",
    "Note that the objective is a sum of absolute values, which cause a problem (from a linear programming point of vies), as the absolute value function is not linear. Let us set $e_i = |\\text{obs_ht}_{~i} - (\\beta \\times \\text{obs_age}_{~i} + \\alpha)|$ and rewrite the above as\n",
    "\n",
    "$$\n",
    "\\begin{array}{rrcll}\n",
    "\\min & \\sum_{i=1}^{15} e_i\\\\\n",
    " & e_i & = & |\\text{obs_ht}_{~i} - (\\beta \\times \\text{obs_age}_{~i} + \\alpha)| & \\forall i\\in \\{1,\\ldots,15\\}\\\\\n",
    " & \\alpha, \\beta & \\in & \\mathbb{R}.\n",
    "\\end{array}\n",
    "$$\n",
    "\n",
    "Now the objective looks linear, but there are constraints of the form $e_i = |\\text{something linear in }\\alpha\\text{ and }\\beta|$. These are obviously non-linear."
   ]
  },
  {
   "cell_type": "markdown",
   "metadata": {},
   "source": [
    "#### Modelling absolute values\n",
    "\n",
    "To simplyfy things, think of a constraint of the form $e_i=|f|$ for two real-valued variables $e_i$ and $f$. How can we turn this into linear constraints?\n",
    "\n",
    "Well, first of all, it is easy to see that\n",
    "\n",
    "$$ e_i \\geq |f| \\quad\\iff\\quad \\left\\{\\begin{array}{rc} & e_i \\geq f \\\\ \\text{and} & e_i \\geq -f \\end{array}\\right.\\quad. $$\n",
    "\n",
    "From this, we can also get\n",
    "\n",
    "$$ e_i = |f| \\quad\\iff\\quad e_i\\text{ is minimal such that } e_i \\geq f \\text{ and } e_i \\geq -f\\ . $$\n",
    "\n",
    "This looks promising, so can we just rewrite the above optimization problem as\n",
    "\n",
    "$$\n",
    "\\begin{array}{rrcll}\n",
    "\\min & \\sum_{i=1}^{15} e_i\\\\\n",
    " & e_i & \\geq & \\text{obs_ht}_{~i} - (\\beta \\times \\text{obs_age}_{~i} + \\alpha) & \\forall i\\in \\{1,\\ldots,15\\}\\\\\n",
    " & e_i & \\geq & -\\left(\\text{obs_ht}_{~i} - (\\beta \\times \\text{obs_age}_{~i} + \\alpha)\\right) & \\forall i\\in \\{1,\\ldots,15\\}\\\\\n",
    " & \\alpha, \\beta & \\in & \\mathbb{R},\n",
    "\\end{array}\n",
    "$$\n",
    "\n",
    "and then solve this linear (!) program and that's it?"
   ]
  },
  {
   "cell_type": "markdown",
   "metadata": {},
   "source": [
    "The answer turns out to be yes, but let's proof this slowly. Consider an optimal solution of the above linear program. We will show that in this case, we indeed have $e_i = |\\text{obs_ht}_{~i} - (\\beta \\times \\text{obs_age}_{~i} + \\alpha)|$ for all $i\\in \\{1,\\ldots,15\\}$, as desired. By the constraints, we have $e_i \\geq |\\text{obs_ht}_{~i} - (\\beta \\times \\text{obs_age}_{~i} + \\alpha)|$. If for some $i$, we would actually have $e_i > |\\text{obs_ht}_{~i} - (\\beta \\times \\text{obs_age}_{~i} + \\alpha)|$, then we could reduce the value of this $e_i$, which would improve the objective, thus contradicting optimality.\n",
    "\n",
    "Thus, an optimal solution of the linear program corresponds to an optimal solution of the initial problem.\n",
    "\n",
    "---"
   ]
  },
  {
   "cell_type": "markdown",
   "metadata": {},
   "source": [
    "### Implementing and solving the LP\n",
    "\n",
    "We now implement and solve the above linear program in pulp."
   ]
  },
  {
   "cell_type": "code",
   "execution_count": null,
   "metadata": {},
   "outputs": [],
   "source": [
    "# let n denote the number of observations\n",
    "n = len(obs_age)\n",
    "# assert that we have the same number of age and height observations\n",
    "assert(n == len(obs_ht))"
   ]
  },
  {
   "cell_type": "code",
   "execution_count": null,
   "metadata": {},
   "outputs": [],
   "source": [
    "# load pulp and set up the lp\n",
    "import pulp\n",
    "linRegLP = pulp.LpProblem(\"Linear regression\", pulp.LpMinimize)\n",
    "\n",
    "# create variables\n",
    "alpha = pulp.LpVariable(\"alpha\")\n",
    "beta = pulp.LpVariable(\"beta\")\n",
    "e = [pulp.LpVariable(f\"e_{i}\") for i in range(n)]"
   ]
  },
  {
   "cell_type": "code",
   "execution_count": null,
   "metadata": {},
   "outputs": [],
   "source": [
    "# set objective and check it\n",
    "linRegLP.setObjective(pulp.lpSum(e))\n",
    "linRegLP.objective"
   ]
  },
  {
   "cell_type": "code",
   "execution_count": null,
   "metadata": {},
   "outputs": [],
   "source": [
    "# add constraints and check them\n",
    "for i in range(n):\n",
    "    rhs = obs_ht[i] - (beta * obs_age[i] + alpha)\n",
    "    linRegLP.addConstraint(e[i] >= rhs, f\"e_{i}_pos\")\n",
    "    linRegLP.addConstraint(e[i] >= -rhs, f\"e_{i}_neg\")\n",
    "linRegLP.constraints"
   ]
  },
  {
   "cell_type": "code",
   "execution_count": null,
   "metadata": {},
   "outputs": [],
   "source": [
    "# solve\n",
    "linRegLP.solve()\n",
    "\n",
    "print(f\"The linear fuction interpolating optimally is\\n\" \n",
    "      + f\"  H = {beta.value()} * A + {alpha.value()}\")"
   ]
  },
  {
   "cell_type": "code",
   "execution_count": null,
   "metadata": {},
   "outputs": [],
   "source": [
    "# plot\n",
    "import matplotlib.pyplot as plt\n",
    "import numpy as np\n",
    "%matplotlib inline\n",
    "\n",
    "# Plot the points\n",
    "plt.scatter(obs_age,obs_ht)\n",
    "\n",
    "# Draw the optimal line\n",
    "A = np.linspace(1,10,100)\n",
    "H = beta.value()*A+alpha.value()\n",
    "plt.plot(A, H, color = 'red')\n",
    "\n",
    "plt.xlabel(\"Age (in years)\")\n",
    "plt.ylabel(\"Height (in cm)\")\n",
    "plt.show()"
   ]
  },
  {
   "cell_type": "markdown",
   "metadata": {},
   "source": [
    "---\n",
    "\n",
    "### Finding the optimal quadratic function\n",
    "\n",
    "We proceed similarly to the above, which gives the linear program\n",
    "\n",
    "$$\n",
    "\\begin{array}{rrcll}\n",
    "\\min & \\sum_{i=1}^{15} e_i\\\\\n",
    " & e_i & \\geq & \\text{obs_ht}_{~i} - (\\alpha_2 \\times \\text{obs_age}_{~i}^2 + \\alpha_1 \\times \\text{obs_age}_{~i} + \\alpha_0) & \\forall i\\in \\{1,\\ldots,15\\}\\\\\n",
    " & e_i & \\geq & -\\left(\\text{obs_ht}_{~i} - (\\alpha_2 \\times \\text{obs_age}_{~i}^2 + \\alpha_1 \\times \\text{obs_age}_{~i} + \\alpha_0)\\right) & \\forall i\\in \\{1,\\ldots,15\\}\\\\\n",
    " & \\alpha_i & \\in & \\mathbb{R} & \\forall i\\in \\{0,1,2\\},\n",
    "\\end{array}\n",
    "$$\n",
    "\n",
    "As before, we can prove that an optimal solution to the above LP is indeed an optimal solution to the regression problem.\n",
    "\n",
    "Implementing and solving this LP in pulp and plotting the resulting curve, we get the following."
   ]
  },
  {
   "cell_type": "code",
   "execution_count": null,
   "metadata": {},
   "outputs": [],
   "source": [
    "# set up the lp\n",
    "quadRegLP = pulp.LpProblem(\"Quadratic regression\", pulp.LpMinimize)\n",
    "\n",
    "# create variables\n",
    "alpha = [pulp.LpVariable(f\"alpha_{i}\") for i in range(3)]\n",
    "e = [pulp.LpVariable(f\"e_{i}\") for i in range(n)]\n",
    "\n",
    "# set objective\n",
    "quadRegLP.setObjective(pulp.lpSum(e))\n",
    "\n",
    "# add constraints and check them\n",
    "for i in range(n):\n",
    "    rhs = obs_ht[i] - (alpha[2] * obs_age[i]**2 + alpha[1] * obs_age[i] + alpha[0])\n",
    "    quadRegLP.addConstraint(e[i] >= rhs, f\"e_{i}_pos\")\n",
    "    quadRegLP.addConstraint(e[i] >= -rhs, f\"e_{i}_neg\")\n",
    "\n",
    "# solve\n",
    "quadRegLP.solve()\n",
    "\n",
    "print(f\"The quadratic fuction interpolating optimally is\\n\" \n",
    "      + f\"  H = {alpha[2].value()} * A^2 + {alpha[1].value()} * A + {alpha[0].value()}\")"
   ]
  },
  {
   "cell_type": "code",
   "execution_count": null,
   "metadata": {},
   "outputs": [],
   "source": [
    "# plot\n",
    "import matplotlib.pyplot as plt\n",
    "import numpy as np\n",
    "%matplotlib inline\n",
    "\n",
    "# Plot the points\n",
    "plt.scatter(obs_age,obs_ht)\n",
    "\n",
    "# Draw the optimal quadratic function\n",
    "A = np.linspace(1,10,100)\n",
    "H = alpha[2].value()*A**2 + alpha[1].value()*A + alpha[0].value()\n",
    "plt.plot(A, H, color = 'red')\n",
    "\n",
    "plt.xlabel(\"Age (in years)\")\n",
    "plt.ylabel(\"Height (in cm)\")\n",
    "plt.show()"
   ]
  }
 ],
 "metadata": {
  "kernelspec": {
   "display_name": "Python 3",
   "language": "python",
   "name": "python3"
  },
  "language_info": {
   "codemirror_mode": {
    "name": "ipython",
    "version": 3
   },
   "file_extension": ".py",
   "mimetype": "text/x-python",
   "name": "python",
   "nbconvert_exporter": "python",
   "pygments_lexer": "ipython3",
   "version": "3.7.2"
  }
 },
 "nbformat": 4,
 "nbformat_minor": 4
}
