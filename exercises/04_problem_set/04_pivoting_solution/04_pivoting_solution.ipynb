{
 "cells": [
  {
   "cell_type": "markdown",
   "metadata": {},
   "source": [
    "# Solution: Simplex pivots in the short tableau\n",
    "\n",
    "A way to implement the pivoting function is the following:"
   ]
  },
  {
   "cell_type": "code",
   "execution_count": 1,
   "metadata": {},
   "outputs": [],
   "source": [
    "def pivot(T,i,j):\n",
    "    \n",
    "    # dimensions of the coefficient matrix in the tableau\n",
    "    m = T.shape[0]-1\n",
    "    n = T.shape[1]-1\n",
    "    print(f\"m = {m}, n = {n}\")\n",
    "    \n",
    "    # Check if the indices are not pointing at a potential pivot\n",
    "    if not (1 <= i <= m and 0 <= j <= n-1): \n",
    "        print(\"[Error] Given indices are not pointing at a potential pivot.\")\n",
    "        return T\n",
    "\n",
    "     # Check if the indicated pivot is zero\n",
    "    if (T[i,j] == 0):\n",
    "        print(\"[Error] Given pivot is zero, step cannot be performed.\")\n",
    "        return T\n",
    "    \n",
    "    # Check if indicated pivot is legal for phase II of Simplex Method\n",
    "    if (T[0,j] < 0 and \n",
    "        T[i,n]/T[i,j] == min([T[l,n]/T[l,j] for l in range(1,m+1) if T[l,j]>0])):\n",
    "        print(\"[Info] Given pivot is legal.\")\n",
    "    else:\n",
    "         print(\"[Warning] Given pivot is illegal.\")\n",
    "    \n",
    "    # Implement pivoting step here\n",
    "    # - Append a unit vector to the tableau (corresponding to the current basic row i)\n",
    "    e = np.matrix(np.zeros([m+1,1]))\n",
    "    e[i] = 1\n",
    "    T_pivoted = np.concatenate((T,e),axis=1)\n",
    "    # - Do the row operations (note that this transforms column j to a unit vector \n",
    "    #   and the last column to the new non-basic column) )\n",
    "    for k in range(T_pivoted.shape[0]):\n",
    "        if k != i: # not the pivot row\n",
    "            T_pivoted[k,:] = T_pivoted[k,:] - T_pivoted[k,j]/T_pivoted[i,j]*T_pivoted[i,:]\n",
    "        else: # the pivot row\n",
    "            T_pivoted[k,:] = T_pivoted[k,:]/T_pivoted[k,j]\n",
    "    # - Move the extra column to its new position and delete it\n",
    "    last = T_pivoted.shape[1]-1\n",
    "    T_pivoted[:,j] = T_pivoted[:,last]\n",
    "    T_pivoted = np.delete(T_pivoted,[last],1)\n",
    "    \n",
    "    return T_pivoted"
   ]
  },
  {
   "cell_type": "markdown",
   "metadata": {},
   "source": [
    "## Testing the implementation\n",
    "We do the check, which is reproducing the steps below:\n",
    "![](pivoting_fig2.png)"
   ]
  },
  {
   "cell_type": "code",
   "execution_count": null,
   "metadata": {},
   "outputs": [],
   "source": [
    "import numpy as np\n",
    "T = np.matrix([\n",
    "    [-400,-900,0],\n",
    "    [1,4,40],\n",
    "    [2,1,42],\n",
    "    [1.5,3,36]\n",
    "])\n",
    "\n",
    "T=pivot(T,2,0)\n",
    "print(\"Vertex b\")\n",
    "print(T)\n",
    "\n",
    "T=pivot(T,3,1)\n",
    "print(\"Vertex c\")\n",
    "print(T)\n",
    "\n",
    "T=pivot(T,1,0)\n",
    "print(\"Vertex d\")\n",
    "print(T)"
   ]
  },
  {
   "cell_type": "markdown",
   "metadata": {},
   "source": [
    "Test with an infeasible pivot:"
   ]
  },
  {
   "cell_type": "code",
   "execution_count": null,
   "metadata": {},
   "outputs": [],
   "source": [
    "T = pivot(T,1,1)\n",
    "print(T)"
   ]
  },
  {
   "cell_type": "markdown",
   "metadata": {},
   "source": [
    "Test with a zero pivot:\n",
    "\n",
    "$$\\begin{array}{c|rr|c}\n",
    " &y_3&y_2&1\\\\\n",
    "\\hline\n",
    "z&1&1&3\\\\\n",
    "\\hline\n",
    "y_1&1&0&3\\\\\n",
    "x_2&2&-1&3\\\\\n",
    "x_1&1&-1&1\n",
    "\\end{array}$$"
   ]
  },
  {
   "cell_type": "code",
   "execution_count": null,
   "metadata": {},
   "outputs": [],
   "source": [
    "#Apply your function to the tableau above.\n",
    "T = np.matrix([\n",
    "    [1,1,3],\n",
    "    [1,0,3],\n",
    "    [2,-1,3],\n",
    "    [1,-1,1]\n",
    "])\n",
    "T = pivot(T,1,1)"
   ]
  }
 ],
 "metadata": {
  "kernelspec": {
   "display_name": "Python 3",
   "language": "python",
   "name": "python3"
  },
  "language_info": {
   "codemirror_mode": {
    "name": "ipython",
    "version": 3
   },
   "file_extension": ".py",
   "mimetype": "text/x-python",
   "name": "python",
   "nbconvert_exporter": "python",
   "pygments_lexer": "ipython3",
   "version": "3.6.8"
  }
 },
 "nbformat": 4,
 "nbformat_minor": 4
}
