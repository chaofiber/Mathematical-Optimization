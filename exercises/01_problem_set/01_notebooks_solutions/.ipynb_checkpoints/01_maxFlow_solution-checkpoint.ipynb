{
 "cells": [
  {
   "cell_type": "markdown",
   "metadata": {},
   "source": [
    "## Solution: Maximizing flow in a network\n",
    "\n",
    "We generalize the problem in the following way: Given a directed graph $G=(V,A)$ with to special distinct vertices $s,t\\in V$ (think of $s$ as the source and $t$ as the target) and arc capacities $u\\colon A\\to \\mathbb{R}_{\\geq 0}$, we want to find a flow value $f_a\\geqslant 0$ for each $a\\in A$ such that the following two conditions hold:\n",
    "\n",
    "- **(Capacity constraints)** For no arc $a\\in A$, the flow $f_a$ is larger than its capacity $u_a$.\n",
    "- **(Conservation constraints)** For every vertex $v\\in V\\setminus\\{s,t\\}$, the total amount of flow on incoming arcs equals the total amount of flow on outgoing arcs.\n",
    "\n",
    "Such flows are called $s$-$t$ flows. Moreover, among all flows satisfying these conditions, we want to find one maximizing the net outflow at $s$, i.e., the value of all flows on outgoing arcs at $s$ minus the value of all flows on incoming arcs at $t$.\n",
    "\n",
    "---\n",
    "\n",
    "It is easy to see that the above generalizes the given setting: Choosing the countries as vertices, i.e.,\n",
    "\n",
    "$$V=\\{F,G,C,S,A\\},$$\n",
    "\n",
    "and the roads as arcs, i.e.,\n",
    "\n",
    "$$A=\\{(S,F),(G,A),(C,A),(F,G),(F,C),(G,C)\\},$$\n",
    "\n",
    "the graph $G=(V,A)$ describes the given road network. Setting $s=S$ and $t=A$ corresponds to our wish to send flow from Spain to Austria.\n",
    "\n",
    "---\n",
    "\n",
    "### Coming up with an LP\n",
    "\n",
    "To write a linear program that finds an $s$-$t$ flow in $G$ of maximum value, we introduce variables $f_a\\in\\mathbb{R}_{\\geq0}$ for all $a\\in A$. It is then easy to formulate capacity and conservation constraints as linear constraints:\n",
    "\n",
    "- Capacity constraints: $$f_a\\leq u_a \\quad \\text{for all } a\\in A.$$\n",
    "- Conservation constraints: $$\\sum_{a\\in \\delta^-(v)} f_a = \\sum_{a\\in \\delta^+(v)} f_a \\quad\\text{for all } v\\in V\\setminus\\{s,t\\}.$$\n",
    "\n",
    "Here $\\delta^-(v)$ and $\\delta^+(v)$ denote all incoming and outgoing arcs at vertex $v$, respectively. Using this notation, we can also write the value of a flow $f$ as a linear function: It is precisely the net outflow at $s$, which is $$\\sum_{a\\in \\delta^+(s)} f_a - \\sum_{a\\in \\delta^-(s)} f_a.$$\n",
    "\n",
    "Consequently, a linear program that solves the maximum $s$-$t$ flow problem is the following:\n",
    "\n",
    "$$\n",
    "\\begin{array}{rrcll}\n",
    "\\max & \\sum_{a\\in \\delta^+(s)} f_a - \\sum_{a\\in \\delta^-(s)} f_a \\\\\n",
    "     & f_a & \\leq & u_a & \\forall a\\in A \\\\\n",
    "     & \\sum_{a\\in \\delta^+(v)} f_a - \\sum_{a\\in \\delta^-(v)} f_a & = & 0 & \\forall v\\in V\\setminus\\{s,t\\} \\\\\n",
    "     & f_a & \\geq & 0 & \\forall a\\in A.\n",
    "\\end{array}\n",
    "$$\n",
    "\n",
    "---\n",
    "\n",
    "### Implementing and solving the LP\n",
    "\n",
    "To solve the given concrete problem, we implement the above LP. Recall that the graph we were dealing with was defined as follows:"
   ]
  },
  {
   "cell_type": "code",
   "execution_count": null,
   "metadata": {},
   "outputs": [],
   "source": [
    "import matplotlib.pyplot as plt\n",
    "import networkx as nx\n",
    "%matplotlib inline\n",
    "\n",
    "# Create the graph\n",
    "G = nx.DiGraph()\n",
    "G.add_nodes_from([\"F\",\"G\",\"C\",\"S\",\"A\"])\n",
    "vertex_pos = {\"F\": (0, .5),\"G\": (1, 1),\"C\": (1, 0),\"S\": (-1, 0.5),\"A\": (2, .5)}\n",
    "G.add_edges_from([(\"S\",\"F\"),(\"G\",\"A\"),(\"C\",\"A\"),(\"F\",\"G\"),(\"F\",\"C\"),(\"G\",\"C\")])\n",
    "\n",
    "# Display the capacities\n",
    "nx.draw(G, vertex_pos, with_labels=True, font_size=15, arrowsize=20, node_color='y')\n",
    "\n",
    "# Add edge capacities\n",
    "capacities = dict({(\"S\",\"F\"): 5.25,(\"C\",\"A\"): 2.25,(\"G\",\"A\") :3.5,(\"F\",\"G\"): 3.75,(\"F\",\"C\"): 2.25,(\"G\",\"C\"): .5})\n",
    "nx.draw_networkx_edge_labels(G, pos=vertex_pos, label_pos=0.5, edge_labels=capacities, font_size=15)\n",
    "\n",
    "plt.show()"
   ]
  },
  {
   "cell_type": "markdown",
   "metadata": {},
   "source": [
    "What we do below is written to work for any directed graph $G$ stored in a variable `G` and edge capacities stored in a dictionary `capacities`. Additionally, we need `s` and `t` to be set properly:"
   ]
  },
  {
   "cell_type": "code",
   "execution_count": null,
   "metadata": {},
   "outputs": [],
   "source": [
    "s = 'S'\n",
    "t = 'A'"
   ]
  },
  {
   "cell_type": "markdown",
   "metadata": {},
   "source": [
    "We start with creating an empty maximization problem and all our variables."
   ]
  },
  {
   "cell_type": "code",
   "execution_count": null,
   "metadata": {},
   "outputs": [],
   "source": [
    "# import pulp\n",
    "import pulp\n",
    "\n",
    "# define an empty maximization problem\n",
    "flowLP = pulp.LpProblem(\"Maximum flow problem\", pulp.LpMaximize)\n",
    "\n",
    "# create a dictionary of variables\n",
    "f = dict([ [a, pulp.LpVariable(f\"Flow on {a}\", lowBound = 0)] for a in G.edges ])"
   ]
  },
  {
   "cell_type": "markdown",
   "metadata": {},
   "source": [
    "Next, we construct the objective function:"
   ]
  },
  {
   "cell_type": "code",
   "execution_count": null,
   "metadata": {},
   "outputs": [],
   "source": [
    "objective = pulp.lpSum([ f[a] for a in G.out_edges(s) ] \n",
    "                       + [ -f[a] for a in G.in_edges(s) ])\n",
    "flowLP.setObjective(objective)"
   ]
  },
  {
   "cell_type": "markdown",
   "metadata": {},
   "source": [
    "Looping over all arcs, we can add the capacity constraints:"
   ]
  },
  {
   "cell_type": "code",
   "execution_count": null,
   "metadata": {},
   "outputs": [],
   "source": [
    "for a in G.edges:\n",
    "    flowLP.addConstraint(f[a] <= capacities[a], f\"capacity constraint on {a}\")"
   ]
  },
  {
   "cell_type": "markdown",
   "metadata": {},
   "source": [
    "The last family of constraints is the family of flow conservation constraints. Note that we do not need these at $s$ and $t$!"
   ]
  },
  {
   "cell_type": "code",
   "execution_count": null,
   "metadata": {},
   "outputs": [],
   "source": [
    "for v in G.nodes:\n",
    "    if v != s and v != t:\n",
    "        flowLP.addConstraint(pulp.lpSum([ f[a] for a in G.out_edges(v) ] \n",
    "                                        + [ -f[a] for a in G.in_edges(v) ]) == 0,\n",
    "                             f\"conservation constraint at {v}\")"
   ]
  },
  {
   "cell_type": "markdown",
   "metadata": {},
   "source": [
    "Note that non-negativity constraints for the variables were already set when we defined the variables. To check that we have all constraints, let's have a look at them:"
   ]
  },
  {
   "cell_type": "code",
   "execution_count": null,
   "metadata": {},
   "outputs": [],
   "source": [
    "flowLP.constraints"
   ]
  },
  {
   "cell_type": "markdown",
   "metadata": {},
   "source": [
    "Finally, let's solve the LP and check the values:"
   ]
  },
  {
   "cell_type": "code",
   "execution_count": null,
   "metadata": {},
   "outputs": [],
   "source": [
    "flowLP.solve()\n",
    "\n",
    "optimum = flowLP.objective.value()\n",
    "\n",
    "print(f\"The value of the maximum flow from '{s}' to '{t}' is {optimum}.\\n\")\n",
    "\n",
    "print(\"To achieve this, the company can transport goods as follows:\")\n",
    "for a in G.edges:\n",
    "    print(f\"Send a flow of {f[a].value():4.2f} units from '{a[0]}' to '{a[1]}'.\")"
   ]
  },
  {
   "cell_type": "markdown",
   "metadata": {},
   "source": [
    "Of course, we can also draw the corresponding flow."
   ]
  },
  {
   "cell_type": "code",
   "execution_count": null,
   "metadata": {},
   "outputs": [],
   "source": [
    "nx.draw(G, vertex_pos, with_labels=True, font_size=15, arrowsize=20, node_color='r')\n",
    "flow = dict([ [a, f[a].value()] for a in G.edges ])\n",
    "nx.draw_networkx_edge_labels(G, pos=vertex_pos, label_pos=0.5, edge_labels=flow, font_size=15)\n",
    "\n",
    "plt.show()"
   ]
  },
  {
   "cell_type": "markdown",
   "metadata": {},
   "source": [
    "---\n",
    "\n",
    "### Bonus: Checking correctness using the built-in max flow algorithm\n",
    "\n",
    "To check correctness of the maximum flow value, we can use the flow algorithm that comes with `networkx`. To this end, we turn the capacities into an edge attribute, and then call the algorithm with respect to these attributes."
   ]
  },
  {
   "cell_type": "code",
   "execution_count": null,
   "metadata": {},
   "outputs": [],
   "source": [
    "nx.set_edge_attributes(G, capacities, 'capacity')"
   ]
  },
  {
   "cell_type": "code",
   "execution_count": null,
   "metadata": {},
   "outputs": [],
   "source": [
    "total_flow, edge_flow = nx.maximum_flow(G, s, t)\n",
    "\n",
    "total_flow"
   ]
  },
  {
   "cell_type": "markdown",
   "metadata": {},
   "source": [
    "The variable `total_flow` shold have the same value as the value that we computed above using the LP. Also here, we can visualize the flow:"
   ]
  },
  {
   "cell_type": "code",
   "execution_count": null,
   "metadata": {},
   "outputs": [],
   "source": [
    "nx.draw(G, vertex_pos, with_labels=True, font_size=15, arrowsize=20, node_color='r')\n",
    "flow = dict([ [a, edge_flow[a[0]][a[1]]] for a in G.edges ])\n",
    "nx.draw_networkx_edge_labels(G, pos=vertex_pos, label_pos=0.5, edge_labels=flow, font_size=15)\n",
    "\n",
    "plt.show()"
   ]
  },
  {
   "cell_type": "markdown",
   "metadata": {},
   "source": [
    "You might observe that the actual flow is different from what we computed using the LP earlier! This is not a problem: The maximum flow value is uniquely determined, but the flow itself might not be unique."
   ]
  }
 ],
 "metadata": {
  "kernelspec": {
   "display_name": "Python 3",
   "language": "python",
   "name": "python3"
  },
  "language_info": {
   "codemirror_mode": {
    "name": "ipython",
    "version": 3
   },
   "file_extension": ".py",
   "mimetype": "text/x-python",
   "name": "python",
   "nbconvert_exporter": "python",
   "pygments_lexer": "ipython3",
   "version": "3.7.2"
  }
 },
 "nbformat": 4,
 "nbformat_minor": 4
}
