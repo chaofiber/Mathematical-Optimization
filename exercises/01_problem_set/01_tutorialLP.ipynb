{
 "cells": [
  {
   "cell_type": "markdown",
   "metadata": {},
   "source": [
    "# Solving a linear program in Python with pulp"
   ]
  },
  {
   "cell_type": "markdown",
   "metadata": {},
   "source": [
    "<font color='blue'><b>Goals of this notebook:</b></font>\n",
    "Learn some basic commands to solve an LP with Python.\n",
    "These commands include `LpProblem`, `LpVariable`, and `lpSum`.\n",
    "\n",
    "<font color='blue'><b>Python packages required:</b></font>\n",
    "pulp\n",
    "\n",
    "<font color='blue'><b>Additional resources:</b></font> \n",
    "See https://pythonhosted.org/PuLP/CaseStudies/index.html for additional examples.\n",
    "For more on PuLP, see https://pythonhosted.org/PuLP/.\n"
   ]
  },
  {
   "cell_type": "markdown",
   "metadata": {
    "slideshow": {
     "slide_type": "-"
    }
   },
   "source": [
    "In its most general form, a linear program looks like\n",
    "\n",
    "$$\n",
    "\\begin{array}{rcl}\n",
    "    \\max & c^\\intercal x\\\\\n",
    "    \\text{s.t.}& Ax &\\le& b\\\\\n",
    "                     & Bx &=& d\\\\\n",
    "                     & Cx &\\ge& f\\\\\n",
    "                     & x & \\in & \\mathbb{R}^n.\n",
    "\\end{array}\n",
    "$$\n",
    "\n",
    "There are three components to an LP: the variables $x$, the objective $\\max ~ c^\\intercal x$, and the constraints $Ax \\le b$, $Bx = d$, and $Cx \\ge f$.\n",
    "In order to code these using Python, we can follow the following six steps:\n",
    "\n",
    "<b>Step 1: Import Python's toolbox for solving LPs.</b> \n",
    "This toolbox is called <font color = 'blue'>PuLP</font>, and it contains many useful linear programming tools. \n",
    "\n",
    "<b>Step 2: Create an empty linear program.</b>\n",
    "Intuitively, an empty linear program is Python's version of a sheet of paper on which we write the variables, the objetive, and the constraints.\n",
    "\n",
    "<b>Step 3: Add the variables $x$.</b>\n",
    "The three components of the LP involve $x$, so we need to create these first.\n",
    "\n",
    "<b>Step 4: Add the objective</b> $\\max ~ c^\\intercal x$.\n",
    "\n",
    "<b>Step 5: Add the constraints </b> $Ax \\le b, ~Bx = d$, and $Cx \\ge f$.\n",
    "\n",
    "<b>Step 6: Solve the LP and print the results.</b>\n",
    "\n",
    "The following example will help us introduce the basic Python commands needed in <b>Steps 1-6</b>."
   ]
  },
  {
   "cell_type": "markdown",
   "metadata": {},
   "source": [
    "### Example: Alice's Farm\n",
    "Alice wants to build a farm to produce corn. She can spend CHF 1000.\n",
    "It costs Alice CHF 3 to produce one kilogram of corn, and she can sell it for CHF 7.\n",
    "Alice can also buy additional farmland at a cost of CHF 100 per acre, and each acre can only grow 30 kilograms of corn.\n",
    "How many acres and kgs of corn should she buy to maximize profit?\n",
    "\n",
    "Here is a model of Alice's problem.\n",
    "    \n",
    "$$\n",
    "\\begin{array}{rlcl}\n",
    "\\max & 7 \\times (\\text{corn produced})\t\\\\\n",
    "\\text{s.t.} &  \\text{corn produced} &\\le& 30 \\times (\\text{acres purchased})\\\\\n",
    "         & 3 \\times (\\text{corn produced}) + 100 \\times (\\text{acres purchased}) &\\le& 1000\\\\\n",
    "         &0 \\le \\text{corn produced}\\\\\n",
    "         &0 \\le \\text{acres purchased}.\n",
    "\\end{array}\n",
    "$$"
   ]
  },
  {
   "cell_type": "markdown",
   "metadata": {},
   "source": [
    "#### Step 1: Loading PuLP"
   ]
  },
  {
   "cell_type": "markdown",
   "metadata": {},
   "source": [
    "Run the following line of code to import PuLP (you do not need to know how this line of code works). \n",
    "\n",
    "<font color='red'>Note:</font> One way to run the code is to click in the box below and press the 'Run' button. \n",
    "Another way is to click in the box and press 'Shift + Enter'."
   ]
  },
  {
   "cell_type": "code",
   "execution_count": 2,
   "metadata": {},
   "outputs": [],
   "source": [
    "# Import the necessary LP toolbox from Python\n",
    "\n",
    "from pulp import *"
   ]
  },
  {
   "cell_type": "markdown",
   "metadata": {},
   "source": [
    "#### Step 2: Creating an empty linear program"
   ]
  },
  {
   "cell_type": "markdown",
   "metadata": {},
   "source": [
    "The function to create an empty linear program is `LpProblem` and it has three parts:\n",
    "   \n",
    "`\"Alice's Farm\"` - This is the name displayed when we print the linear program. You can choose any name you want. \n",
    "   \n",
    "`LpMaximize` - This makes the linear program a maximization problem.\n",
    "\n",
    "`my_LP` - This is the name that code uses to identify our LP. You can choose any name you want. \n",
    "\n",
    "Run the following line of code to create our linear program."
   ]
  },
  {
   "cell_type": "code",
   "execution_count": 3,
   "metadata": {},
   "outputs": [],
   "source": [
    "# Create an empty linear program\n",
    "\n",
    "my_LP = LpProblem(\"Alice's Farm\", LpMaximize)"
   ]
  },
  {
   "cell_type": "markdown",
   "metadata": {},
   "source": [
    "#### Step 3: Add the variables"
   ]
  },
  {
   "cell_type": "markdown",
   "metadata": {},
   "source": [
    "We need to create two variables: one for the amount of corn produced and one for the number of acres purchased. \n",
    "Consider the variable for the amount of corn produced. \n",
    "The function to create this variable is `LpVariable` and it has three components:\n",
    "\n",
    "`\"Corn_produced\"` - This is the name displayed when we print the LP. You can choose any name you want. \n",
    "\n",
    "`\"corn\"` - This is the name that the code uses to identify this variable. You can choose any name you want. \n",
    "\n",
    "`lowBound = 0` - This guarantees that the variable is lower bounded by 0 (i.e., that is it nonnegative). \n",
    "\n",
    "<font color='red'>Note:</font> The command `lowBound = 0` creates the inequality $\\text{corn} \\ge 0$. \n",
    "Alternatively, we can add this as a constraint in <b>Step 5</b>.\n",
    "However, this type of constraint is so common that PuLP has commands to add it at this step. \n",
    "\n",
    "The `LpVariable` function can also be used to create a variable for the number of acres purchased.\n",
    "\n",
    "Run the following line of code to add our variables."
   ]
  },
  {
   "cell_type": "code",
   "execution_count": 4,
   "metadata": {},
   "outputs": [],
   "source": [
    "# Create the variables\n",
    "\n",
    "corn = LpVariable(\"Corn_produced\", lowBound=0)\n",
    "\n",
    "acres = LpVariable(\"Acres_purchased\", lowBound=0)"
   ]
  },
  {
   "cell_type": "markdown",
   "metadata": {},
   "source": [
    "#### Step 4: Add the objective function"
   ]
  },
  {
   "cell_type": "markdown",
   "metadata": {},
   "source": [
    "In <b>Step 2</b> that we created `my_LP` to be a maximization problem. \n",
    "Therefore, we only need to add the objective function $c^\\intercal x$.\n",
    "The objective function for our problem is $7 \\times \\text{(corn produced)}$.\n",
    "Using our variables from <b>Step 3</b>, the objective function becomes `7*corn`.\n",
    "We use the command `+=` to add this to `my_LP`.\n",
    "\n",
    "\n",
    "Run the following line of code to add this objective to `my_LP`.   \n",
    "    "
   ]
  },
  {
   "cell_type": "code",
   "execution_count": 5,
   "metadata": {},
   "outputs": [],
   "source": [
    "# Add the objective\n",
    "\n",
    "my_LP += 7*corn"
   ]
  },
  {
   "cell_type": "markdown",
   "metadata": {},
   "source": [
    "#### Step 5: Add the constraints"
   ]
  },
  {
   "cell_type": "markdown",
   "metadata": {},
   "source": [
    "The first constraint is $\\text{corn produced} \\le 30 \\times (\\text{acres purchased})$.\n",
    "Using our variables this becomes `corn <= 30* acres`.\n",
    "We use the command `+=` to add this to `my_LP`.\n",
    "\n",
    "Run the following line of code to create this constraint and add it to the `my_LP`. "
   ]
  },
  {
   "cell_type": "code",
   "execution_count": 6,
   "metadata": {},
   "outputs": [],
   "source": [
    "# Add the first constraint\n",
    "\n",
    "my_LP += corn <= 30*acres"
   ]
  },
  {
   "cell_type": "markdown",
   "metadata": {},
   "source": [
    "The second constraint is $3 \\times (\\text{corn produced}) + 100 \\times (\\text{acres purchased}) \\le 1000$.\n",
    "\n",
    "Add this to our LP by running the following line of code."
   ]
  },
  {
   "cell_type": "code",
   "execution_count": 7,
   "metadata": {},
   "outputs": [],
   "source": [
    "# Add the second constraint\n",
    "\n",
    "my_LP += 3*corn +100*acres <= 1000"
   ]
  },
  {
   "cell_type": "markdown",
   "metadata": {},
   "source": [
    "#### Step 6: Solve the LP and print the results"
   ]
  },
  {
   "cell_type": "markdown",
   "metadata": {},
   "source": [
    "Now our linear program is completely built!\n",
    "The following line of code will display your linear program so that you may check it."
   ]
  },
  {
   "cell_type": "code",
   "execution_count": 8,
   "metadata": {},
   "outputs": [
    {
     "name": "stdout",
     "output_type": "stream",
     "text": [
      "Alice's Farm:\n",
      "MAXIMIZE\n",
      "7*Corn_produced + 0\n",
      "SUBJECT TO\n",
      "_C1: - 30 Acres_purchased + Corn_produced <= 0\n",
      "\n",
      "_C2: 100 Acres_purchased + 3 Corn_produced <= 1000\n",
      "\n",
      "VARIABLES\n",
      "Acres_purchased Continuous\n",
      "Corn_produced Continuous\n",
      "\n"
     ]
    }
   ],
   "source": [
    "# Display our linear program\n",
    "\n",
    "print(my_LP)"
   ]
  },
  {
   "cell_type": "markdown",
   "metadata": {},
   "source": [
    "<font color = 'red'>Note:</font> After running the `print(my_LP)` command, the variables displayed will not explicitly state that the variables are lower bounded by zero.\n",
    "Also, the variables will be displayed as `Continuous`. This can be ignored for now, but we will return to this when we consider discrete decision problems.\n",
    "\n",
    "The following lines of code solves our linear program."
   ]
  },
  {
   "cell_type": "code",
   "execution_count": 9,
   "metadata": {},
   "outputs": [
    {
     "data": {
      "text/plain": [
       "1"
      ]
     },
     "execution_count": 9,
     "metadata": {},
     "output_type": "execute_result"
    }
   ],
   "source": [
    "# Solve the linear program\n",
    "\n",
    "my_LP.solve()"
   ]
  },
  {
   "cell_type": "markdown",
   "metadata": {},
   "source": [
    "If everything went well, then the output should be `1`. \n",
    "This does not mean that the solution to `my_LP` equals 1, but rather the purpose of this output is just to tell us that everything went ok. \n",
    "However, we (Alice and us) would like to know the optimal objective value and the optimal values of `corn` and `acres`.\n",
    "\n",
    "<font color='red'>Note : </font> The possible output values are `-3,-2,-1,0` or `1`. \n",
    "You can check what the different output values mean at\n",
    "https://pythonhosted.org/PuLP/constants.html#pulp.constants.LpStatus.\n",
    "\n",
    "\n",
    "The optimal value of `corn` can be accessed using `corn.value()`.\n",
    "Similarly, the optimal value of `acres` can be accessed using `acres.value()`.\n",
    "The optimal objective value from `my_LP` is accessed using `value(my_LP.objective)`.\n",
    "\n",
    "<font color='red'>Note : </font>\n",
    "The character `%.2f` is a formatting tool for rounding a decimal to two places.\n",
    "It is not important for this tutorial to know how this formatting works.\n",
    "For more see https://docs.python.org/2/library/string.html. \n",
    "\n",
    "Run the following line of code to display the optimal values from `my_LP`. "
   ]
  },
  {
   "cell_type": "code",
   "execution_count": 10,
   "metadata": {},
   "outputs": [
    {
     "name": "stdout",
     "output_type": "stream",
     "text": [
      "Alice should produce 157.89 kilograms of corn.\n",
      "Alice should purchase 5.26 acres of land.\n",
      "Alice will have a profit of CHF 1105.26.\n"
     ]
    }
   ],
   "source": [
    "# Print the optimal value and the variables values\n",
    "\n",
    "opt_corn = corn.value()\n",
    "print(f'Alice should produce {opt_corn:.2f} kilograms of corn.')\n",
    "\n",
    "opt_acres = acres.value()\n",
    "print(f'Alice should purchase {opt_acres:.2f} acres of land.')\n",
    "\n",
    "opt_val = value(my_LP.objective)\n",
    "print(f'Alice will have a profit of CHF {opt_val:.2f}.')"
   ]
  },
  {
   "cell_type": "markdown",
   "metadata": {},
   "source": [
    "Congratulations! We have successfully solved our first LP. If everything was run correctly, then the output should be\n",
    "\n",
    "    Alice should produce 157.89 kilograms of corn.\n",
    "    Alice should purchase 5.26 acres of land.\n",
    "    Alice will have a profit of CHF 1105.26."
   ]
  },
  {
   "cell_type": "markdown",
   "metadata": {},
   "source": [
    "#### Conclusions"
   ]
  },
  {
   "cell_type": "markdown",
   "metadata": {},
   "source": [
    "There are six main steps to solving a linear program. \n",
    "Moreover, the basic commands that we learned are already enough to solve many optimization problems!\n",
    "One such example is the Simplified Blending Problem at https://pythonhosted.org/PuLP/CaseStudies/index.html.\n",
    "\n",
    "In the next example, we show how to use the `lpSum` command in PuLP when dealing with multiple variables."
   ]
  },
  {
   "cell_type": "markdown",
   "metadata": {},
   "source": [
    "### Example: Bob's electric company\n",
    "\n",
    "Alice's farm was a helpful example, but it was also simple with only two variables. \n",
    "What if we had a more complicated LP with more variables?\n",
    "Some LPs can have thousands of variables!\n",
    "In <b>Step 3</b> we could write the `LpVariable` command thousands of times on thousands of lines of code, but this would be tedious and prone to mistakes! \n",
    "Similarly, writing down one constraint that involves one thousand variables would be painful. \n",
    "\n",
    "In order to handle these complications, we can use `for` loops and the `lpSum` command in PuLP. \n",
    "Let us illustrate this with another example.\n",
    "\n",
    "Bob works for the electric company and must decide how to distribute electricity to the houses on his street. \n",
    "The street has seven houses, and each house requires at least 30 kWh per day. \n",
    "The company has two generators that can supply power to the houses.\n",
    "Generator 1 can supply at most 100 kWh per day and generator 2 can supply at most 150 kWh.\n",
    "The following price chart shows how much it costs (in CHF) each generator to supply 1 kWh to each house.\n",
    "\n",
    "$$\n",
    "\\begin{array}{c|c|c|c|c|c|c|c}\n",
    "&\\text{House 1}&\\text{House 2}&\\text{House 3}&\\text{House 4}&\\text{House 5}&\\text{House 6}&\\text{House 7} \\\\\n",
    "\\hline\n",
    "\\text{Generator 1} & .17 & .25 & .29 & .16 & .24 & .20 & .29\\\\\n",
    "\\text{Generator 2} & .18 & .21 & .30 & .20 & .20 & .23 & .28\\\\\n",
    "\\end{array}\n",
    "$$\n",
    "\n",
    "\n",
    "How should Bob supply power to the houses in order to minimize his daily cost?\n",
    "\n",
    "The following is a mathematical model of Bob's problem. \n",
    "We use a variable $x_{g,h}$ to denote the number of kWh that generator $g$ sends to house $h$.\n",
    "For this model, we use the abbreviation $p_{g,h}$ to denote the price to send one kWh from generator $g$ to house $h$. \n",
    "For example $p_{2,6} = .23$. \n",
    "\n",
    "$$\n",
    "\\begin{array}{rlll}\n",
    "\\min & \\displaystyle \\sum_{g=1}^2 \\sum_{h=1}^7 p_{g,h} \\cdot x_{g,h}\\\\\n",
    "\\text{s.t.} & \\displaystyle \\sum_{h=1}^7 x_{1,h} \\le 100 & \\text{for each } g =1,2 &\\text{[Generator 1 can produce at most 100 kWh]}\\\\\n",
    "&\\displaystyle \\sum_{h=1}^7 x_{2,h} \\le 150 & \\text{for each } g =1,2 &\\text{[Generator 2 can produce at most 150 kWh]}\\\\\n",
    "& \\displaystyle \\sum_{g=1}^2 x_{g,h} \\ge 30 & \\text{for each } h =1,\\dotsc, 7 &\\text{[Each house needs at least 30 kWh]} \\\\\n",
    "& x_{g,h} \\ge 0 & \\text{for each } g =1,2 \\text{ and }h =1,\\dotsc, 7.\n",
    "\\end{array}\n",
    "$$\n",
    "\n",
    "#### Solving the problem\n",
    "\n",
    "Let us follow the steps outlined above. \n",
    "<b>Step 1</b> and <b>Step 2</b> load PuLP and create an empty LP.\n",
    "Note that this is a minimization problem, so we use `LpMinimize` in the function `LpProblem`.\n",
    "We will also store the prices in a 2-dimensional Python list.\n",
    "\n",
    "Run the following line of code to run these steps. \n",
    "\n",
    "<font color='red'>Note : </font>\n",
    "Lists are useful tools for storing information in Python, but we do not need to know how to manipulate them in this example.\n",
    "All we need to know is that if we want to access a price, for instance the price from generator i to house j, then we use the code `priceGen[i-1][j-1]`.\n",
    "Recall that Python lists begin their indexing at 0 and not 1 (for a more precise indexing system, consider using Python dictionaries)."
   ]
  },
  {
   "cell_type": "code",
   "execution_count": 11,
   "metadata": {},
   "outputs": [],
   "source": [
    "# Import the necessary LP toolbox from Python\n",
    "\n",
    "from pulp import *\n",
    "\n",
    "# Create an empty linear program\n",
    "\n",
    "Electricity_LP = LpProblem(\"Bob's electricity\", LpMinimize)\n",
    "\n",
    "# Load the price chart\n",
    "# We use the notation gxhy to indicate generator x and house y\n",
    "\n",
    "pricesGen = [[0.17, 0.25, 0.29, 0.16, 0.24, 0.20, 0.29],\n",
    "             [0.18, 0.21, 0.30, 0.20, 0.20, 0.23, 0.28]]"
   ]
  },
  {
   "cell_type": "markdown",
   "metadata": {},
   "source": [
    "<b>Step 3</b> is to create the variables. \n",
    "There are 14 variables in total. \n",
    "Here are two ways to define these variables.\n",
    "One approach is to define each variable on a new line by using lines of code like `variable_1 = LpVariable(), variable_2 = LpVariable(),...`.\n",
    "However, this can be tedious and is prone to error. \n",
    "Also, some problems have thousands of variables and adding one line for each variable takes too long.\n",
    "\n",
    "A more convenient approach to defining these variables is to create the variables using a `for` loop. This allows us to turn 14 lines of code (or thousands of lines of code) into a few short lines.\n",
    "We will take this second approach.\n",
    "\n",
    "Run the following line of code to create the variables.\n",
    "\n",
    "<font color='red'>Note : </font>\n",
    "We can store the LP variables in a Python list, tuple, or dictionary. \n",
    "Here, we store the variables in a 2-dimensional list. "
   ]
  },
  {
   "cell_type": "code",
   "execution_count": 16,
   "metadata": {},
   "outputs": [
    {
     "data": {
      "text/plain": [
       "[[g0h0, g0h1, g0h2, g0h3, g0h4, g0h5, g0h6],\n",
       " [g1h0, g1h1, g1h2, g1h3, g1h4, g1h5, g1h6]]"
      ]
     },
     "execution_count": 16,
     "metadata": {},
     "output_type": "execute_result"
    }
   ],
   "source": [
    "# Create the variables\n",
    "\n",
    "variables = [[LpVariable(f'g{gen}h{house}', lowBound=0)\n",
    "              for house in range(7)]\n",
    "              for gen in range(2)]\n",
    "variables"
   ]
  },
  {
   "cell_type": "markdown",
   "metadata": {},
   "source": [
    "<b>Step 4</b> is to add the objective function $\\sum_{g=1}^2 \\sum_{h=1}^7 p_{g,h} \\cdot x_{g,h}$. \n",
    "One approach to add the objective function is to write `Electricity_LP +=` followed by all 14 terms in the objective function.\n",
    "However, as was the case when we added variables, this can be tedious and lead to mistakes.\n",
    "\n",
    "Fortunately, PuLP has a command called `lpSum` that allows us to add variables together using a `for` loop.\n",
    "The command `lpSum` works like a `for` loop with the only difference being that the `for` statements come at the end.\n",
    "\n",
    "Run the following line of code to add the objective."
   ]
  },
  {
   "cell_type": "code",
   "execution_count": 17,
   "metadata": {},
   "outputs": [],
   "source": [
    "# Add the objective\n",
    "\n",
    "Electricity_LP += lpSum([pricesGen[gen][house]*variables[gen][house] \n",
    "                         for gen in range(2) \n",
    "                         for house in range(7)])"
   ]
  },
  {
   "cell_type": "markdown",
   "metadata": {},
   "source": [
    "<b>Step 5</b> is to add the constraints. \n",
    "Luckily, we can use the `lpSum` command to help us again.\n",
    "The `lpSum` command only adds the variables together.\n",
    "It is left to us to add the inequalities `<=100`, `<= 150`, and `>= 30` to the code.\n",
    "\n",
    "Run the following line of code to add the constraints."
   ]
  },
  {
   "cell_type": "code",
   "execution_count": 18,
   "metadata": {},
   "outputs": [],
   "source": [
    "# Add the constraints\n",
    "\n",
    "# The first set of constraints is for the generators\n",
    "\n",
    "# Generator 1 can supply at most 100 kWh\n",
    "Electricity_LP += lpSum(variables[0]) <= 100\n",
    "\n",
    "# Generator 2 can supply at most 150 kWh\n",
    "Electricity_LP += lpSum(variables[1]) <= 150\n",
    "\n",
    "    \n",
    "# The second set of constraints says each house must recieve at least 30 kWh\n",
    "\n",
    "for house in range(7):\n",
    "    Electricity_LP += lpSum([variables[gen][house] for gen in range(2)]) >= 30"
   ]
  },
  {
   "cell_type": "markdown",
   "metadata": {},
   "source": [
    "Great! \n",
    "Now we have everything we need to display and solve our LP. "
   ]
  },
  {
   "cell_type": "code",
   "execution_count": 19,
   "metadata": {},
   "outputs": [
    {
     "name": "stdout",
     "output_type": "stream",
     "text": [
      "Bob's electricity:\n",
      "MINIMIZE\n",
      "0.17*g0h0 + 0.25*g0h1 + 0.29*g0h2 + 0.16*g0h3 + 0.24*g0h4 + 0.2*g0h5 + 0.29*g0h6 + 0.18*g1h0 + 0.21*g1h1 + 0.3*g1h2 + 0.2*g1h3 + 0.2*g1h4 + 0.23*g1h5 + 0.28*g1h6 + 0.0\n",
      "SUBJECT TO\n",
      "_C1: g0h0 + g0h1 + g0h2 + g0h3 + g0h4 + g0h5 + g0h6 <= 100\n",
      "\n",
      "_C2: g1h0 + g1h1 + g1h2 + g1h3 + g1h4 + g1h5 + g1h6 <= 150\n",
      "\n",
      "_C3: g0h0 + g1h0 >= 30\n",
      "\n",
      "_C4: g0h1 + g1h1 >= 30\n",
      "\n",
      "_C5: g0h2 + g1h2 >= 30\n",
      "\n",
      "_C6: g0h3 + g1h3 >= 30\n",
      "\n",
      "_C7: g0h4 + g1h4 >= 30\n",
      "\n",
      "_C8: g0h5 + g1h5 >= 30\n",
      "\n",
      "_C9: g0h6 + g1h6 >= 30\n",
      "\n",
      "VARIABLES\n",
      "g0h0 Continuous\n",
      "g0h1 Continuous\n",
      "g0h2 Continuous\n",
      "g0h3 Continuous\n",
      "g0h4 Continuous\n",
      "g0h5 Continuous\n",
      "g0h6 Continuous\n",
      "g1h0 Continuous\n",
      "g1h1 Continuous\n",
      "g1h2 Continuous\n",
      "g1h3 Continuous\n",
      "g1h4 Continuous\n",
      "g1h5 Continuous\n",
      "g1h6 Continuous\n",
      "\n",
      "Bob must spend CHF 45.50.\n",
      "Bob should send 10.00 kWh from generator 1 to house 1.\n",
      "Bob should send 0.00 kWh from generator 1 to house 2.\n",
      "Bob should send 30.00 kWh from generator 1 to house 3.\n",
      "Bob should send 30.00 kWh from generator 1 to house 4.\n",
      "Bob should send 0.00 kWh from generator 1 to house 5.\n",
      "Bob should send 30.00 kWh from generator 1 to house 6.\n",
      "Bob should send 0.00 kWh from generator 1 to house 7.\n",
      "Bob should send 20.00 kWh from generator 2 to house 1.\n",
      "Bob should send 30.00 kWh from generator 2 to house 2.\n",
      "Bob should send 0.00 kWh from generator 2 to house 3.\n",
      "Bob should send 0.00 kWh from generator 2 to house 4.\n",
      "Bob should send 30.00 kWh from generator 2 to house 5.\n",
      "Bob should send 0.00 kWh from generator 2 to house 6.\n",
      "Bob should send 30.00 kWh from generator 2 to house 7.\n"
     ]
    }
   ],
   "source": [
    "# Display our linear program\n",
    "\n",
    "print(Electricity_LP)\n",
    "\n",
    "# Solve the linear program\n",
    "\n",
    "Electricity_LP.solve()\n",
    "\n",
    "# Print the optimal value and the variables values\n",
    "\n",
    "opt_val = value(Electricity_LP.objective)\n",
    "print(f'Bob must spend CHF {opt_val:.2f}.')\n",
    "\n",
    "for gen in range(2):\n",
    "    for house in range(7):\n",
    "        opt_power = variables[gen][house].value()\n",
    "        print(f'Bob should send {opt_power:.2f} kWh from generator {gen+1} to house {house+1}.')"
   ]
  },
  {
   "cell_type": "markdown",
   "metadata": {},
   "source": [
    "If everything ran correctly, then the output should say that Bob spends CHF 45.50.\n",
    "\n",
    "#### Conclusions\n",
    "\n",
    "A linear program can have multiple variables and constraints. \n",
    "There are certain tools in Python such as dictionaries and the `lpSum` command to help us simplify our code when solving the LP."
   ]
  }
 ],
 "metadata": {
  "celltoolbar": "Raw Cell Format",
  "kernelspec": {
   "display_name": "Python 3",
   "language": "python",
   "name": "python3"
  },
  "language_info": {
   "codemirror_mode": {
    "name": "ipython",
    "version": 3
   },
   "file_extension": ".py",
   "mimetype": "text/x-python",
   "name": "python",
   "nbconvert_exporter": "python",
   "pygments_lexer": "ipython3",
   "version": "3.7.2"
  }
 },
 "nbformat": 4,
 "nbformat_minor": 4
}
